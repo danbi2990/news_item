{
 "cells": [
  {
   "cell_type": "code",
   "execution_count": 1,
   "metadata": {},
   "outputs": [],
   "source": [
    "import os\n",
    "\n",
    "import pandas as pd\n",
    "from langdetect import detect\n",
    "\n",
    "import src.mongos as mg"
   ]
  },
  {
   "cell_type": "markdown",
   "metadata": {},
   "source": [
    "# Const"
   ]
  },
  {
   "cell_type": "code",
   "execution_count": 2,
   "metadata": {},
   "outputs": [],
   "source": [
    "db_name = 'youtube_comment'\n",
    "\n",
    "vids = [  # vid(video_ids) goes to collection name\n",
    "    'XsX3ATc3FbA',  # 작은 것들을 위한 시\n",
    "]"
   ]
  },
  {
   "cell_type": "markdown",
   "metadata": {},
   "source": [
    "# Load comments"
   ]
  },
  {
   "cell_type": "code",
   "execution_count": 3,
   "metadata": {
    "code_folding": []
   },
   "outputs": [],
   "source": [
    "def get_df_from_vid(vid):\n",
    "    return mg.read_mongo(db_name, vid)  # comments, nextPageToken, savedDateTime"
   ]
  },
  {
   "cell_type": "code",
   "execution_count": 4,
   "metadata": {},
   "outputs": [
    {
     "data": {
      "text/html": [
       "<div>\n",
       "<style scoped>\n",
       "    .dataframe tbody tr th:only-of-type {\n",
       "        vertical-align: middle;\n",
       "    }\n",
       "\n",
       "    .dataframe tbody tr th {\n",
       "        vertical-align: top;\n",
       "    }\n",
       "\n",
       "    .dataframe thead th {\n",
       "        text-align: right;\n",
       "    }\n",
       "</style>\n",
       "<table border=\"1\" class=\"dataframe\">\n",
       "  <thead>\n",
       "    <tr style=\"text-align: right;\">\n",
       "      <th></th>\n",
       "      <th>comments</th>\n",
       "      <th>nextPageToken</th>\n",
       "      <th>savedDateTime</th>\n",
       "    </tr>\n",
       "  </thead>\n",
       "  <tbody>\n",
       "    <tr>\n",
       "      <th>0</th>\n",
       "      <td>[{'id': 'UgwoSFJSmi55kK1I3eF4AaABAg', 'author'...</td>\n",
       "      <td>EiYSC1hzWDNBVGMzRmJBwAEAyAEA4AEBogINKP________...</td>\n",
       "      <td>2019-04-17 16:32:26.501</td>\n",
       "    </tr>\n",
       "    <tr>\n",
       "      <th>1</th>\n",
       "      <td>[{'id': 'Ugx_VBzgjApKX6mdFmx4AaABAg', 'author'...</td>\n",
       "      <td>EiYSC1hzWDNBVGMzRmJBwAEAyAEA4AEBogINKP________...</td>\n",
       "      <td>2019-04-17 16:32:27.907</td>\n",
       "    </tr>\n",
       "    <tr>\n",
       "      <th>2</th>\n",
       "      <td>[{'id': 'Ugz6oK4sAG1SByC4In14AaABAg', 'author'...</td>\n",
       "      <td>EiYSC1hzWDNBVGMzRmJBwAEAyAEA4AEBogINKP________...</td>\n",
       "      <td>2019-04-17 16:32:29.237</td>\n",
       "    </tr>\n",
       "    <tr>\n",
       "      <th>3</th>\n",
       "      <td>[{'id': 'Ugxvo93EDTtFen6i9_14AaABAg', 'author'...</td>\n",
       "      <td>EiYSC1hzWDNBVGMzRmJBwAEAyAEA4AEBogINKP________...</td>\n",
       "      <td>2019-04-17 16:32:31.018</td>\n",
       "    </tr>\n",
       "    <tr>\n",
       "      <th>4</th>\n",
       "      <td>[{'id': 'Ugx4l1eRrz_7XpWhiOV4AaABAg', 'author'...</td>\n",
       "      <td>EiYSC1hzWDNBVGMzRmJBwAEAyAEA4AEBogINKP________...</td>\n",
       "      <td>2019-04-17 16:32:32.830</td>\n",
       "    </tr>\n",
       "  </tbody>\n",
       "</table>\n",
       "</div>"
      ],
      "text/plain": [
       "                                            comments  \\\n",
       "0  [{'id': 'UgwoSFJSmi55kK1I3eF4AaABAg', 'author'...   \n",
       "1  [{'id': 'Ugx_VBzgjApKX6mdFmx4AaABAg', 'author'...   \n",
       "2  [{'id': 'Ugz6oK4sAG1SByC4In14AaABAg', 'author'...   \n",
       "3  [{'id': 'Ugxvo93EDTtFen6i9_14AaABAg', 'author'...   \n",
       "4  [{'id': 'Ugx4l1eRrz_7XpWhiOV4AaABAg', 'author'...   \n",
       "\n",
       "                                       nextPageToken           savedDateTime  \n",
       "0  EiYSC1hzWDNBVGMzRmJBwAEAyAEA4AEBogINKP________... 2019-04-17 16:32:26.501  \n",
       "1  EiYSC1hzWDNBVGMzRmJBwAEAyAEA4AEBogINKP________... 2019-04-17 16:32:27.907  \n",
       "2  EiYSC1hzWDNBVGMzRmJBwAEAyAEA4AEBogINKP________... 2019-04-17 16:32:29.237  \n",
       "3  EiYSC1hzWDNBVGMzRmJBwAEAyAEA4AEBogINKP________... 2019-04-17 16:32:31.018  \n",
       "4  EiYSC1hzWDNBVGMzRmJBwAEAyAEA4AEBogINKP________... 2019-04-17 16:32:32.830  "
      ]
     },
     "execution_count": 4,
     "metadata": {},
     "output_type": "execute_result"
    }
   ],
   "source": [
    "raw = get_df_from_vid(vids[0]); raw.head()"
   ]
  },
  {
   "cell_type": "code",
   "execution_count": 5,
   "metadata": {},
   "outputs": [
    {
     "name": "stdout",
     "output_type": "stream",
     "text": [
      "<class 'pandas.core.frame.DataFrame'>\n",
      "RangeIndex: 29942 entries, 0 to 29941\n",
      "Data columns (total 3 columns):\n",
      "comments         29942 non-null object\n",
      "nextPageToken    29942 non-null object\n",
      "savedDateTime    29942 non-null datetime64[ns]\n",
      "dtypes: datetime64[ns](1), object(2)\n",
      "memory usage: 701.8+ KB\n"
     ]
    }
   ],
   "source": [
    "raw.info()"
   ]
  },
  {
   "cell_type": "markdown",
   "metadata": {
    "heading_collapsed": true
   },
   "source": [
    "# Transform comments"
   ]
  },
  {
   "cell_type": "code",
   "execution_count": 6,
   "metadata": {
    "hidden": true,
    "scrolled": true
   },
   "outputs": [],
   "source": [
    "def add_token_and_date_to_comments(row):\n",
    "    comments = row['comments']  # list\n",
    "    token = row['nextPageToken']  # string\n",
    "    dt = row['savedDateTime']  # dt   \n",
    "    \n",
    "    result_from_replies = []\n",
    "    for c in comments:\n",
    "        replies = c.get('replies', [])\n",
    "        replies2 = [{**r, 'nextPageToken': token, 'savedDateTime': dt} for r in replies]\n",
    "        result_from_replies.extend(replies2)\n",
    "    \n",
    "    result_from_comments = [{**cmt, 'nextPageToken': token, 'savedDateTime': dt} for cmt in comments]\n",
    "    result = result_from_replies + result_from_comments\n",
    "    return result\n",
    "\n",
    "\n",
    "def get_comments_from_series_list_cmt(series_list_cmt):\n",
    "    data = [cmt for l in series_list_cmt for cmt in l]; data\n",
    "    return pd.DataFrame(data)\n",
    "    \n",
    "\n",
    "# series_list_cmt = sample.apply(lambda x: add_token_and_date_to_comments(x), axis=1);series_list_cmt\n",
    "# raw_comments = get_comments_from_series_list_cmt(series_list_cmt); raw_comments\n",
    "\n",
    "# replies = raw_comments['replies'].loc[raw_comments['replies'].notna()]\n",
    "# comments_from_replies = get_comments_from_series_list_cmt(replies)"
   ]
  },
  {
   "cell_type": "markdown",
   "metadata": {},
   "source": [
    "# Load langs"
   ]
  },
  {
   "cell_type": "code",
   "execution_count": 7,
   "metadata": {},
   "outputs": [
    {
     "data": {
      "text/html": [
       "<div>\n",
       "<style scoped>\n",
       "    .dataframe tbody tr th:only-of-type {\n",
       "        vertical-align: middle;\n",
       "    }\n",
       "\n",
       "    .dataframe tbody tr th {\n",
       "        vertical-align: top;\n",
       "    }\n",
       "\n",
       "    .dataframe thead th {\n",
       "        text-align: right;\n",
       "    }\n",
       "</style>\n",
       "<table border=\"1\" class=\"dataframe\">\n",
       "  <thead>\n",
       "    <tr style=\"text-align: right;\">\n",
       "      <th></th>\n",
       "      <th>639-1</th>\n",
       "      <th>639-2/B</th>\n",
       "      <th>639-2/T</th>\n",
       "      <th>639-3</th>\n",
       "      <th>ISO language name</th>\n",
       "      <th>Language family</th>\n",
       "      <th>Native name (endonym)</th>\n",
       "      <th>Notes</th>\n",
       "    </tr>\n",
       "  </thead>\n",
       "  <tbody>\n",
       "    <tr>\n",
       "      <th>0</th>\n",
       "      <td>ab</td>\n",
       "      <td>abk</td>\n",
       "      <td>abk</td>\n",
       "      <td>abk</td>\n",
       "      <td>Abkhazian</td>\n",
       "      <td>Northwest Caucasian</td>\n",
       "      <td>аҧсуа бызшәа, аҧсшәа</td>\n",
       "      <td>also known as Abkhaz</td>\n",
       "    </tr>\n",
       "    <tr>\n",
       "      <th>1</th>\n",
       "      <td>aa</td>\n",
       "      <td>aar</td>\n",
       "      <td>aar</td>\n",
       "      <td>aar</td>\n",
       "      <td>Afar</td>\n",
       "      <td>Afro-Asiatic</td>\n",
       "      <td>Afaraf</td>\n",
       "      <td>NaN</td>\n",
       "    </tr>\n",
       "    <tr>\n",
       "      <th>2</th>\n",
       "      <td>af</td>\n",
       "      <td>afr</td>\n",
       "      <td>afr</td>\n",
       "      <td>afr</td>\n",
       "      <td>Afrikaans</td>\n",
       "      <td>Indo-European</td>\n",
       "      <td>Afrikaans</td>\n",
       "      <td>NaN</td>\n",
       "    </tr>\n",
       "    <tr>\n",
       "      <th>3</th>\n",
       "      <td>ak</td>\n",
       "      <td>aka</td>\n",
       "      <td>aka</td>\n",
       "      <td>aka + 2</td>\n",
       "      <td>Akan</td>\n",
       "      <td>Niger–Congo</td>\n",
       "      <td>Akan</td>\n",
       "      <td>macrolanguage, Twi is [tw/twi], Fanti is [fat]</td>\n",
       "    </tr>\n",
       "    <tr>\n",
       "      <th>4</th>\n",
       "      <td>sq</td>\n",
       "      <td>alb</td>\n",
       "      <td>sqi</td>\n",
       "      <td>sqi + 4</td>\n",
       "      <td>Albanian</td>\n",
       "      <td>Indo-European</td>\n",
       "      <td>Shqip</td>\n",
       "      <td>macrolanguage, \"Albanian Phylozone\" in 639-6</td>\n",
       "    </tr>\n",
       "  </tbody>\n",
       "</table>\n",
       "</div>"
      ],
      "text/plain": [
       "  639-1 639-2/B 639-2/T    639-3 ISO language name      Language family  \\\n",
       "0    ab     abk     abk      abk         Abkhazian  Northwest Caucasian   \n",
       "1    aa     aar     aar      aar              Afar         Afro-Asiatic   \n",
       "2    af     afr     afr      afr         Afrikaans        Indo-European   \n",
       "3    ak     aka     aka  aka + 2              Akan          Niger–Congo   \n",
       "4    sq     alb     sqi  sqi + 4          Albanian        Indo-European   \n",
       "\n",
       "  Native name (endonym)                                           Notes  \n",
       "0  аҧсуа бызшәа, аҧсшәа                            also known as Abkhaz  \n",
       "1                Afaraf                                             NaN  \n",
       "2             Afrikaans                                             NaN  \n",
       "3                  Akan  macrolanguage, Twi is [tw/twi], Fanti is [fat]  \n",
       "4                 Shqip    macrolanguage, \"Albanian Phylozone\" in 639-6  "
      ]
     },
     "execution_count": 7,
     "metadata": {},
     "output_type": "execute_result"
    }
   ],
   "source": [
    "langs = mg.read_mongo('youtube_comment', 'languages'); langs.head()"
   ]
  },
  {
   "cell_type": "markdown",
   "metadata": {},
   "source": [
    "# Add langs"
   ]
  },
  {
   "cell_type": "code",
   "execution_count": 8,
   "metadata": {
    "code_folding": []
   },
   "outputs": [],
   "source": [
    "from langdetect.lang_detect_exception import LangDetectException\n",
    "\n",
    "error_codes = {\n",
    "    0: 'NoTextError',\n",
    "    1: 'FormatError',\n",
    "    2: 'FileLoadError',\n",
    "    3: 'DuplicateLangError',\n",
    "    4: 'NeedLoadProfileError',\n",
    "    5: 'CantDetectError',\n",
    "    6: 'CantOpenTrainData',\n",
    "    7: 'TrainDataFormatError',\n",
    "    8: 'InitParamError',\n",
    "}\n",
    "\n",
    "def detect_lang(row):\n",
    "    text = row['text']\n",
    "    author = row['author']\n",
    "    try:\n",
    "        return detect(text)\n",
    "    except (LangDetectException, TypeError) as e:\n",
    "        try:\n",
    "            return detect(author)\n",
    "        except LangDetectException as e:\n",
    "            return error_codes[e.code]\n",
    "        except TypeError as e:\n",
    "            return 'TypeError'\n",
    "\n",
    "def detect_text(t):\n",
    "    try:\n",
    "        return detect(t)\n",
    "    except LangDetectException as e:\n",
    "        return error_codes[e.code]\n",
    "\n",
    "def detect_author(a):\n",
    "    try:\n",
    "        return detect(a)\n",
    "    except LangDetectException as e:\n",
    "        return error_codes[e.code]\n",
    "    \n",
    "\n",
    "def add_langs(raw_comments):\n",
    "    comments = raw_comments.copy()\n",
    "\n",
    "    comments['639-1'] = comments[['text', 'author']].apply(detect_lang, axis=1)\n",
    "    comments = comments.merge(langs[['ISO language name', '639-1']], on='639-1', how='left')\n",
    "    comments['ISO language name'].fillna(comments['639-1'], inplace=True)\n",
    "    return comments\n",
    "\n",
    "# comments['lang_text'] = comments['text'].apply(detect_text)\n",
    "# comments['lang_author'] = comments['author'].apply(detect_author)\n",
    "# comments = comments.merge(langs[['ISO language name', '639-1']], left_on='lang_text', right_on='639-1', how='left')\n",
    "\n",
    "# comments = add_langs(raw_comments)\n",
    "\n",
    "# print(len(comments))\n",
    "# comments"
   ]
  },
  {
   "cell_type": "markdown",
   "metadata": {},
   "source": [
    "# Transform Columns"
   ]
  },
  {
   "cell_type": "code",
   "execution_count": 9,
   "metadata": {},
   "outputs": [],
   "source": [
    "def rename_columns(comments):\n",
    "    return comments.rename(columns={'639-1': 'langCode', 'ISO language name': 'langName'})\n",
    "\n",
    "\n",
    "def drop_columns(comments):\n",
    "    return comments.drop('replies', axis=1)"
   ]
  },
  {
   "cell_type": "markdown",
   "metadata": {},
   "source": [
    "# Calculate date time"
   ]
  },
  {
   "cell_type": "code",
   "execution_count": 10,
   "metadata": {},
   "outputs": [],
   "source": [
    "from datetime import timedelta\n",
    "import re\n",
    "\n",
    "\n",
    "def add_date_time(row):\n",
    "    saved = row['savedDateTime']\n",
    "    time = row['time']\n",
    "    obj = re.search(r'(\\d+)\\s', time)\n",
    "    if obj:\n",
    "        value = int(obj.group(1))\n",
    "    value_in_seconds = value\n",
    "    factor_table = {'second': 1, 'minute': 60, 'day': 60*24, 'month': 60*24*30, 'year': 60*24*365}\n",
    "    for k, v in factor_table.items():\n",
    "        if k in time:\n",
    "            value_in_seconds = value * v\n",
    "            break\n",
    "    return saved - timedelta(seconds=value_in_seconds) + timedelta(hours=9)  # Korean Time"
   ]
  },
  {
   "cell_type": "code",
   "execution_count": 94,
   "metadata": {
    "collapsed": true
   },
   "outputs": [
    {
     "data": {
      "text/plain": [
       "0     2019-04-17 16:32:17.501\n",
       "1     2019-04-17 16:32:15.501\n",
       "2     2019-04-17 16:32:13.501\n",
       "3     2019-04-17 16:32:11.501\n",
       "4     2019-04-17 16:32:08.501\n",
       "5     2019-04-17 16:32:07.501\n",
       "6     2019-04-17 16:32:03.501\n",
       "7     2019-04-17 16:31:54.501\n",
       "8     2019-04-17 16:31:46.501\n",
       "9     2019-04-17 16:31:46.501\n",
       "10    2019-04-17 16:31:42.501\n",
       "11    2019-04-17 16:31:42.501\n",
       "12    2019-04-17 16:31:39.501\n",
       "13    2019-04-17 16:31:38.501\n",
       "14    2019-04-17 16:31:37.501\n",
       "15    2019-04-17 16:31:37.501\n",
       "16    2019-04-17 16:31:34.501\n",
       "17    2019-04-17 16:31:32.501\n",
       "18    2019-04-17 16:31:26.501\n",
       "19    2019-04-17 16:31:26.501\n",
       "20    2019-04-17 16:31:47.907\n",
       "21    2019-04-17 16:32:00.907\n",
       "22    2019-04-17 16:31:27.907\n",
       "23    2019-04-17 16:31:27.907\n",
       "24    2019-04-17 16:31:27.907\n",
       "25    2019-04-17 16:31:27.907\n",
       "26    2019-04-17 16:31:27.907\n",
       "27    2019-04-17 16:31:27.907\n",
       "28    2019-04-17 16:31:27.907\n",
       "29    2019-04-17 16:31:27.907\n",
       "                ...          \n",
       "89    2019-04-17 16:29:31.018\n",
       "90    2019-04-17 16:29:31.018\n",
       "91    2019-04-17 16:28:31.018\n",
       "92    2019-04-17 16:28:31.018\n",
       "93    2019-04-17 16:28:31.018\n",
       "94    2019-04-17 16:28:31.018\n",
       "95    2019-04-17 16:30:32.830\n",
       "96    2019-04-17 16:31:32.830\n",
       "97    2019-04-17 16:31:32.830\n",
       "98    2019-04-17 16:29:32.830\n",
       "99    2019-04-17 16:28:32.830\n",
       "100   2019-04-17 16:28:32.830\n",
       "101   2019-04-17 16:28:32.830\n",
       "102   2019-04-17 16:28:32.830\n",
       "103   2019-04-17 16:28:32.830\n",
       "104   2019-04-17 16:28:32.830\n",
       "105   2019-04-17 16:28:32.830\n",
       "106   2019-04-17 16:28:32.830\n",
       "107   2019-04-17 16:28:32.830\n",
       "108   2019-04-17 16:28:32.830\n",
       "109   2019-04-17 16:28:32.830\n",
       "110   2019-04-17 16:28:32.830\n",
       "111   2019-04-17 16:28:32.830\n",
       "112   2019-04-17 16:28:32.830\n",
       "113   2019-04-17 16:28:32.830\n",
       "114   2019-04-17 16:28:32.830\n",
       "115   2019-04-17 16:28:32.830\n",
       "116   2019-04-17 16:27:32.830\n",
       "117   2019-04-17 16:27:32.830\n",
       "118   2019-04-17 16:27:32.830\n",
       "Length: 119, dtype: datetime64[ns]"
      ]
     },
     "execution_count": 94,
     "metadata": {},
     "output_type": "execute_result"
    }
   ],
   "source": [
    "comments[['savedDateTime', 'time']].apply(add_date_time, axis=1)"
   ]
  },
  {
   "cell_type": "code",
   "execution_count": 88,
   "metadata": {},
   "outputs": [
    {
     "data": {
      "text/plain": [
       "'4'"
      ]
     },
     "execution_count": 88,
     "metadata": {},
     "output_type": "execute_result"
    }
   ],
   "source": [
    "re.search(r'(\\d+)\\s', '4 minutes ago').group(1)"
   ]
  },
  {
   "cell_type": "markdown",
   "metadata": {},
   "source": [
    "# Execution"
   ]
  },
  {
   "cell_type": "code",
   "execution_count": null,
   "metadata": {},
   "outputs": [],
   "source": [
    "sample = raw.head()"
   ]
  },
  {
   "cell_type": "code",
   "execution_count": 11,
   "metadata": {
    "scrolled": true
   },
   "outputs": [
    {
     "data": {
      "text/plain": [
       "0        [{'id': 'UgwoSFJSmi55kK1I3eF4AaABAg', 'author'...\n",
       "1        [{'id': 'UgwdsFKPLkKI9PSLe_B4AaABAg.8tplTwmFs8...\n",
       "2        [{'id': 'Ugw2SWiQ9L-WM81arPd4AaABAg.8tplStq-sN...\n",
       "3        [{'id': 'Ugxvo93EDTtFen6i9_14AaABAg.8tplMaNTBy...\n",
       "4        [{'id': 'UgyN-1ghJRP1QRZbsKB4AaABAg.8tpl8mMiYb...\n",
       "5        [{'id': 'UgzGqIbsRkfmgv5Nekh4AaABAg.8tpl58tBbz...\n",
       "6        [{'id': 'UgxQqdDUIPraI_zGhOV4AaABAg', 'author'...\n",
       "7        [{'id': 'UgxUIrlB1mv9Jc6HoT54AaABAg.8tpkuZA45i...\n",
       "8        [{'id': 'Ugzi6mK4ziW3Thw6xEZ4AaABAg.8tpkq11B0h...\n",
       "9        [{'id': 'UgxQvQs6H9IoJb8YdDN4AaABAg.8tpkjtUFc7...\n",
       "10       [{'id': 'Ugy4A6FvZI7VNgSTZq14AaABAg.8tpkdCdfTx...\n",
       "11       [{'id': 'UgwlhswzYfGqZ3iYSZJ4AaABAg.8tpkaDbiKU...\n",
       "12       [{'id': 'Ugzz782TlEfeyAPv1IJ4AaABAg.8tpkUoQMYR...\n",
       "13       [{'id': 'UgyN7RqqtdhPcG9P8Fd4AaABAg.8tpkMSsyH5...\n",
       "14       [{'id': 'UgzZ-R46wpm1gtMMliB4AaABAg.8tpkJeTgZb...\n",
       "15       [{'id': 'UgwV-JLN7LF6VF2nKhd4AaABAg.8tpkDiuHT0...\n",
       "16       [{'id': 'UgyZRRHtNnfmreLx6O94AaABAg.8tpk9UgHhX...\n",
       "17       [{'id': 'UgxwF2ouHp-A3TbfNdZ4AaABAg.8tpk60WPTV...\n",
       "18       [{'id': 'Ugyy4ae0ukSKSaY1B2J4AaABAg.8tpjwYoPXj...\n",
       "19       [{'id': 'UgxwcpbeQafqo0Z4D_B4AaABAg.8tpjuFvfuM...\n",
       "20       [{'id': 'Ugx96KIHuLZ-rkw5Bf54AaABAg.8tpjn8HaKj...\n",
       "21       [{'id': 'UgxqU80x12MizWfpVV54AaABAg.8tpjjEAK_Y...\n",
       "22       [{'id': 'UgwuM_F8riySNYRNLnd4AaABAg.8tpjcrcUR1...\n",
       "23       [{'id': 'UgyK5qG09UTgczpE0lZ4AaABAg.8tpjSL1ELD...\n",
       "24       [{'id': 'Ugx6Rr6S_Kk4A6HXNNJ4AaABAg.8tpjRhFpmR...\n",
       "25       [{'id': 'UgxXGabHAJ8FiVH7emh4AaABAg.8tpjJIRJb6...\n",
       "26       [{'id': 'Ugw-5tRPrk8mJGGWZqN4AaABAg.8tpjE65btt...\n",
       "27       [{'id': 'UgwFdyHN2Q_7WEPtoB94AaABAg.8tpj9UVUq1...\n",
       "28       [{'id': 'Ugz4ut2dQGK138G9phh4AaABAg.8tpj2xjbCQ...\n",
       "29       [{'id': 'UgwQNP7WOI8wFy0G_ip4AaABAg.8tpizYhTlN...\n",
       "                               ...                        \n",
       "29912    [{'id': 'UgxYn1eahdtsOT3rEzp4AaABAg.8te_uqkHm8...\n",
       "29913    [{'id': 'UgxgZMNBMDxelIi33w14AaABAg.8te_uRpn3y...\n",
       "29914    [{'id': 'Ugzxs9fcwsEdD7CZKuR4AaABAg.8te_u7lb0h...\n",
       "29915    [{'id': 'UgwvJ-m15XZeueALbUl4AaABAg.8te_txRVyj...\n",
       "29916    [{'id': 'Ugzfg_LWWfXbwC9MnH14AaABAg.8te_to241z...\n",
       "29917    [{'id': 'UgxFdmAKxRoSjThuz5d4AaABAg.8te_tgJJB3...\n",
       "29918    [{'id': 'UgxNFI_8GypJIJt_pGt4AaABAg.8te_tRNn73...\n",
       "29919    [{'id': 'Ugz_cgvbBlmBf_Bgozl4AaABAg.8te_tBxoPs...\n",
       "29920    [{'id': 'UgyBbhc1g2xHxLUZJHl4AaABAg.8te_st4cFa...\n",
       "29921    [{'id': 'UgzfVqkBiKlwIcw3WVR4AaABAg', 'author'...\n",
       "29922    [{'id': 'UgwhVGeKV3xOy2MpIaN4AaABAg.8te_sGAsAq...\n",
       "29923    [{'id': 'Ugxox7q1azTObStghfd4AaABAg.8te_s2o53G...\n",
       "29924    [{'id': 'Ugz5k5DSU3VFzsY24OZ4AaABAg.8te_ryVqTD...\n",
       "29925    [{'id': 'UgwhCx9n4E4I8ZZYHAN4AaABAg.8te_rfYjtw...\n",
       "29926    [{'id': 'UgzAlKlRaeGhUYDBy9N4AaABAg.8te_rSL0Ht...\n",
       "29927    [{'id': 'UgxCMFFHm9iJiCY1SlV4AaABAg.8te_rG5jv5...\n",
       "29928    [{'id': 'UgwwS5XPh0xP4yTGcdp4AaABAg.8te_r4FEsZ...\n",
       "29929    [{'id': 'UgxR_Weaq79d1fptUO54AaABAg.8te_qvuCT3...\n",
       "29930    [{'id': 'Ugy8OXdrrJaf7tB4dZZ4AaABAg', 'author'...\n",
       "29931    [{'id': 'UgwgV7TC97GTvgOsEol4AaABAg.8te_qWAPQP...\n",
       "29932    [{'id': 'Ugz5HfQsjHUb9yUPJc54AaABAg.8te_qKmMbz...\n",
       "29933    [{'id': 'UgzvzRUQgGxn4_klVK54AaABAg.8te_q5x6sc...\n",
       "29934    [{'id': 'UgyQIXEw9sJ7Z3iPTKB4AaABAg.8te_pw86bg...\n",
       "29935    [{'id': 'UgwIPnxl-IStz1vewSV4AaABAg', 'author'...\n",
       "29936    [{'id': 'UgxhTv3Th99UEEtrbl14AaABAg.8te_pVucS5...\n",
       "29937    [{'id': 'UgyeioWFbICxjezzoQR4AaABAg.8te_pIluUu...\n",
       "29938    [{'id': 'Ugwq0TVAYCXFg7yGDkF4AaABAg.8te_orRIyv...\n",
       "29939    [{'id': 'UgwacT9xsQl82jAqMI54AaABAg.8te_obORfw...\n",
       "29940    [{'id': 'UgzXHVco8N9onoLdsXN4AaABAg.8te_oPB3Ym...\n",
       "29941    [{'id': 'UgyQTO4XBfIPND0JGqt4AaABAg.8te_oDH5Au...\n",
       "Length: 29942, dtype: object"
      ]
     },
     "execution_count": 11,
     "metadata": {},
     "output_type": "execute_result"
    }
   ],
   "source": [
    "series_list_cmt = raw.apply(lambda x: add_token_and_date_to_comments(x), axis=1);series_list_cmt"
   ]
  },
  {
   "cell_type": "code",
   "execution_count": 13,
   "metadata": {},
   "outputs": [
    {
     "data": {
      "text/html": [
       "<div>\n",
       "<style scoped>\n",
       "    .dataframe tbody tr th:only-of-type {\n",
       "        vertical-align: middle;\n",
       "    }\n",
       "\n",
       "    .dataframe tbody tr th {\n",
       "        vertical-align: top;\n",
       "    }\n",
       "\n",
       "    .dataframe thead th {\n",
       "        text-align: right;\n",
       "    }\n",
       "</style>\n",
       "<table border=\"1\" class=\"dataframe\">\n",
       "  <thead>\n",
       "    <tr style=\"text-align: right;\">\n",
       "      <th></th>\n",
       "      <th>author</th>\n",
       "      <th>authorLink</th>\n",
       "      <th>authorThumb</th>\n",
       "      <th>edited</th>\n",
       "      <th>hasReplies</th>\n",
       "      <th>id</th>\n",
       "      <th>likes</th>\n",
       "      <th>nextPageToken</th>\n",
       "      <th>numReplies</th>\n",
       "      <th>replies</th>\n",
       "      <th>repliesToken</th>\n",
       "      <th>savedDateTime</th>\n",
       "      <th>text</th>\n",
       "      <th>time</th>\n",
       "      <th>timestamp</th>\n",
       "    </tr>\n",
       "  </thead>\n",
       "  <tbody>\n",
       "    <tr>\n",
       "      <th>0</th>\n",
       "      <td>Nhung Nguyen</td>\n",
       "      <td>/channel/UC1PS8rESewcXAQaILjwp5Rw</td>\n",
       "      <td>https://yt3.ggpht.com/-LqedvkhhNgM/AAAAAAAAAAI...</td>\n",
       "      <td>False</td>\n",
       "      <td>False</td>\n",
       "      <td>UgwoSFJSmi55kK1I3eF4AaABAg</td>\n",
       "      <td>0</td>\n",
       "      <td>EiYSC1hzWDNBVGMzRmJBwAEAyAEA4AEBogINKP________...</td>\n",
       "      <td>NaN</td>\n",
       "      <td>NaN</td>\n",
       "      <td>NaN</td>\n",
       "      <td>2019-04-17 16:32:26.501</td>\n",
       "      <td>보라해\\n 방탄소년단×아미\\n베트남</td>\n",
       "      <td>9 seconds ago</td>\n",
       "      <td>1.555519e+12</td>\n",
       "    </tr>\n",
       "    <tr>\n",
       "      <th>1</th>\n",
       "      <td>DAMMAR OY</td>\n",
       "      <td>/channel/UCemVva3rTGyw9UukIm-UfaQ</td>\n",
       "      <td>https://yt3.ggpht.com/-ERau5tSnPmk/AAAAAAAAAAI...</td>\n",
       "      <td>False</td>\n",
       "      <td>False</td>\n",
       "      <td>UgwQXZq0Gu8M4x2KJuR4AaABAg</td>\n",
       "      <td>1</td>\n",
       "      <td>EiYSC1hzWDNBVGMzRmJBwAEAyAEA4AEBogINKP________...</td>\n",
       "      <td>NaN</td>\n",
       "      <td>NaN</td>\n",
       "      <td>NaN</td>\n",
       "      <td>2019-04-17 16:32:26.501</td>\n",
       "      <td>Beat the world record;)</td>\n",
       "      <td>11 seconds ago</td>\n",
       "      <td>1.555519e+12</td>\n",
       "    </tr>\n",
       "    <tr>\n",
       "      <th>2</th>\n",
       "      <td>Nhu Minie</td>\n",
       "      <td>/channel/UCCAVkBY3T95R158d-fHEZDg</td>\n",
       "      <td>https://yt3.ggpht.com/-gRt33JzS8rI/AAAAAAAAAAI...</td>\n",
       "      <td>False</td>\n",
       "      <td>False</td>\n",
       "      <td>UgxmN6-QLDFCl2rPyKx4AaABAg</td>\n",
       "      <td>0</td>\n",
       "      <td>EiYSC1hzWDNBVGMzRmJBwAEAyAEA4AEBogINKP________...</td>\n",
       "      <td>NaN</td>\n",
       "      <td>NaN</td>\n",
       "      <td>NaN</td>\n",
       "      <td>2019-04-17 16:32:26.501</td>\n",
       "      <td>well, the number is gradually slowing down :( ...</td>\n",
       "      <td>13 seconds ago</td>\n",
       "      <td>1.555519e+12</td>\n",
       "    </tr>\n",
       "    <tr>\n",
       "      <th>3</th>\n",
       "      <td>JUNG KOOKiE</td>\n",
       "      <td>/channel/UCu76hhfYZFEz1TH5UrpuGUg</td>\n",
       "      <td>https://yt3.ggpht.com/-EQBxzBIi6Z8/AAAAAAAAAAI...</td>\n",
       "      <td>False</td>\n",
       "      <td>False</td>\n",
       "      <td>UgwTXeJvgWg38VczBWx4AaABAg</td>\n",
       "      <td>1</td>\n",
       "      <td>EiYSC1hzWDNBVGMzRmJBwAEAyAEA4AEBogINKP________...</td>\n",
       "      <td>NaN</td>\n",
       "      <td>NaN</td>\n",
       "      <td>NaN</td>\n",
       "      <td>2019-04-17 16:32:26.501</td>\n",
       "      <td>To those who streams.\\n•DON'T clear YT history...</td>\n",
       "      <td>15 seconds ago</td>\n",
       "      <td>1.555519e+12</td>\n",
       "    </tr>\n",
       "    <tr>\n",
       "      <th>4</th>\n",
       "      <td>CHUBBY JK</td>\n",
       "      <td>/channel/UCr_oUM5imlQqOoERdUJUfnA</td>\n",
       "      <td>https://yt3.ggpht.com/-SSsjOlr80CA/AAAAAAAAAAI...</td>\n",
       "      <td>False</td>\n",
       "      <td>False</td>\n",
       "      <td>Ugx66bCBBj5LSxG-fNZ4AaABAg</td>\n",
       "      <td>0</td>\n",
       "      <td>EiYSC1hzWDNBVGMzRmJBwAEAyAEA4AEBogINKP________...</td>\n",
       "      <td>NaN</td>\n",
       "      <td>NaN</td>\n",
       "      <td>NaN</td>\n",
       "      <td>2019-04-17 16:32:26.501</td>\n",
       "      <td>Love is nothing stronger than the bond between...</td>\n",
       "      <td>18 seconds ago</td>\n",
       "      <td>1.555519e+12</td>\n",
       "    </tr>\n",
       "  </tbody>\n",
       "</table>\n",
       "</div>"
      ],
      "text/plain": [
       "         author                         authorLink  \\\n",
       "0  Nhung Nguyen  /channel/UC1PS8rESewcXAQaILjwp5Rw   \n",
       "1     DAMMAR OY  /channel/UCemVva3rTGyw9UukIm-UfaQ   \n",
       "2     Nhu Minie  /channel/UCCAVkBY3T95R158d-fHEZDg   \n",
       "3   JUNG KOOKiE  /channel/UCu76hhfYZFEz1TH5UrpuGUg   \n",
       "4     CHUBBY JK  /channel/UCr_oUM5imlQqOoERdUJUfnA   \n",
       "\n",
       "                                         authorThumb  edited hasReplies  \\\n",
       "0  https://yt3.ggpht.com/-LqedvkhhNgM/AAAAAAAAAAI...   False      False   \n",
       "1  https://yt3.ggpht.com/-ERau5tSnPmk/AAAAAAAAAAI...   False      False   \n",
       "2  https://yt3.ggpht.com/-gRt33JzS8rI/AAAAAAAAAAI...   False      False   \n",
       "3  https://yt3.ggpht.com/-EQBxzBIi6Z8/AAAAAAAAAAI...   False      False   \n",
       "4  https://yt3.ggpht.com/-SSsjOlr80CA/AAAAAAAAAAI...   False      False   \n",
       "\n",
       "                           id  likes  \\\n",
       "0  UgwoSFJSmi55kK1I3eF4AaABAg      0   \n",
       "1  UgwQXZq0Gu8M4x2KJuR4AaABAg      1   \n",
       "2  UgxmN6-QLDFCl2rPyKx4AaABAg      0   \n",
       "3  UgwTXeJvgWg38VczBWx4AaABAg      1   \n",
       "4  Ugx66bCBBj5LSxG-fNZ4AaABAg      0   \n",
       "\n",
       "                                       nextPageToken  numReplies replies  \\\n",
       "0  EiYSC1hzWDNBVGMzRmJBwAEAyAEA4AEBogINKP________...         NaN     NaN   \n",
       "1  EiYSC1hzWDNBVGMzRmJBwAEAyAEA4AEBogINKP________...         NaN     NaN   \n",
       "2  EiYSC1hzWDNBVGMzRmJBwAEAyAEA4AEBogINKP________...         NaN     NaN   \n",
       "3  EiYSC1hzWDNBVGMzRmJBwAEAyAEA4AEBogINKP________...         NaN     NaN   \n",
       "4  EiYSC1hzWDNBVGMzRmJBwAEAyAEA4AEBogINKP________...         NaN     NaN   \n",
       "\n",
       "  repliesToken           savedDateTime  \\\n",
       "0          NaN 2019-04-17 16:32:26.501   \n",
       "1          NaN 2019-04-17 16:32:26.501   \n",
       "2          NaN 2019-04-17 16:32:26.501   \n",
       "3          NaN 2019-04-17 16:32:26.501   \n",
       "4          NaN 2019-04-17 16:32:26.501   \n",
       "\n",
       "                                                text            time  \\\n",
       "0                                보라해\\n 방탄소년단×아미\\n베트남   9 seconds ago   \n",
       "1                            Beat the world record;)  11 seconds ago   \n",
       "2  well, the number is gradually slowing down :( ...  13 seconds ago   \n",
       "3  To those who streams.\\n•DON'T clear YT history...  15 seconds ago   \n",
       "4  Love is nothing stronger than the bond between...  18 seconds ago   \n",
       "\n",
       "      timestamp  \n",
       "0  1.555519e+12  \n",
       "1  1.555519e+12  \n",
       "2  1.555519e+12  \n",
       "3  1.555519e+12  \n",
       "4  1.555519e+12  "
      ]
     },
     "execution_count": 13,
     "metadata": {},
     "output_type": "execute_result"
    }
   ],
   "source": [
    "raw_comments = get_comments_from_series_list_cmt(series_list_cmt); raw_comments.head()"
   ]
  },
  {
   "cell_type": "code",
   "execution_count": null,
   "metadata": {},
   "outputs": [],
   "source": [
    "comments = add_langs(raw_comments); comments.head()"
   ]
  },
  {
   "cell_type": "code",
   "execution_count": null,
   "metadata": {},
   "outputs": [],
   "source": [
    "comments = rename_columns(comments)"
   ]
  },
  {
   "cell_type": "code",
   "execution_count": null,
   "metadata": {},
   "outputs": [],
   "source": [
    "comments = drop_columns(comments)"
   ]
  },
  {
   "cell_type": "code",
   "execution_count": null,
   "metadata": {},
   "outputs": [],
   "source": [
    "comments['dateTime'] = comments[['savedDateTime', 'time']].apply(add_date_time, axis=1)"
   ]
  },
  {
   "cell_type": "code",
   "execution_count": null,
   "metadata": {},
   "outputs": [],
   "source": [
    "print(len(comments))\n",
    "comments"
   ]
  },
  {
   "cell_type": "markdown",
   "metadata": {},
   "source": [
    "# ..."
   ]
  },
  {
   "cell_type": "markdown",
   "metadata": {},
   "source": [
    "# Groupby language"
   ]
  },
  {
   "cell_type": "code",
   "execution_count": 80,
   "metadata": {
    "scrolled": true
   },
   "outputs": [
    {
     "data": {
      "text/html": [
       "<div>\n",
       "<style scoped>\n",
       "    .dataframe tbody tr th:only-of-type {\n",
       "        vertical-align: middle;\n",
       "    }\n",
       "\n",
       "    .dataframe tbody tr th {\n",
       "        vertical-align: top;\n",
       "    }\n",
       "\n",
       "    .dataframe thead th {\n",
       "        text-align: right;\n",
       "    }\n",
       "</style>\n",
       "<table border=\"1\" class=\"dataframe\">\n",
       "  <thead>\n",
       "    <tr style=\"text-align: right;\">\n",
       "      <th></th>\n",
       "      <th>id</th>\n",
       "    </tr>\n",
       "    <tr>\n",
       "      <th>langName</th>\n",
       "      <th></th>\n",
       "    </tr>\n",
       "  </thead>\n",
       "  <tbody>\n",
       "    <tr>\n",
       "      <th>Afrikaans</th>\n",
       "      <td>1</td>\n",
       "    </tr>\n",
       "    <tr>\n",
       "      <th>Albanian</th>\n",
       "      <td>1</td>\n",
       "    </tr>\n",
       "    <tr>\n",
       "      <th>Danish</th>\n",
       "      <td>2</td>\n",
       "    </tr>\n",
       "    <tr>\n",
       "      <th>Dutch, Flemish</th>\n",
       "      <td>1</td>\n",
       "    </tr>\n",
       "    <tr>\n",
       "      <th>English</th>\n",
       "      <td>61</td>\n",
       "    </tr>\n",
       "    <tr>\n",
       "      <th>German</th>\n",
       "      <td>3</td>\n",
       "    </tr>\n",
       "    <tr>\n",
       "      <th>Hungarian</th>\n",
       "      <td>1</td>\n",
       "    </tr>\n",
       "    <tr>\n",
       "      <th>Indonesian</th>\n",
       "      <td>2</td>\n",
       "    </tr>\n",
       "    <tr>\n",
       "      <th>Italian</th>\n",
       "      <td>2</td>\n",
       "    </tr>\n",
       "    <tr>\n",
       "      <th>Korean</th>\n",
       "      <td>2</td>\n",
       "    </tr>\n",
       "    <tr>\n",
       "      <th>Lithuanian</th>\n",
       "      <td>2</td>\n",
       "    </tr>\n",
       "    <tr>\n",
       "      <th>Macedonian</th>\n",
       "      <td>3</td>\n",
       "    </tr>\n",
       "    <tr>\n",
       "      <th>Norwegian</th>\n",
       "      <td>2</td>\n",
       "    </tr>\n",
       "    <tr>\n",
       "      <th>Polish</th>\n",
       "      <td>1</td>\n",
       "    </tr>\n",
       "    <tr>\n",
       "      <th>Portuguese</th>\n",
       "      <td>3</td>\n",
       "    </tr>\n",
       "    <tr>\n",
       "      <th>Russian</th>\n",
       "      <td>2</td>\n",
       "    </tr>\n",
       "    <tr>\n",
       "      <th>Slovenian</th>\n",
       "      <td>4</td>\n",
       "    </tr>\n",
       "    <tr>\n",
       "      <th>Somali</th>\n",
       "      <td>2</td>\n",
       "    </tr>\n",
       "    <tr>\n",
       "      <th>Spanish, Castilian</th>\n",
       "      <td>9</td>\n",
       "    </tr>\n",
       "    <tr>\n",
       "      <th>Swahili</th>\n",
       "      <td>4</td>\n",
       "    </tr>\n",
       "    <tr>\n",
       "      <th>Tagalog</th>\n",
       "      <td>3</td>\n",
       "    </tr>\n",
       "    <tr>\n",
       "      <th>Turkish</th>\n",
       "      <td>2</td>\n",
       "    </tr>\n",
       "    <tr>\n",
       "      <th>Ukrainian</th>\n",
       "      <td>1</td>\n",
       "    </tr>\n",
       "    <tr>\n",
       "      <th>Vietnamese</th>\n",
       "      <td>5</td>\n",
       "    </tr>\n",
       "  </tbody>\n",
       "</table>\n",
       "</div>"
      ],
      "text/plain": [
       "                    id\n",
       "langName              \n",
       "Afrikaans            1\n",
       "Albanian             1\n",
       "Danish               2\n",
       "Dutch, Flemish       1\n",
       "English             61\n",
       "German               3\n",
       "Hungarian            1\n",
       "Indonesian           2\n",
       "Italian              2\n",
       "Korean               2\n",
       "Lithuanian           2\n",
       "Macedonian           3\n",
       "Norwegian            2\n",
       "Polish               1\n",
       "Portuguese           3\n",
       "Russian              2\n",
       "Slovenian            4\n",
       "Somali               2\n",
       "Spanish, Castilian   9\n",
       "Swahili              4\n",
       "Tagalog              3\n",
       "Turkish              2\n",
       "Ukrainian            1\n",
       "Vietnamese           5"
      ]
     },
     "execution_count": 80,
     "metadata": {},
     "output_type": "execute_result"
    }
   ],
   "source": [
    "comments.groupby('langName').agg({'id': 'count'})"
   ]
  },
  {
   "cell_type": "code",
   "execution_count": 81,
   "metadata": {},
   "outputs": [
    {
     "data": {
      "text/plain": [
       "0"
      ]
     },
     "execution_count": 81,
     "metadata": {},
     "output_type": "execute_result"
    }
   ],
   "source": [
    "comments['langName'].isna().sum()"
   ]
  },
  {
   "cell_type": "code",
   "execution_count": null,
   "metadata": {},
   "outputs": [],
   "source": []
  },
  {
   "cell_type": "code",
   "execution_count": null,
   "metadata": {},
   "outputs": [],
   "source": []
  },
  {
   "cell_type": "code",
   "execution_count": null,
   "metadata": {},
   "outputs": [],
   "source": []
  },
  {
   "cell_type": "code",
   "execution_count": null,
   "metadata": {},
   "outputs": [],
   "source": []
  }
 ],
 "metadata": {
  "kernelspec": {
   "display_name": "Workspace",
   "language": "python",
   "name": "workspace"
  },
  "language_info": {
   "codemirror_mode": {
    "name": "ipython",
    "version": 3
   },
   "file_extension": ".py",
   "mimetype": "text/x-python",
   "name": "python",
   "nbconvert_exporter": "python",
   "pygments_lexer": "ipython3",
   "version": "3.6.6"
  },
  "toc": {
   "base_numbering": 1,
   "nav_menu": {},
   "number_sections": true,
   "sideBar": true,
   "skip_h1_title": false,
   "title_cell": "Table of Contents",
   "title_sidebar": "Contents",
   "toc_cell": false,
   "toc_position": {
    "height": "calc(100% - 180px)",
    "left": "10px",
    "top": "150px",
    "width": "304px"
   },
   "toc_section_display": true,
   "toc_window_display": true
  }
 },
 "nbformat": 4,
 "nbformat_minor": 2
}
