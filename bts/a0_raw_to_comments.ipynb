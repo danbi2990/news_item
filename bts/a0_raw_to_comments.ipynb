{
 "cells": [
  {
   "cell_type": "code",
   "execution_count": 13,
   "metadata": {},
   "outputs": [
    {
     "name": "stdout",
     "output_type": "stream",
     "text": [
      "The autoreload extension is already loaded. To reload it, use:\n",
      "  %reload_ext autoreload\n"
     ]
    }
   ],
   "source": [
    "import os\n",
    "\n",
    "import pandas as pd\n",
    "from langdetect import detect\n",
    "\n",
    "import src.mongos as mg\n",
    "\n",
    "\n",
    "%load_ext autoreload\n",
    "%autoreload 2"
   ]
  },
  {
   "cell_type": "markdown",
   "metadata": {},
   "source": [
    "# Const"
   ]
  },
  {
   "cell_type": "code",
   "execution_count": 24,
   "metadata": {},
   "outputs": [],
   "source": [
    "db_name = 'youtube_comment'\n",
    "\n",
    "vids = [  # vid(video_ids) goes to collection name\n",
    "    'XsX3ATc3FbA',  # 작은 것들을 위한 시\n",
    "    'rBG5L7UsUxA',  # 데뷔곡: 2 COOL 4 SKOOL\n",
    "]\n",
    "\n",
    "cids = [\n",
    "    'comments',\n",
    "#     'comments_XsX3ATc3FbA',\n",
    "    'comments_rBG5L7UsUxA',\n",
    "]"
   ]
  },
  {
   "cell_type": "markdown",
   "metadata": {},
   "source": [
    "# Load raw comments"
   ]
  },
  {
   "cell_type": "code",
   "execution_count": 15,
   "metadata": {
    "code_folding": []
   },
   "outputs": [],
   "source": [
    "def get_df_from_vid(vid):\n",
    "    return mg.read_mongo(db_name, vid)  # comments, nextPageToken, savedDateTime"
   ]
  },
  {
   "cell_type": "markdown",
   "metadata": {},
   "source": [
    "# Transform comments"
   ]
  },
  {
   "cell_type": "code",
   "execution_count": 16,
   "metadata": {
    "scrolled": true
   },
   "outputs": [],
   "source": [
    "def add_token_and_date_to_comments(row):\n",
    "    comments = row['comments']  # list\n",
    "    token = row['nextPageToken']  # string\n",
    "    dt = row['savedDateTime']  # dt   \n",
    "    \n",
    "    result_from_replies = []\n",
    "    for c in comments:\n",
    "        replies = c.get('replies', [])\n",
    "        replies2 = [{**r, 'nextPageToken': token, 'savedDateTime': dt} for r in replies]\n",
    "        result_from_replies.extend(replies2)\n",
    "    \n",
    "    result_from_comments = [{**cmt, 'nextPageToken': token, 'savedDateTime': dt} for cmt in comments]\n",
    "    result = result_from_replies + result_from_comments\n",
    "    return result\n",
    "\n",
    "\n",
    "def get_comments_from_series_list_cmt(series_list_cmt):\n",
    "    data = [cmt for l in series_list_cmt for cmt in l]; data\n",
    "    return pd.DataFrame(data)\n",
    "    \n",
    "\n",
    "# series_list_cmt = sample.apply(lambda x: add_token_and_date_to_comments(x), axis=1);series_list_cmt\n",
    "# raw_comments = get_comments_from_series_list_cmt(series_list_cmt); raw_comments\n",
    "\n",
    "# replies = raw_comments['replies'].loc[raw_comments['replies'].notna()]\n",
    "# comments_from_replies = get_comments_from_series_list_cmt(replies)"
   ]
  },
  {
   "cell_type": "markdown",
   "metadata": {},
   "source": [
    "# Transform Columns"
   ]
  },
  {
   "cell_type": "code",
   "execution_count": 17,
   "metadata": {},
   "outputs": [],
   "source": [
    "def rename_columns(comments):\n",
    "    return comments.rename(columns={'639-1': 'langCode'})\n",
    "\n",
    "\n",
    "def drop_columns(comments):\n",
    "    return comments.drop('replies', axis=1)"
   ]
  },
  {
   "cell_type": "markdown",
   "metadata": {},
   "source": [
    "# Calculate date time"
   ]
  },
  {
   "cell_type": "code",
   "execution_count": 18,
   "metadata": {},
   "outputs": [],
   "source": [
    "from datetime import timedelta\n",
    "import re\n",
    "\n",
    "\n",
    "def add_date_time(row):\n",
    "    saved = row['savedDateTime']\n",
    "    time = row['time']\n",
    "    obj = re.search(r'(\\d+)\\s', time)\n",
    "    if obj:\n",
    "        value = int(obj.group(1))\n",
    "    value_in_seconds = value\n",
    "#     factor_table = {'second': 1, 'minute': 60, 'day': 60*24, 'month': 60*24*30, 'year': 60*24*365}\n",
    "    # 고치기: second, minute 빼고 전부 60 곱하기\n",
    "    factor_table = {'second': 1, 'minute': 60, 'hour': 60*60, 'day': 60*60*24, 'month': 60*60*24*30, 'year': 60*60*24*365}\n",
    "    for k, v in factor_table.items():\n",
    "        if k in time:\n",
    "            value_in_seconds = value * v\n",
    "            break\n",
    "    return saved - timedelta(seconds=value_in_seconds) + timedelta(hours=9)  # Korean Time"
   ]
  },
  {
   "cell_type": "code",
   "execution_count": 19,
   "metadata": {},
   "outputs": [],
   "source": [
    "# comments[['savedDateTime', 'time']].apply(add_date_time, axis=1)\n",
    "# re.search(r'(\\d+)\\s', '4 minutes ago').group(1)"
   ]
  },
  {
   "cell_type": "markdown",
   "metadata": {},
   "source": [
    "# Load distinct tokens"
   ]
  },
  {
   "cell_type": "code",
   "execution_count": 20,
   "metadata": {},
   "outputs": [],
   "source": [
    "def get_token_set(db_name, collection_name,):\n",
    "    db = mg._connect_mongo(db_name)\n",
    "    collection = db[collection_name]\n",
    "\n",
    "    pipeline = [\n",
    "        {\"$group\": {\"_id\": \"$nextPageToken\"}}\n",
    "    ]\n",
    "\n",
    "    cursor = collection.aggregate(pipeline)\n",
    "    existing = list(cursor)\n",
    "    existing = set(x['_id'] for x in existing)\n",
    "\n",
    "    return existing\n",
    "\n",
    "\n",
    "# existing = get_token_set(db_name, 'comments')\n",
    "# merged = get_token_set(db_name, vids[0])\n",
    "\n",
    "# new = list(merged - existing)\n",
    "# len(new)"
   ]
  },
  {
   "cell_type": "markdown",
   "metadata": {},
   "source": [
    "# Execution"
   ]
  },
  {
   "cell_type": "code",
   "execution_count": 21,
   "metadata": {},
   "outputs": [],
   "source": [
    "# 0: 신곡\n",
    "# 1: 데뷔곡\n",
    "index = 0"
   ]
  },
  {
   "cell_type": "code",
   "execution_count": 22,
   "metadata": {},
   "outputs": [
    {
     "data": {
      "text/plain": [
       "99100"
      ]
     },
     "execution_count": 22,
     "metadata": {},
     "output_type": "execute_result"
    }
   ],
   "source": [
    "existing = get_token_set(db_name, cids[index])\n",
    "merged = get_token_set(db_name, vids[index])\n",
    "\n",
    "new = list(merged - existing)\n",
    "len(new)"
   ]
  },
  {
   "cell_type": "code",
   "execution_count": 23,
   "metadata": {
    "scrolled": true
   },
   "outputs": [
    {
     "ename": "DocumentTooLarge",
     "evalue": "BSON document too large (30775429 bytes) - the connected server supports BSON document sizes up to 16777216 bytes.",
     "output_type": "error",
     "traceback": [
      "\u001b[0;31m---------------------------------------------------------------------------\u001b[0m",
      "\u001b[0;31mDocumentTooLarge\u001b[0m                          Traceback (most recent call last)",
      "\u001b[0;32m<ipython-input-23-dc238241d53c>\u001b[0m in \u001b[0;36m<module>\u001b[0;34m\u001b[0m\n\u001b[1;32m      1\u001b[0m \u001b[0;31m# raw = get_df_from_vid(vids[0]); raw.head()\u001b[0m\u001b[0;34m\u001b[0m\u001b[0;34m\u001b[0m\u001b[0;34m\u001b[0m\u001b[0m\n\u001b[0;32m----> 2\u001b[0;31m \u001b[0mraw\u001b[0m \u001b[0;34m=\u001b[0m \u001b[0mmg\u001b[0m\u001b[0;34m.\u001b[0m\u001b[0mread_mongo\u001b[0m\u001b[0;34m(\u001b[0m\u001b[0mdb_name\u001b[0m\u001b[0;34m,\u001b[0m \u001b[0mvids\u001b[0m\u001b[0;34m[\u001b[0m\u001b[0mindex\u001b[0m\u001b[0;34m]\u001b[0m\u001b[0;34m,\u001b[0m \u001b[0mquery\u001b[0m\u001b[0;34m=\u001b[0m\u001b[0;34m{\u001b[0m\u001b[0;34m'nextPageToken'\u001b[0m\u001b[0;34m:\u001b[0m \u001b[0;34m{\u001b[0m\u001b[0;34m'$in'\u001b[0m\u001b[0;34m:\u001b[0m \u001b[0mnew\u001b[0m\u001b[0;34m}\u001b[0m\u001b[0;34m}\u001b[0m\u001b[0;34m,\u001b[0m\u001b[0;34m)\u001b[0m\u001b[0;34m\u001b[0m\u001b[0;34m\u001b[0m\u001b[0m\n\u001b[0m\u001b[1;32m      3\u001b[0m \u001b[0;34m\u001b[0m\u001b[0m\n\u001b[1;32m      4\u001b[0m \u001b[0;31m# db = mg._connect_mongo(db_name)\u001b[0m\u001b[0;34m\u001b[0m\u001b[0;34m\u001b[0m\u001b[0;34m\u001b[0m\u001b[0m\n\u001b[1;32m      5\u001b[0m \u001b[0;31m# collection = db[vids[0]]\u001b[0m\u001b[0;34m\u001b[0m\u001b[0;34m\u001b[0m\u001b[0;34m\u001b[0m\u001b[0m\n",
      "\u001b[0;32m~/Notebooks/src/mongos.py\u001b[0m in \u001b[0;36mread_mongo\u001b[0;34m(db, collection, query, limit, host, port, username, password, no_id)\u001b[0m\n\u001b[1;32m     37\u001b[0m \u001b[0;34m\u001b[0m\u001b[0m\n\u001b[1;32m     38\u001b[0m     \u001b[0;31m# Expand the cursor and construct the DataFrame\u001b[0m\u001b[0;34m\u001b[0m\u001b[0;34m\u001b[0m\u001b[0;34m\u001b[0m\u001b[0m\n\u001b[0;32m---> 39\u001b[0;31m     \u001b[0mdf\u001b[0m \u001b[0;34m=\u001b[0m  \u001b[0mpd\u001b[0m\u001b[0;34m.\u001b[0m\u001b[0mDataFrame\u001b[0m\u001b[0;34m(\u001b[0m\u001b[0mlist\u001b[0m\u001b[0;34m(\u001b[0m\u001b[0mcursor\u001b[0m\u001b[0;34m)\u001b[0m\u001b[0;34m)\u001b[0m\u001b[0;34m\u001b[0m\u001b[0;34m\u001b[0m\u001b[0m\n\u001b[0m\u001b[1;32m     40\u001b[0m \u001b[0;34m\u001b[0m\u001b[0m\n\u001b[1;32m     41\u001b[0m     \u001b[0;31m# Delete the _id\u001b[0m\u001b[0;34m\u001b[0m\u001b[0;34m\u001b[0m\u001b[0;34m\u001b[0m\u001b[0m\n",
      "\u001b[0;32m~/.virtualenvs/workspace/lib/python3.6/site-packages/pymongo/cursor.py\u001b[0m in \u001b[0;36mnext\u001b[0;34m(self)\u001b[0m\n\u001b[1;32m   1187\u001b[0m         \u001b[0;32mif\u001b[0m \u001b[0mself\u001b[0m\u001b[0;34m.\u001b[0m\u001b[0m__empty\u001b[0m\u001b[0;34m:\u001b[0m\u001b[0;34m\u001b[0m\u001b[0;34m\u001b[0m\u001b[0m\n\u001b[1;32m   1188\u001b[0m             \u001b[0;32mraise\u001b[0m \u001b[0mStopIteration\u001b[0m\u001b[0;34m\u001b[0m\u001b[0;34m\u001b[0m\u001b[0m\n\u001b[0;32m-> 1189\u001b[0;31m         \u001b[0;32mif\u001b[0m \u001b[0mlen\u001b[0m\u001b[0;34m(\u001b[0m\u001b[0mself\u001b[0m\u001b[0;34m.\u001b[0m\u001b[0m__data\u001b[0m\u001b[0;34m)\u001b[0m \u001b[0;32mor\u001b[0m \u001b[0mself\u001b[0m\u001b[0;34m.\u001b[0m\u001b[0m_refresh\u001b[0m\u001b[0;34m(\u001b[0m\u001b[0;34m)\u001b[0m\u001b[0;34m:\u001b[0m\u001b[0;34m\u001b[0m\u001b[0;34m\u001b[0m\u001b[0m\n\u001b[0m\u001b[1;32m   1190\u001b[0m             \u001b[0;32mif\u001b[0m \u001b[0mself\u001b[0m\u001b[0;34m.\u001b[0m\u001b[0m__manipulate\u001b[0m\u001b[0;34m:\u001b[0m\u001b[0;34m\u001b[0m\u001b[0;34m\u001b[0m\u001b[0m\n\u001b[1;32m   1191\u001b[0m                 \u001b[0m_db\u001b[0m \u001b[0;34m=\u001b[0m \u001b[0mself\u001b[0m\u001b[0;34m.\u001b[0m\u001b[0m__collection\u001b[0m\u001b[0;34m.\u001b[0m\u001b[0mdatabase\u001b[0m\u001b[0;34m\u001b[0m\u001b[0;34m\u001b[0m\u001b[0m\n",
      "\u001b[0;32m~/.virtualenvs/workspace/lib/python3.6/site-packages/pymongo/cursor.py\u001b[0m in \u001b[0;36m_refresh\u001b[0;34m(self)\u001b[0m\n\u001b[1;32m   1102\u001b[0m                                   \u001b[0mself\u001b[0m\u001b[0;34m.\u001b[0m\u001b[0m__session\u001b[0m\u001b[0;34m,\u001b[0m\u001b[0;34m\u001b[0m\u001b[0;34m\u001b[0m\u001b[0m\n\u001b[1;32m   1103\u001b[0m                                   self.__collection.database.client)\n\u001b[0;32m-> 1104\u001b[0;31m             \u001b[0mself\u001b[0m\u001b[0;34m.\u001b[0m\u001b[0m__send_message\u001b[0m\u001b[0;34m(\u001b[0m\u001b[0mq\u001b[0m\u001b[0;34m)\u001b[0m\u001b[0;34m\u001b[0m\u001b[0;34m\u001b[0m\u001b[0m\n\u001b[0m\u001b[1;32m   1105\u001b[0m         \u001b[0;32melif\u001b[0m \u001b[0mself\u001b[0m\u001b[0;34m.\u001b[0m\u001b[0m__id\u001b[0m\u001b[0;34m:\u001b[0m  \u001b[0;31m# Get More\u001b[0m\u001b[0;34m\u001b[0m\u001b[0;34m\u001b[0m\u001b[0m\n\u001b[1;32m   1106\u001b[0m             \u001b[0;32mif\u001b[0m \u001b[0mself\u001b[0m\u001b[0;34m.\u001b[0m\u001b[0m__limit\u001b[0m\u001b[0;34m:\u001b[0m\u001b[0;34m\u001b[0m\u001b[0;34m\u001b[0m\u001b[0m\n",
      "\u001b[0;32m~/.virtualenvs/workspace/lib/python3.6/site-packages/pymongo/cursor.py\u001b[0m in \u001b[0;36m__send_message\u001b[0;34m(self, operation)\u001b[0m\n\u001b[1;32m    929\u001b[0m             \u001b[0;32mtry\u001b[0m\u001b[0;34m:\u001b[0m\u001b[0;34m\u001b[0m\u001b[0;34m\u001b[0m\u001b[0m\n\u001b[1;32m    930\u001b[0m                 response = client._send_message_with_response(\n\u001b[0;32m--> 931\u001b[0;31m                     operation, exhaust=self.__exhaust, address=self.__address)\n\u001b[0m\u001b[1;32m    932\u001b[0m                 \u001b[0mself\u001b[0m\u001b[0;34m.\u001b[0m\u001b[0m__address\u001b[0m \u001b[0;34m=\u001b[0m \u001b[0mresponse\u001b[0m\u001b[0;34m.\u001b[0m\u001b[0maddress\u001b[0m\u001b[0;34m\u001b[0m\u001b[0;34m\u001b[0m\u001b[0m\n\u001b[1;32m    933\u001b[0m                 \u001b[0;32mif\u001b[0m \u001b[0mself\u001b[0m\u001b[0;34m.\u001b[0m\u001b[0m__exhaust\u001b[0m\u001b[0;34m:\u001b[0m\u001b[0;34m\u001b[0m\u001b[0;34m\u001b[0m\u001b[0m\n",
      "\u001b[0;32m~/.virtualenvs/workspace/lib/python3.6/site-packages/pymongo/mongo_client.py\u001b[0m in \u001b[0;36m_send_message_with_response\u001b[0;34m(self, operation, exhaust, address)\u001b[0m\n\u001b[1;32m   1143\u001b[0m             \u001b[0mself\u001b[0m\u001b[0;34m.\u001b[0m\u001b[0m__all_credentials\u001b[0m\u001b[0;34m,\u001b[0m\u001b[0;34m\u001b[0m\u001b[0;34m\u001b[0m\u001b[0m\n\u001b[1;32m   1144\u001b[0m             \u001b[0mself\u001b[0m\u001b[0;34m.\u001b[0m\u001b[0m_event_listeners\u001b[0m\u001b[0;34m,\u001b[0m\u001b[0;34m\u001b[0m\u001b[0;34m\u001b[0m\u001b[0m\n\u001b[0;32m-> 1145\u001b[0;31m             exhaust)\n\u001b[0m\u001b[1;32m   1146\u001b[0m \u001b[0;34m\u001b[0m\u001b[0m\n\u001b[1;32m   1147\u001b[0m     \u001b[0;32mdef\u001b[0m \u001b[0m_reset_on_error\u001b[0m\u001b[0;34m(\u001b[0m\u001b[0mself\u001b[0m\u001b[0;34m,\u001b[0m \u001b[0mserver\u001b[0m\u001b[0;34m,\u001b[0m \u001b[0mfunc\u001b[0m\u001b[0;34m,\u001b[0m \u001b[0;34m*\u001b[0m\u001b[0margs\u001b[0m\u001b[0;34m,\u001b[0m \u001b[0;34m**\u001b[0m\u001b[0mkwargs\u001b[0m\u001b[0;34m)\u001b[0m\u001b[0;34m:\u001b[0m\u001b[0;34m\u001b[0m\u001b[0;34m\u001b[0m\u001b[0m\n",
      "\u001b[0;32m~/.virtualenvs/workspace/lib/python3.6/site-packages/pymongo/mongo_client.py\u001b[0m in \u001b[0;36m_reset_on_error\u001b[0;34m(self, server, func, *args, **kwargs)\u001b[0m\n\u001b[1;32m   1154\u001b[0m         \"\"\"\n\u001b[1;32m   1155\u001b[0m         \u001b[0;32mtry\u001b[0m\u001b[0;34m:\u001b[0m\u001b[0;34m\u001b[0m\u001b[0;34m\u001b[0m\u001b[0m\n\u001b[0;32m-> 1156\u001b[0;31m             \u001b[0;32mreturn\u001b[0m \u001b[0mfunc\u001b[0m\u001b[0;34m(\u001b[0m\u001b[0;34m*\u001b[0m\u001b[0margs\u001b[0m\u001b[0;34m,\u001b[0m \u001b[0;34m**\u001b[0m\u001b[0mkwargs\u001b[0m\u001b[0;34m)\u001b[0m\u001b[0;34m\u001b[0m\u001b[0;34m\u001b[0m\u001b[0m\n\u001b[0m\u001b[1;32m   1157\u001b[0m         \u001b[0;32mexcept\u001b[0m \u001b[0mNetworkTimeout\u001b[0m\u001b[0;34m:\u001b[0m\u001b[0;34m\u001b[0m\u001b[0;34m\u001b[0m\u001b[0m\n\u001b[1;32m   1158\u001b[0m             \u001b[0;31m# The socket has been closed. Don't reset the server.\u001b[0m\u001b[0;34m\u001b[0m\u001b[0;34m\u001b[0m\u001b[0;34m\u001b[0m\u001b[0m\n",
      "\u001b[0;32m~/.virtualenvs/workspace/lib/python3.6/site-packages/pymongo/server.py\u001b[0m in \u001b[0;36msend_message_with_response\u001b[0;34m(self, operation, set_slave_okay, all_credentials, listeners, exhaust)\u001b[0m\n\u001b[1;32m    103\u001b[0m \u001b[0;34m\u001b[0m\u001b[0m\n\u001b[1;32m    104\u001b[0m             \u001b[0;32mtry\u001b[0m\u001b[0;34m:\u001b[0m\u001b[0;34m\u001b[0m\u001b[0;34m\u001b[0m\u001b[0m\n\u001b[0;32m--> 105\u001b[0;31m                 \u001b[0msock_info\u001b[0m\u001b[0;34m.\u001b[0m\u001b[0msend_message\u001b[0m\u001b[0;34m(\u001b[0m\u001b[0mdata\u001b[0m\u001b[0;34m,\u001b[0m \u001b[0mmax_doc_size\u001b[0m\u001b[0;34m)\u001b[0m\u001b[0;34m\u001b[0m\u001b[0;34m\u001b[0m\u001b[0m\n\u001b[0m\u001b[1;32m    106\u001b[0m                 \u001b[0mreply\u001b[0m \u001b[0;34m=\u001b[0m \u001b[0msock_info\u001b[0m\u001b[0;34m.\u001b[0m\u001b[0mreceive_message\u001b[0m\u001b[0;34m(\u001b[0m\u001b[0mrequest_id\u001b[0m\u001b[0;34m)\u001b[0m\u001b[0;34m\u001b[0m\u001b[0;34m\u001b[0m\u001b[0m\n\u001b[1;32m    107\u001b[0m             \u001b[0;32mexcept\u001b[0m \u001b[0mException\u001b[0m \u001b[0;32mas\u001b[0m \u001b[0mexc\u001b[0m\u001b[0;34m:\u001b[0m\u001b[0;34m\u001b[0m\u001b[0;34m\u001b[0m\u001b[0m\n",
      "\u001b[0;32m~/.virtualenvs/workspace/lib/python3.6/site-packages/pymongo/pool.py\u001b[0m in \u001b[0;36msend_message\u001b[0;34m(self, message, max_doc_size)\u001b[0m\n\u001b[1;32m    594\u001b[0m                 \u001b[0;34m\"BSON document too large (%d bytes) - the connected server \"\u001b[0m\u001b[0;34m\u001b[0m\u001b[0;34m\u001b[0m\u001b[0m\n\u001b[1;32m    595\u001b[0m                 \u001b[0;34m\"supports BSON document sizes up to %d bytes.\"\u001b[0m \u001b[0;34m%\u001b[0m\u001b[0;34m\u001b[0m\u001b[0;34m\u001b[0m\u001b[0m\n\u001b[0;32m--> 596\u001b[0;31m                 (max_doc_size, self.max_bson_size))\n\u001b[0m\u001b[1;32m    597\u001b[0m \u001b[0;34m\u001b[0m\u001b[0m\n\u001b[1;32m    598\u001b[0m         \u001b[0;32mtry\u001b[0m\u001b[0;34m:\u001b[0m\u001b[0;34m\u001b[0m\u001b[0;34m\u001b[0m\u001b[0m\n",
      "\u001b[0;31mDocumentTooLarge\u001b[0m: BSON document too large (30775429 bytes) - the connected server supports BSON document sizes up to 16777216 bytes."
     ]
    }
   ],
   "source": [
    "# raw = get_df_from_vid(vids[0]); raw.head()\n",
    "raw = mg.read_mongo(db_name, vids[index], query={'nextPageToken': {'$in': new}},)\n",
    "\n",
    "# db = mg._connect_mongo(db_name)\n",
    "# collection = db[vids[0]]\n",
    "# cursor = collection.find({'nextPageToken': {'$in': list(new)}}).limit(10)"
   ]
  },
  {
   "cell_type": "code",
   "execution_count": 12,
   "metadata": {
    "scrolled": true
   },
   "outputs": [
    {
     "name": "stdout",
     "output_type": "stream",
     "text": [
      "<class 'pandas.core.frame.DataFrame'>\n",
      "RangeIndex: 4542 entries, 0 to 4541\n",
      "Data columns (total 3 columns):\n",
      "comments         4542 non-null object\n",
      "nextPageToken    4541 non-null object\n",
      "savedDateTime    4542 non-null datetime64[ns]\n",
      "dtypes: datetime64[ns](1), object(2)\n",
      "memory usage: 106.5+ KB\n"
     ]
    }
   ],
   "source": [
    "raw.info()"
   ]
  },
  {
   "cell_type": "code",
   "execution_count": 13,
   "metadata": {},
   "outputs": [
    {
     "data": {
      "text/html": [
       "<div>\n",
       "<style scoped>\n",
       "    .dataframe tbody tr th:only-of-type {\n",
       "        vertical-align: middle;\n",
       "    }\n",
       "\n",
       "    .dataframe tbody tr th {\n",
       "        vertical-align: top;\n",
       "    }\n",
       "\n",
       "    .dataframe thead th {\n",
       "        text-align: right;\n",
       "    }\n",
       "</style>\n",
       "<table border=\"1\" class=\"dataframe\">\n",
       "  <thead>\n",
       "    <tr style=\"text-align: right;\">\n",
       "      <th></th>\n",
       "      <th>comments</th>\n",
       "      <th>nextPageToken</th>\n",
       "      <th>savedDateTime</th>\n",
       "    </tr>\n",
       "  </thead>\n",
       "  <tbody>\n",
       "    <tr>\n",
       "      <th>0</th>\n",
       "      <td>[{'id': 'UgxftD7mowdpJLbM2Bd4AaABAg', 'author'...</td>\n",
       "      <td>EiYSC3JCRzVMN1VzVXhBwAEAyAEA4AEBogINKP________...</td>\n",
       "      <td>2019-04-19 01:20:52.266</td>\n",
       "    </tr>\n",
       "    <tr>\n",
       "      <th>1</th>\n",
       "      <td>[{'id': 'Ugz3LAvphA3rm_MdlwV4AaABAg', 'author'...</td>\n",
       "      <td>EiYSC3JCRzVMN1VzVXhBwAEAyAEA4AEBogINKP________...</td>\n",
       "      <td>2019-04-19 01:20:53.717</td>\n",
       "    </tr>\n",
       "    <tr>\n",
       "      <th>2</th>\n",
       "      <td>[{'id': 'UgxMTRrfF9obzTXsviZ4AaABAg', 'author'...</td>\n",
       "      <td>EiYSC3JCRzVMN1VzVXhBwAEAyAEA4AEBogINKP________...</td>\n",
       "      <td>2019-04-19 01:20:54.589</td>\n",
       "    </tr>\n",
       "    <tr>\n",
       "      <th>3</th>\n",
       "      <td>[{'id': 'Ugz7ItDRx2sEiYzDF9t4AaABAg', 'author'...</td>\n",
       "      <td>EiYSC3JCRzVMN1VzVXhBwAEAyAEA4AEBogINKP________...</td>\n",
       "      <td>2019-04-19 01:20:56.012</td>\n",
       "    </tr>\n",
       "    <tr>\n",
       "      <th>4</th>\n",
       "      <td>[{'id': 'Ugw80Hq1Pygc62R8HK14AaABAg', 'author'...</td>\n",
       "      <td>EiYSC3JCRzVMN1VzVXhBwAEAyAEA4AEBogINKP________...</td>\n",
       "      <td>2019-04-19 01:20:56.886</td>\n",
       "    </tr>\n",
       "  </tbody>\n",
       "</table>\n",
       "</div>"
      ],
      "text/plain": [
       "                                            comments  \\\n",
       "0  [{'id': 'UgxftD7mowdpJLbM2Bd4AaABAg', 'author'...   \n",
       "1  [{'id': 'Ugz3LAvphA3rm_MdlwV4AaABAg', 'author'...   \n",
       "2  [{'id': 'UgxMTRrfF9obzTXsviZ4AaABAg', 'author'...   \n",
       "3  [{'id': 'Ugz7ItDRx2sEiYzDF9t4AaABAg', 'author'...   \n",
       "4  [{'id': 'Ugw80Hq1Pygc62R8HK14AaABAg', 'author'...   \n",
       "\n",
       "                                       nextPageToken           savedDateTime  \n",
       "0  EiYSC3JCRzVMN1VzVXhBwAEAyAEA4AEBogINKP________... 2019-04-19 01:20:52.266  \n",
       "1  EiYSC3JCRzVMN1VzVXhBwAEAyAEA4AEBogINKP________... 2019-04-19 01:20:53.717  \n",
       "2  EiYSC3JCRzVMN1VzVXhBwAEAyAEA4AEBogINKP________... 2019-04-19 01:20:54.589  \n",
       "3  EiYSC3JCRzVMN1VzVXhBwAEAyAEA4AEBogINKP________... 2019-04-19 01:20:56.012  \n",
       "4  EiYSC3JCRzVMN1VzVXhBwAEAyAEA4AEBogINKP________... 2019-04-19 01:20:56.886  "
      ]
     },
     "execution_count": 13,
     "metadata": {},
     "output_type": "execute_result"
    }
   ],
   "source": [
    "sample = raw.head()\n",
    "sample"
   ]
  },
  {
   "cell_type": "code",
   "execution_count": 14,
   "metadata": {
    "scrolled": true
   },
   "outputs": [
    {
     "data": {
      "text/html": [
       "<div>\n",
       "<style scoped>\n",
       "    .dataframe tbody tr th:only-of-type {\n",
       "        vertical-align: middle;\n",
       "    }\n",
       "\n",
       "    .dataframe tbody tr th {\n",
       "        vertical-align: top;\n",
       "    }\n",
       "\n",
       "    .dataframe thead th {\n",
       "        text-align: right;\n",
       "    }\n",
       "</style>\n",
       "<table border=\"1\" class=\"dataframe\">\n",
       "  <thead>\n",
       "    <tr style=\"text-align: right;\">\n",
       "      <th></th>\n",
       "      <th>author</th>\n",
       "      <th>authorLink</th>\n",
       "      <th>authorThumb</th>\n",
       "      <th>edited</th>\n",
       "      <th>hasReplies</th>\n",
       "      <th>id</th>\n",
       "      <th>likes</th>\n",
       "      <th>nextPageToken</th>\n",
       "      <th>numReplies</th>\n",
       "      <th>replies</th>\n",
       "      <th>repliesToken</th>\n",
       "      <th>savedDateTime</th>\n",
       "      <th>text</th>\n",
       "      <th>time</th>\n",
       "      <th>timestamp</th>\n",
       "    </tr>\n",
       "  </thead>\n",
       "  <tbody>\n",
       "    <tr>\n",
       "      <th>0</th>\n",
       "      <td>mundo life</td>\n",
       "      <td>/channel/UCr7LN3wo5LdqObXzUv8gDZg</td>\n",
       "      <td>https://yt3.ggpht.com/-lSf1Oj7hGWQ/AAAAAAAAAAI...</td>\n",
       "      <td>False</td>\n",
       "      <td>False</td>\n",
       "      <td>UgxftD7mowdpJLbM2Bd4AaABAg</td>\n",
       "      <td>0</td>\n",
       "      <td>EiYSC3JCRzVMN1VzVXhBwAEAyAEA4AEBogINKP________...</td>\n",
       "      <td>NaN</td>\n",
       "      <td>NaN</td>\n",
       "      <td>NaN</td>\n",
       "      <td>2019-04-19 01:20:52.266</td>\n",
       "      <td>Aaaaa</td>\n",
       "      <td>10 minutes ago</td>\n",
       "      <td>1.555636e+12</td>\n",
       "    </tr>\n",
       "    <tr>\n",
       "      <th>1</th>\n",
       "      <td>Miny E</td>\n",
       "      <td>/channel/UCvG3ZzpNU2bQQtNZV6k3CVw</td>\n",
       "      <td>https://yt3.ggpht.com/-dx6GY_PDpV8/AAAAAAAAAAI...</td>\n",
       "      <td>False</td>\n",
       "      <td>False</td>\n",
       "      <td>Ugyg7hl7kQEe6s19rXt4AaABAg</td>\n",
       "      <td>0</td>\n",
       "      <td>EiYSC3JCRzVMN1VzVXhBwAEAyAEA4AEBogINKP________...</td>\n",
       "      <td>NaN</td>\n",
       "      <td>NaN</td>\n",
       "      <td>NaN</td>\n",
       "      <td>2019-04-19 01:20:52.266</td>\n",
       "      <td>Rumo aos 100mi &lt;3</td>\n",
       "      <td>25 minutes ago</td>\n",
       "      <td>1.555635e+12</td>\n",
       "    </tr>\n",
       "    <tr>\n",
       "      <th>2</th>\n",
       "      <td>betsabe Matines</td>\n",
       "      <td>/channel/UCj3ZAAM9_w4wSROloc7Y0ew</td>\n",
       "      <td>https://yt3.ggpht.com/-jX43RPvo0zo/AAAAAAAAAAI...</td>\n",
       "      <td>False</td>\n",
       "      <td>False</td>\n",
       "      <td>UgxUUTXMC7b1yjzT_714AaABAg</td>\n",
       "      <td>0</td>\n",
       "      <td>EiYSC3JCRzVMN1VzVXhBwAEAyAEA4AEBogINKP________...</td>\n",
       "      <td>NaN</td>\n",
       "      <td>NaN</td>\n",
       "      <td>NaN</td>\n",
       "      <td>2019-04-19 01:20:52.266</td>\n",
       "      <td>Que lindo ráp moster lo amo like si  el es tu ...</td>\n",
       "      <td>32 minutes ago</td>\n",
       "      <td>1.555635e+12</td>\n",
       "    </tr>\n",
       "    <tr>\n",
       "      <th>3</th>\n",
       "      <td>Laura Rodriguez</td>\n",
       "      <td>/channel/UCIRGaz6AgECuDk5P-jEahng</td>\n",
       "      <td>https://yt3.ggpht.com/-hH3yv4h01cA/AAAAAAAAAAI...</td>\n",
       "      <td>False</td>\n",
       "      <td>False</td>\n",
       "      <td>Ugyd4PS85izfANP2qyN4AaABAg</td>\n",
       "      <td>0</td>\n",
       "      <td>EiYSC3JCRzVMN1VzVXhBwAEAyAEA4AEBogINKP________...</td>\n",
       "      <td>NaN</td>\n",
       "      <td>NaN</td>\n",
       "      <td>NaN</td>\n",
       "      <td>2019-04-19 01:20:52.266</td>\n",
       "      <td>¿RM esta ciego?</td>\n",
       "      <td>47 minutes ago</td>\n",
       "      <td>1.555634e+12</td>\n",
       "    </tr>\n",
       "    <tr>\n",
       "      <th>4</th>\n",
       "      <td>Kpop Lover99</td>\n",
       "      <td>/channel/UCc6dXjmQAXzEglHBgVv1ndQ</td>\n",
       "      <td>https://yt3.ggpht.com/-esirdXTdaqY/AAAAAAAAAAI...</td>\n",
       "      <td>False</td>\n",
       "      <td>False</td>\n",
       "      <td>UgwcN2-N4ymzhsjGGXF4AaABAg</td>\n",
       "      <td>1</td>\n",
       "      <td>EiYSC3JCRzVMN1VzVXhBwAEAyAEA4AEBogINKP________...</td>\n",
       "      <td>NaN</td>\n",
       "      <td>NaN</td>\n",
       "      <td>NaN</td>\n",
       "      <td>2019-04-19 01:20:52.266</td>\n",
       "      <td>I want go back in this era. Hoho\\n\\nNo no I ca...</td>\n",
       "      <td>49 minutes ago</td>\n",
       "      <td>1.555634e+12</td>\n",
       "    </tr>\n",
       "  </tbody>\n",
       "</table>\n",
       "</div>"
      ],
      "text/plain": [
       "            author                         authorLink  \\\n",
       "0       mundo life  /channel/UCr7LN3wo5LdqObXzUv8gDZg   \n",
       "1           Miny E  /channel/UCvG3ZzpNU2bQQtNZV6k3CVw   \n",
       "2  betsabe Matines  /channel/UCj3ZAAM9_w4wSROloc7Y0ew   \n",
       "3  Laura Rodriguez  /channel/UCIRGaz6AgECuDk5P-jEahng   \n",
       "4     Kpop Lover99  /channel/UCc6dXjmQAXzEglHBgVv1ndQ   \n",
       "\n",
       "                                         authorThumb  edited hasReplies  \\\n",
       "0  https://yt3.ggpht.com/-lSf1Oj7hGWQ/AAAAAAAAAAI...   False      False   \n",
       "1  https://yt3.ggpht.com/-dx6GY_PDpV8/AAAAAAAAAAI...   False      False   \n",
       "2  https://yt3.ggpht.com/-jX43RPvo0zo/AAAAAAAAAAI...   False      False   \n",
       "3  https://yt3.ggpht.com/-hH3yv4h01cA/AAAAAAAAAAI...   False      False   \n",
       "4  https://yt3.ggpht.com/-esirdXTdaqY/AAAAAAAAAAI...   False      False   \n",
       "\n",
       "                           id  likes  \\\n",
       "0  UgxftD7mowdpJLbM2Bd4AaABAg      0   \n",
       "1  Ugyg7hl7kQEe6s19rXt4AaABAg      0   \n",
       "2  UgxUUTXMC7b1yjzT_714AaABAg      0   \n",
       "3  Ugyd4PS85izfANP2qyN4AaABAg      0   \n",
       "4  UgwcN2-N4ymzhsjGGXF4AaABAg      1   \n",
       "\n",
       "                                       nextPageToken  numReplies replies  \\\n",
       "0  EiYSC3JCRzVMN1VzVXhBwAEAyAEA4AEBogINKP________...         NaN     NaN   \n",
       "1  EiYSC3JCRzVMN1VzVXhBwAEAyAEA4AEBogINKP________...         NaN     NaN   \n",
       "2  EiYSC3JCRzVMN1VzVXhBwAEAyAEA4AEBogINKP________...         NaN     NaN   \n",
       "3  EiYSC3JCRzVMN1VzVXhBwAEAyAEA4AEBogINKP________...         NaN     NaN   \n",
       "4  EiYSC3JCRzVMN1VzVXhBwAEAyAEA4AEBogINKP________...         NaN     NaN   \n",
       "\n",
       "  repliesToken           savedDateTime  \\\n",
       "0          NaN 2019-04-19 01:20:52.266   \n",
       "1          NaN 2019-04-19 01:20:52.266   \n",
       "2          NaN 2019-04-19 01:20:52.266   \n",
       "3          NaN 2019-04-19 01:20:52.266   \n",
       "4          NaN 2019-04-19 01:20:52.266   \n",
       "\n",
       "                                                text            time  \\\n",
       "0                                              Aaaaa  10 minutes ago   \n",
       "1                                  Rumo aos 100mi <3  25 minutes ago   \n",
       "2  Que lindo ráp moster lo amo like si  el es tu ...  32 minutes ago   \n",
       "3                                    ¿RM esta ciego?  47 minutes ago   \n",
       "4  I want go back in this era. Hoho\\n\\nNo no I ca...  49 minutes ago   \n",
       "\n",
       "      timestamp  \n",
       "0  1.555636e+12  \n",
       "1  1.555635e+12  \n",
       "2  1.555635e+12  \n",
       "3  1.555634e+12  \n",
       "4  1.555634e+12  "
      ]
     },
     "execution_count": 14,
     "metadata": {},
     "output_type": "execute_result"
    }
   ],
   "source": [
    "series_list_cmt = raw.apply(lambda x: add_token_and_date_to_comments(x), axis=1);series_list_cmt\n",
    "comments = get_comments_from_series_list_cmt(series_list_cmt); comments.head()"
   ]
  },
  {
   "cell_type": "code",
   "execution_count": 15,
   "metadata": {},
   "outputs": [
    {
     "name": "stdout",
     "output_type": "stream",
     "text": [
      "120394\n"
     ]
    }
   ],
   "source": [
    "# comments = rename_columns(comments)\n",
    "comments = drop_columns(comments)\n",
    "comments['dateTime'] = comments[['savedDateTime', 'time']].apply(add_date_time, axis=1)\n",
    "\n",
    "print(len(comments))\n",
    "# comments"
   ]
  },
  {
   "cell_type": "markdown",
   "metadata": {},
   "source": [
    "# to_mongo"
   ]
  },
  {
   "cell_type": "code",
   "execution_count": 16,
   "metadata": {},
   "outputs": [
    {
     "name": "stdout",
     "output_type": "stream",
     "text": [
      "Inserted rows: 120394\n"
     ]
    }
   ],
   "source": [
    "mg.to_mongo(comments, 'youtube_comment', cids[index])"
   ]
  },
  {
   "cell_type": "markdown",
   "metadata": {},
   "source": [
    "# ..."
   ]
  },
  {
   "cell_type": "code",
   "execution_count": null,
   "metadata": {},
   "outputs": [],
   "source": []
  },
  {
   "cell_type": "code",
   "execution_count": null,
   "metadata": {},
   "outputs": [],
   "source": []
  },
  {
   "cell_type": "code",
   "execution_count": null,
   "metadata": {},
   "outputs": [],
   "source": []
  },
  {
   "cell_type": "code",
   "execution_count": null,
   "metadata": {},
   "outputs": [],
   "source": []
  }
 ],
 "metadata": {
  "kernelspec": {
   "display_name": "Workspace",
   "language": "python",
   "name": "workspace"
  },
  "language_info": {
   "codemirror_mode": {
    "name": "ipython",
    "version": 3
   },
   "file_extension": ".py",
   "mimetype": "text/x-python",
   "name": "python",
   "nbconvert_exporter": "python",
   "pygments_lexer": "ipython3",
   "version": "3.6.6"
  },
  "toc": {
   "base_numbering": 1,
   "nav_menu": {},
   "number_sections": true,
   "sideBar": true,
   "skip_h1_title": false,
   "title_cell": "Table of Contents",
   "title_sidebar": "Contents",
   "toc_cell": false,
   "toc_position": {
    "height": "calc(100% - 180px)",
    "left": "10px",
    "top": "150px",
    "width": "304px"
   },
   "toc_section_display": true,
   "toc_window_display": true
  }
 },
 "nbformat": 4,
 "nbformat_minor": 2
}
