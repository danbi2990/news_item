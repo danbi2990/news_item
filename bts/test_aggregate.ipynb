{
 "cells": [
  {
   "cell_type": "code",
   "execution_count": 7,
   "metadata": {},
   "outputs": [],
   "source": [
    "from pymongo import MongoClient\n",
    "import socket"
   ]
  },
  {
   "cell_type": "code",
   "execution_count": 8,
   "metadata": {},
   "outputs": [],
   "source": [
    "def _get_connection_string():\n",
    "    hname = socket.gethostname()\n",
    "    con_str = ''\n",
    "    if hname == 'ideapad':\n",
    "        file_path = '/home/jake/Private/local_mongo_connection.txt'\n",
    "    elif hname == 'danbi-mac.local':\n",
    "        file_path = '/Users/jake/Private/mongo_connection_to_ideapad.txt'\n",
    "    with open(file_path) as f:\n",
    "        con_str = f.read()\n",
    "    return con_str.strip()\n",
    "\n",
    "def _connect_mongo(db):\n",
    "    con_str = _get_connection_string()\n",
    "    conn = MongoClient(con_str)\n",
    "    return conn[db]\n"
   ]
  },
  {
   "cell_type": "code",
   "execution_count": 9,
   "metadata": {},
   "outputs": [],
   "source": [
    "db_name = 'youtube_comment'\n",
    "\n",
    "vids = [  # vid(video_ids) goes to collection name\n",
    "    'XsX3ATc3FbA',  # 작은 것들을 위한 시\n",
    "    'rBG5L7UsUxA',  # 데뷔곡: 2 COOL 4 SKOOL\n",
    "]"
   ]
  },
  {
   "cell_type": "code",
   "execution_count": 20,
   "metadata": {},
   "outputs": [],
   "source": [
    "db = _connect_mongo(db_name)\n",
    "collection = db['comments']\n",
    "\n",
    "pipeline = [\n",
    "#     {\"$unwind\": \"$COL\"},\n",
    "    {\"$group\": {\"_id\": \"$nextPageToken\"}}\n",
    "]\n",
    "\n",
    "cursor = collection.aggregate(pipeline)"
   ]
  },
  {
   "cell_type": "code",
   "execution_count": 21,
   "metadata": {},
   "outputs": [
    {
     "data": {
      "text/plain": [
       "[{'_id': 'EiYSC1hzWDNBVGMzRmJBwAEAyAEA4AEBogINKP___________wFAABgGMq8BCpcBQURTSl9pMWNreFB4MDR4eExaZzg5X0ZDYVhUTmxjaElGemh4STZVSThLWkgwdHQwLUFBYmNab0JVdm1ZWVRKQWxXdUxxd2ZYVFdSUDZxVzR0ZUxFMzdKZHdxZ0tfN1h5b3o3YWM3Tjh6WVJ6eXVSVVRBT1NVbjNoNm1ESUdZejNQQVc5YllXTU53b0FQcWtkdkk3bFg5YyIPIgtYc1gzQVRjM0ZiQTABKKCnTw%3D%3D'},\n",
       " {'_id': 'EiYSC1hzWDNBVGMzRmJBwAEAyAEA4AEBogINKP___________wFAABgGMq8BCpcBQURTSl9pMV95QnBnUVNSZjM3UG4xOUVZV1dLQ29iaVo4RmduLTZHamRNdGE0YWprcVR5T1hwcFA5blFLWE9JQ0ltcVhqd0JnUkJ2eFZEZGlIVXI1T2N2NE9qVFktbHJVX1hCWlBXankxZ3l0cTI1UDJyd2VrV25FbVg5b2FzMEI0X0Q1TElKb1BYSjNUVWdLVFRSanY4byIPIgtYc1gzQVRjM0ZiQTABKIynTw%3D%3D'},\n",
       " {'_id': 'EiYSC1hzWDNBVGMzRmJBwAEAyAEA4AEBogINKP___________wFAABgGMq8BCpcBQURTSl9pMy1pYjV3dUxGa2dKZEV1WFBVd19OeEJCSG5LcVl6VlY1eUxLOVgtdW1fcUdycnVTWnNZMHRhWWJDMWkxUjN2YXBRM2thTTUzcXEzSmhkbXlrRHhZdk5xbkFDc2tMbzZBR1FDYXdpTXl0aDktZk1WTW1xTU01d0VqdW1uTnJGY1RKZEkxYXg0QlB6M0NQLVgtWSIPIgtYc1gzQVRjM0ZiQTABKPimTw%3D%3D'},\n",
       " {'_id': 'EiYSC1hzWDNBVGMzRmJBwAEAyAEA4AEBogINKP___________wFAABgGMq8BCpcBQURTSl9pMVBoZGx2UUNPSlc0Ni1GVWhKU19TX0JpQldMaGl6NnRLbkM3ZWhCUkhSNF9rOUFUVloyQnhmQURpU0N5VnBaNDFkYnRwMEMzUm9qdjBmQUJTODROSHNCNjVVSG5qMUNNaktzaWIxQnhERG12Qzlfc0p0OE90QjlQaTFzWGRBRnhXcS13NjFnYkRuUUt3TWNacyIPIgtYc1gzQVRjM0ZiQTABKOSmTw%3D%3D'},\n",
       " {'_id': 'EiYSC1hzWDNBVGMzRmJBwAEAyAEA4AEBogINKP___________wFAABgGMq8BCpcBQURTSl9pMUU5NkJrR1kwaEo5YXNDbFowVnMtOHFkNGhmRDY2MTlqNkQyRFEzckRUSnBzWjU4amItMVBIYklpVlUxb1k4a0kyYk94WU5CS1prNGVXbVpqd3BzNTNlbWdKU3MzZ084bDk2b3BqcFk1N1dWaVVVQ3pRMUYyN0FKbEJBTFNhMGloal9pTm5pbDRrRGNuR1NKdyIPIgtYc1gzQVRjM0ZiQTABKNCmTw%3D%3D'},\n",
       " {'_id': 'EiYSC1hzWDNBVGMzRmJBwAEAyAEA4AEBogINKP___________wFAABgGMq8BCpcBQURTSl9pMy1TX0MwN3d4REhzZExPZi1wV3dxUWNZQWJ1bTFGWnhxMWZqNmJDMlhsZ3ZGRks1Zi03amlVYl9mWXRBTGJtNU51RUM1NlF3cnNRV2JTR09UUnFjVDVVWmxjSFdmdkdfRXY1QldVbkhjUEZwa21lMVByaXBzSFhmVk9CdGtZdW1FSWNCUWk4YlpzWDAtOG5pRSIPIgtYc1gzQVRjM0ZiQTABKKimTw%3D%3D'},\n",
       " {'_id': 'EiYSC1hzWDNBVGMzRmJBwAEAyAEA4AEBogINKP___________wFAABgGMq8BCpcBQURTSl9pMjZaY1ZHSkFCa0JrZkg0WnpYbWVidUlOcmhGRlFWaGI3VS1JU2JkemxSVTlhZVhOU0FVVEN0eGhDOWYteG5zTWFmTVFYQVlpMGdlWEFrTWtwR2dndzZ1U01hWVlmZmstSzVnNmh5VEEzQXFYSVlpaUk2QnhXdVVQeF9seVdlZ3FBYVpkN0pmeEhLQ2xGblduSSIPIgtYc1gzQVRjM0ZiQTABKJSmTw%3D%3D'},\n",
       " {'_id': 'EiYSC1hzWDNBVGMzRmJBwAEAyAEA4AEBogINKP___________wFAABgGMq8BCpcBQURTSl9pMTJqVGtwVngzM1R0TU4wU3BSOXg0M2lLenhqOXFwRFFLWEIyWHMxTTFUTGlXLUpWVDBLM3Z2SHBlVzd1dDVQZzJTVU5peHhLeloxQ2d2RWdjQVhSandqclU1R2t3Ny1qZ1p5cmRSNDI2VlBXTk4yTmNkU0pScGRnSEE0MDV0S3pQd241ajd3TEkxa1c3YTZxTSIPIgtYc1gzQVRjM0ZiQTABKOylTw%3D%3D'},\n",
       " {'_id': 'EiYSC1hzWDNBVGMzRmJBwAEAyAEA4AEBogINKP___________wFAABgGMq8BCpcBQURTSl9pM1NEdGFLazd4c0ZmS0JLNlYxaFRuWTFiMUtWSHgyU21iaFd1YklTM3QzanlrZldfajZZTHhNUXU4YjdrUVpBWkNTTzR5OF9uNG91cXd6TWtMblFXYUZPbFBVWTJZLWVRcF93b2NOZFlwZXBwWHp1SV9ET185dGVPTHBDcXlQRTlMQUhuRTd2emdySUlhOUtWcyIPIgtYc1gzQVRjM0ZiQTABKNilTw%3D%3D'},\n",
       " {'_id': 'EiYSC1hzWDNBVGMzRmJBwAEAyAEA4AEBogINKP___________wFAABgGMq8BCpcBQURTSl9pM2VoRHJWclU0T2F1RWtBYmQ2VG5Ud0Fhb2VCZkY4MC1rcTQzTjhNc2FyVTVsa1JjSXhQUjNpdXpweExVREREbWc0a09LcXMyeklKY0xhS1hwcjlmUXkwckxDdmdQaW81bEVONWdqdjZIN291bGRKR0lGRHZ3WlRfSGZlaU1mZTdMNHJoTS1tRDFaYWFqOGd1SSIPIgtYc1gzQVRjM0ZiQTABKMSlTw%3D%3D'}]"
      ]
     },
     "execution_count": 21,
     "metadata": {},
     "output_type": "execute_result"
    }
   ],
   "source": [
    "result = list(cursor)\n",
    "result[:10]"
   ]
  },
  {
   "cell_type": "code",
   "execution_count": 22,
   "metadata": {},
   "outputs": [
    {
     "data": {
      "text/plain": [
       "64968"
      ]
     },
     "execution_count": 22,
     "metadata": {},
     "output_type": "execute_result"
    }
   ],
   "source": [
    "len(result)"
   ]
  },
  {
   "cell_type": "code",
   "execution_count": null,
   "metadata": {},
   "outputs": [],
   "source": []
  },
  {
   "cell_type": "code",
   "execution_count": null,
   "metadata": {},
   "outputs": [],
   "source": []
  }
 ],
 "metadata": {
  "kernelspec": {
   "display_name": "Workspace",
   "language": "python",
   "name": "workspace"
  },
  "language_info": {
   "codemirror_mode": {
    "name": "ipython",
    "version": 3
   },
   "file_extension": ".py",
   "mimetype": "text/x-python",
   "name": "python",
   "nbconvert_exporter": "python",
   "pygments_lexer": "ipython3",
   "version": "3.6.6"
  },
  "toc": {
   "base_numbering": 1,
   "nav_menu": {},
   "number_sections": true,
   "sideBar": true,
   "skip_h1_title": false,
   "title_cell": "Table of Contents",
   "title_sidebar": "Contents",
   "toc_cell": false,
   "toc_position": {},
   "toc_section_display": true,
   "toc_window_display": true
  }
 },
 "nbformat": 4,
 "nbformat_minor": 2
}
