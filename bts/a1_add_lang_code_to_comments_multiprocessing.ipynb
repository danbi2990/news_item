{
 "cells": [
  {
   "cell_type": "code",
   "execution_count": 1,
   "metadata": {},
   "outputs": [],
   "source": [
    "import os\n",
    "\n",
    "import pandas as pd\n",
    "from langdetect import detect\n",
    "\n",
    "import src.mongos as mg\n",
    "\n",
    "%load_ext autoreload\n",
    "%autoreload 2"
   ]
  },
  {
   "cell_type": "markdown",
   "metadata": {},
   "source": [
    "# Const"
   ]
  },
  {
   "cell_type": "code",
   "execution_count": 2,
   "metadata": {},
   "outputs": [],
   "source": [
    "db_name = 'youtube_comment'\n",
    "# collection = 'comments'\n",
    "\n",
    "vids = [  # vid(video_ids) goes to collection name\n",
    "    'XsX3ATc3FbA',  # 작은 것들을 위한 시\n",
    "    'rBG5L7UsUxA',  # 데뷔곡: 2 COOL 4 SKOOL\n",
    "]\n",
    "\n",
    "cids = [\n",
    "    'comments',\n",
    "    'comments_rBG5L7UsUxA',\n",
    "]"
   ]
  },
  {
   "cell_type": "markdown",
   "metadata": {},
   "source": [
    "# Add langs"
   ]
  },
  {
   "cell_type": "code",
   "execution_count": 3,
   "metadata": {
    "code_folding": []
   },
   "outputs": [],
   "source": [
    "from langdetect.lang_detect_exception import LangDetectException\n",
    "\n",
    "error_codes = {\n",
    "    0: 'NoTextError',\n",
    "    1: 'FormatError',\n",
    "    2: 'FileLoadError',\n",
    "    3: 'DuplicateLangError',\n",
    "    4: 'NeedLoadProfileError',\n",
    "    5: 'CantDetectError',\n",
    "    6: 'CantOpenTrainData',\n",
    "    7: 'TrainDataFormatError',\n",
    "    8: 'InitParamError',\n",
    "}\n",
    "\n",
    "def detect_lang(row):\n",
    "    text = row['text']\n",
    "    author = row['author']\n",
    "    try:\n",
    "        return detect(text)\n",
    "    except (LangDetectException, TypeError) as e:\n",
    "        try:\n",
    "            return detect(author)\n",
    "        except LangDetectException as e:\n",
    "            return error_codes[e.code]\n",
    "        except TypeError as e:\n",
    "            return 'TypeError'\n",
    "\n",
    "def detect_text(t):\n",
    "    try:\n",
    "        return detect(t)\n",
    "    except LangDetectException as e:\n",
    "        return error_codes[e.code]\n",
    "\n",
    "def detect_author(a):\n",
    "    try:\n",
    "        return detect(a)\n",
    "    except LangDetectException as e:\n",
    "        return error_codes[e.code]\n",
    "    \n",
    "\n",
    "def get_langs(comments):\n",
    "#     comments = raw_comments.copy()\n",
    "\n",
    "#     comments['639-1'] = comments[['text', 'author']].apply(detect_lang, axis=1)\n",
    "#     comments['639-1'] = comments['text'].apply(detect_text)\n",
    "#     comments = comments.merge(langs[['ISO language name', '639-1']], on='639-1', how='left')\n",
    "#     comments['ISO language name'].fillna(comments['639-1'], inplace=True)\n",
    "#     return comments\n",
    "    return comments['text'].apply(detect_text)\n",
    "\n",
    "\n",
    "def detect_mp(row):\n",
    "    t = row['text']\n",
    "    try:\n",
    "        return detect(t)\n",
    "    except LangDetectException as e:\n",
    "        return error_codes[e.code]\n",
    "    except TypeError as e:\n",
    "        return 'TypeError'\n",
    "\n",
    "\n",
    "# comments['lang_text'] = comments['text'].apply(detect_text)\n",
    "# comments['lang_author'] = comments['author'].apply(detect_author)\n",
    "# comments = comments.merge(langs[['ISO language name', '639-1']], left_on='lang_text', right_on='639-1', how='left')\n",
    "\n",
    "# comments = add_langs(raw_comments)\n",
    "\n",
    "# print(len(comments))\n",
    "# comments"
   ]
  },
  {
   "cell_type": "markdown",
   "metadata": {},
   "source": [
    "# Multiprocessing"
   ]
  },
  {
   "cell_type": "code",
   "execution_count": 4,
   "metadata": {},
   "outputs": [],
   "source": [
    "from multiprocessing import  Pool\n",
    "from functools import partial\n",
    "import numpy as np\n",
    "\n",
    "def parallelize(data, func, num_of_processes=8):\n",
    "    data_split = np.array_split(data, num_of_processes)\n",
    "    pool = Pool(num_of_processes)\n",
    "    data = pd.concat(pool.map(func, data_split))\n",
    "    pool.close()\n",
    "    pool.join()\n",
    "    return data\n",
    "\n",
    "def run_on_subset(func, data_subset):\n",
    "    return data_subset.apply(func, axis=1)\n",
    "\n",
    "def parallelize_on_rows(data, func, num_of_processes=8):\n",
    "    return parallelize(data, partial(run_on_subset, func), num_of_processes)"
   ]
  },
  {
   "cell_type": "markdown",
   "metadata": {},
   "source": [
    "# Test MP"
   ]
  },
  {
   "cell_type": "code",
   "execution_count": 5,
   "metadata": {},
   "outputs": [],
   "source": [
    "# comments = mg.read_mongo(db_name, collection, query={'langCode': {'$exists': False}}, limit=1000, no_id=False,)\n",
    "# comments['langCode'] = parallelize_on_rows(comments, detect_mp, num_of_processes=4)\n",
    "# comments.head()"
   ]
  },
  {
   "cell_type": "markdown",
   "metadata": {},
   "source": [
    "# Execution"
   ]
  },
  {
   "cell_type": "code",
   "execution_count": 6,
   "metadata": {},
   "outputs": [],
   "source": [
    "collection = cids[1]"
   ]
  },
  {
   "cell_type": "markdown",
   "metadata": {},
   "source": [
    "## Before Update"
   ]
  },
  {
   "cell_type": "code",
   "execution_count": 7,
   "metadata": {},
   "outputs": [
    {
     "data": {
      "text/plain": [
       "81000"
      ]
     },
     "execution_count": 7,
     "metadata": {},
     "output_type": "execute_result"
    }
   ],
   "source": [
    "comments = mg.read_mongo(db_name, collection, query={'langCode': {'$exists': True}}, no_id=False)\n",
    "len(comments)"
   ]
  },
  {
   "cell_type": "markdown",
   "metadata": {},
   "source": [
    "## Load comments"
   ]
  },
  {
   "cell_type": "code",
   "execution_count": 8,
   "metadata": {
    "scrolled": true
   },
   "outputs": [
    {
     "name": "stdout",
     "output_type": "stream",
     "text": [
      "- bulk_write result:\n",
      "match, insert, modify, upsert\n",
      "1000 0 1000 0\n",
      "- bulk_write result:\n",
      "match, insert, modify, upsert\n",
      "1000 0 1000 0\n",
      "- bulk_write result:\n",
      "match, insert, modify, upsert\n",
      "1000 0 1000 0\n",
      "- bulk_write result:\n",
      "match, insert, modify, upsert\n",
      "1000 0 1000 0\n",
      "- bulk_write result:\n",
      "match, insert, modify, upsert\n",
      "1000 0 1000 0\n",
      "- bulk_write result:\n",
      "match, insert, modify, upsert\n",
      "1000 0 1000 0\n",
      "- bulk_write result:\n",
      "match, insert, modify, upsert\n",
      "1000 0 1000 0\n",
      "- bulk_write result:\n",
      "match, insert, modify, upsert\n",
      "1000 0 1000 0\n",
      "- bulk_write result:\n",
      "match, insert, modify, upsert\n",
      "1000 0 1000 0\n",
      "- bulk_write result:\n",
      "match, insert, modify, upsert\n",
      "1000 0 1000 0\n",
      "- bulk_write result:\n",
      "match, insert, modify, upsert\n",
      "1000 0 1000 0\n",
      "- bulk_write result:\n",
      "match, insert, modify, upsert\n",
      "1000 0 1000 0\n",
      "- bulk_write result:\n",
      "match, insert, modify, upsert\n",
      "1000 0 1000 0\n",
      "- bulk_write result:\n",
      "match, insert, modify, upsert\n",
      "1000 0 1000 0\n",
      "- bulk_write result:\n",
      "match, insert, modify, upsert\n",
      "1000 0 1000 0\n",
      "- bulk_write result:\n",
      "match, insert, modify, upsert\n",
      "1000 0 1000 0\n",
      "- bulk_write result:\n",
      "match, insert, modify, upsert\n",
      "1000 0 1000 0\n",
      "- bulk_write result:\n",
      "match, insert, modify, upsert\n",
      "1000 0 1000 0\n",
      "- bulk_write result:\n",
      "match, insert, modify, upsert\n",
      "1000 0 1000 0\n",
      "- bulk_write result:\n",
      "match, insert, modify, upsert\n",
      "1000 0 1000 0\n",
      "- bulk_write result:\n",
      "match, insert, modify, upsert\n",
      "1000 0 1000 0\n",
      "- bulk_write result:\n",
      "match, insert, modify, upsert\n",
      "1000 0 1000 0\n",
      "- bulk_write result:\n",
      "match, insert, modify, upsert\n",
      "1000 0 1000 0\n",
      "- bulk_write result:\n",
      "match, insert, modify, upsert\n",
      "1000 0 1000 0\n",
      "- bulk_write result:\n",
      "match, insert, modify, upsert\n",
      "1000 0 1000 0\n",
      "- bulk_write result:\n",
      "match, insert, modify, upsert\n",
      "1000 0 1000 0\n",
      "- bulk_write result:\n",
      "match, insert, modify, upsert\n",
      "1000 0 1000 0\n",
      "- bulk_write result:\n",
      "match, insert, modify, upsert\n",
      "1000 0 1000 0\n",
      "- bulk_write result:\n",
      "match, insert, modify, upsert\n",
      "1000 0 1000 0\n",
      "- bulk_write result:\n",
      "match, insert, modify, upsert\n",
      "1000 0 1000 0\n",
      "- bulk_write result:\n",
      "match, insert, modify, upsert\n",
      "1000 0 1000 0\n",
      "- bulk_write result:\n",
      "match, insert, modify, upsert\n",
      "1000 0 1000 0\n",
      "- bulk_write result:\n",
      "match, insert, modify, upsert\n",
      "1000 0 1000 0\n",
      "- bulk_write result:\n",
      "match, insert, modify, upsert\n",
      "1000 0 1000 0\n",
      "- bulk_write result:\n",
      "match, insert, modify, upsert\n",
      "1000 0 1000 0\n",
      "- bulk_write result:\n",
      "match, insert, modify, upsert\n",
      "1000 0 1000 0\n",
      "- bulk_write result:\n",
      "match, insert, modify, upsert\n",
      "1000 0 1000 0\n",
      "- bulk_write result:\n",
      "match, insert, modify, upsert\n",
      "1000 0 1000 0\n",
      "- bulk_write result:\n",
      "match, insert, modify, upsert\n",
      "1000 0 1000 0\n",
      "- bulk_write result:\n",
      "match, insert, modify, upsert\n",
      "394 0 394 0\n"
     ]
    }
   ],
   "source": [
    "while(True):\n",
    "    comments = mg.read_mongo(db_name, collection, query={'langCode': {'$exists': False}}, limit=1000, no_id=False)\n",
    "    if not len(comments):\n",
    "        break\n",
    "\n",
    "#     comments['langCode'] = get_langs(comments)  # %timeit : 9 seconds for 1000 rows\n",
    "    comments['langCode'] = parallelize_on_rows(comments, detect_mp, num_of_processes=4)\n",
    "    mg.update_mongo(comments, db_name, collection, ['_id'])"
   ]
  },
  {
   "cell_type": "markdown",
   "metadata": {},
   "source": [
    "## After Update"
   ]
  },
  {
   "cell_type": "code",
   "execution_count": 9,
   "metadata": {},
   "outputs": [
    {
     "data": {
      "text/plain": [
       "120394"
      ]
     },
     "execution_count": 9,
     "metadata": {},
     "output_type": "execute_result"
    }
   ],
   "source": [
    "comments = mg.read_mongo(db_name, collection, query={'langCode': {'$exists': True}}, no_id=False)\n",
    "len(comments)"
   ]
  },
  {
   "cell_type": "code",
   "execution_count": null,
   "metadata": {},
   "outputs": [],
   "source": []
  },
  {
   "cell_type": "code",
   "execution_count": null,
   "metadata": {},
   "outputs": [],
   "source": []
  },
  {
   "cell_type": "code",
   "execution_count": null,
   "metadata": {},
   "outputs": [],
   "source": []
  },
  {
   "cell_type": "code",
   "execution_count": null,
   "metadata": {},
   "outputs": [],
   "source": []
  }
 ],
 "metadata": {
  "kernelspec": {
   "display_name": "Workspace",
   "language": "python",
   "name": "workspace"
  },
  "language_info": {
   "codemirror_mode": {
    "name": "ipython",
    "version": 3
   },
   "file_extension": ".py",
   "mimetype": "text/x-python",
   "name": "python",
   "nbconvert_exporter": "python",
   "pygments_lexer": "ipython3",
   "version": "3.6.6"
  },
  "toc": {
   "base_numbering": 1,
   "nav_menu": {},
   "number_sections": true,
   "sideBar": true,
   "skip_h1_title": false,
   "title_cell": "Table of Contents",
   "title_sidebar": "Contents",
   "toc_cell": false,
   "toc_position": {
    "height": "calc(100% - 180px)",
    "left": "10px",
    "top": "150px",
    "width": "245px"
   },
   "toc_section_display": true,
   "toc_window_display": true
  }
 },
 "nbformat": 4,
 "nbformat_minor": 2
}
