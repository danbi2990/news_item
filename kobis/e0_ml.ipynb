{
 "cells": [
  {
   "cell_type": "code",
   "execution_count": 1,
   "metadata": {
    "code_folding": []
   },
   "outputs": [
    {
     "data": {
      "text/html": [
       "        <script type=\"text/javascript\">\n",
       "        window.PlotlyConfig = {MathJaxConfig: 'local'};\n",
       "        if (window.MathJax) {MathJax.Hub.Config({SVG: {font: \"STIX-Web\"}});}\n",
       "        if (typeof require !== 'undefined') {\n",
       "        require.undef(\"plotly\");\n",
       "        requirejs.config({\n",
       "            paths: {\n",
       "                'plotly': ['https://cdn.plot.ly/plotly-latest.min']\n",
       "            }\n",
       "        });\n",
       "        require(['plotly'], function(Plotly) {\n",
       "            window._Plotly = Plotly;\n",
       "        });\n",
       "        }\n",
       "        </script>\n",
       "        "
      ]
     },
     "metadata": {},
     "output_type": "display_data"
    }
   ],
   "source": [
    "# import\n",
    "import os\n",
    "import sys\n",
    "from datetime import timedelta\n",
    "\n",
    "import pandas as pd\n",
    "import numpy as np\n",
    "import matplotlib.pyplot as plt\n",
    "from sklearn.preprocessing import PolynomialFeatures\n",
    "from sklearn import linear_model\n",
    "import plotly\n",
    "import plotly.graph_objs as go\n",
    "\n",
    "# import src.mongos as mg\n",
    "from src.kobis import DB\n",
    "from src.kobis import (get_boxoffice, is_holiday)\n",
    "\n",
    "plotly.offline.init_notebook_mode(connected=True)\n",
    "\n",
    "pd.set_option('display.max_rows', None)\n",
    "pd.set_option('display.max_colwidth', -1)\n",
    "pd.set_option('display.max_columns', None)\n",
    "\n",
    "%load_ext autoreload\n",
    "%autoreload 2"
   ]
  },
  {
   "cell_type": "markdown",
   "metadata": {},
   "source": [
    "# Const"
   ]
  },
  {
   "cell_type": "code",
   "execution_count": 2,
   "metadata": {
    "code_folding": []
   },
   "outputs": [],
   "source": [
    "# Const\n",
    "docs_daily = 'daily_boxoffice'\n",
    "movie_names = [\n",
    "    '어벤져스',\n",
    "    '어벤져스: 에이지 오브 울트론',\n",
    "    '어벤져스 인피니티 워',\n",
    "    '어벤져스: 엔드게임',\n",
    "]\n",
    "nm_avengers1 = '어벤져스'\n",
    "nm_avengers2 = '어벤져스: 에이지 오브 울트론'\n",
    "nm_avengers3 = '어벤져스: 인피니티 워'\n",
    "nm_avengers4 = '어벤져스: 엔드게임'\n",
    "nm_myungryang = '명량'\n",
    "nm_with_god = '신과함께-죄와 벌'\n",
    "nm_extreme_job = '극한직업'\n",
    "nm_ = ''"
   ]
  },
  {
   "cell_type": "markdown",
   "metadata": {},
   "source": [
    "# Load"
   ]
  },
  {
   "cell_type": "code",
   "execution_count": 3,
   "metadata": {
    "code_folding": []
   },
   "outputs": [
    {
     "data": {
      "text/html": [
       "<div>\n",
       "<style scoped>\n",
       "    .dataframe tbody tr th:only-of-type {\n",
       "        vertical-align: middle;\n",
       "    }\n",
       "\n",
       "    .dataframe tbody tr th {\n",
       "        vertical-align: top;\n",
       "    }\n",
       "\n",
       "    .dataframe thead th {\n",
       "        text-align: right;\n",
       "    }\n",
       "</style>\n",
       "<table border=\"1\" class=\"dataframe\">\n",
       "  <thead>\n",
       "    <tr style=\"text-align: right;\">\n",
       "      <th></th>\n",
       "      <th>audiAcc</th>\n",
       "      <th>audiChange</th>\n",
       "      <th>audiCnt</th>\n",
       "      <th>audiInten</th>\n",
       "      <th>movieCd</th>\n",
       "      <th>movieNm</th>\n",
       "      <th>openDt</th>\n",
       "      <th>rank</th>\n",
       "      <th>rankInten</th>\n",
       "      <th>rankOldAndNew</th>\n",
       "      <th>rnum</th>\n",
       "      <th>salesAcc</th>\n",
       "      <th>salesAmt</th>\n",
       "      <th>salesChange</th>\n",
       "      <th>salesInten</th>\n",
       "      <th>salesShare</th>\n",
       "      <th>scrnCnt</th>\n",
       "      <th>showCnt</th>\n",
       "      <th>targetDt</th>\n",
       "      <th>openDt_f</th>\n",
       "      <th>targetDt_f</th>\n",
       "      <th>isHoliday</th>\n",
       "    </tr>\n",
       "  </thead>\n",
       "  <tbody>\n",
       "    <tr>\n",
       "      <th>0</th>\n",
       "      <td>870</td>\n",
       "      <td>100</td>\n",
       "      <td>870</td>\n",
       "      <td>870</td>\n",
       "      <td>20030191</td>\n",
       "      <td>매트릭스3 레볼루션</td>\n",
       "      <td>2003-11-05</td>\n",
       "      <td>1</td>\n",
       "      <td>0</td>\n",
       "      <td>NEW</td>\n",
       "      <td>1</td>\n",
       "      <td>7676000</td>\n",
       "      <td>7676000</td>\n",
       "      <td>100</td>\n",
       "      <td>7676000</td>\n",
       "      <td>62.6</td>\n",
       "      <td>6</td>\n",
       "      <td>16</td>\n",
       "      <td>20031111</td>\n",
       "      <td>2003-11-05</td>\n",
       "      <td>2003-11-11</td>\n",
       "      <td>False</td>\n",
       "    </tr>\n",
       "    <tr>\n",
       "      <th>1</th>\n",
       "      <td>177</td>\n",
       "      <td>100</td>\n",
       "      <td>177</td>\n",
       "      <td>177</td>\n",
       "      <td>20030152</td>\n",
       "      <td>위대한 유산</td>\n",
       "      <td>2003-10-24</td>\n",
       "      <td>2</td>\n",
       "      <td>0</td>\n",
       "      <td>NEW</td>\n",
       "      <td>2</td>\n",
       "      <td>1658000</td>\n",
       "      <td>1658000</td>\n",
       "      <td>100</td>\n",
       "      <td>1658000</td>\n",
       "      <td>13.5</td>\n",
       "      <td>1</td>\n",
       "      <td>3</td>\n",
       "      <td>20031111</td>\n",
       "      <td>2003-10-24</td>\n",
       "      <td>2003-11-11</td>\n",
       "      <td>False</td>\n",
       "    </tr>\n",
       "    <tr>\n",
       "      <th>2</th>\n",
       "      <td>116</td>\n",
       "      <td>100</td>\n",
       "      <td>116</td>\n",
       "      <td>116</td>\n",
       "      <td>20030154</td>\n",
       "      <td>황산벌</td>\n",
       "      <td>2003-10-17</td>\n",
       "      <td>3</td>\n",
       "      <td>0</td>\n",
       "      <td>NEW</td>\n",
       "      <td>3</td>\n",
       "      <td>1257000</td>\n",
       "      <td>1257000</td>\n",
       "      <td>100</td>\n",
       "      <td>1257000</td>\n",
       "      <td>10.3</td>\n",
       "      <td>1</td>\n",
       "      <td>3</td>\n",
       "      <td>20031111</td>\n",
       "      <td>2003-10-17</td>\n",
       "      <td>2003-11-11</td>\n",
       "      <td>False</td>\n",
       "    </tr>\n",
       "    <tr>\n",
       "      <th>3</th>\n",
       "      <td>102</td>\n",
       "      <td>100</td>\n",
       "      <td>102</td>\n",
       "      <td>102</td>\n",
       "      <td>20030247</td>\n",
       "      <td>아이덴티티</td>\n",
       "      <td>2003-10-31</td>\n",
       "      <td>4</td>\n",
       "      <td>0</td>\n",
       "      <td>NEW</td>\n",
       "      <td>4</td>\n",
       "      <td>821000</td>\n",
       "      <td>821000</td>\n",
       "      <td>100</td>\n",
       "      <td>821000</td>\n",
       "      <td>6.7</td>\n",
       "      <td>1</td>\n",
       "      <td>4</td>\n",
       "      <td>20031111</td>\n",
       "      <td>2003-10-31</td>\n",
       "      <td>2003-11-11</td>\n",
       "      <td>False</td>\n",
       "    </tr>\n",
       "    <tr>\n",
       "      <th>4</th>\n",
       "      <td>60</td>\n",
       "      <td>100</td>\n",
       "      <td>60</td>\n",
       "      <td>60</td>\n",
       "      <td>20030127</td>\n",
       "      <td>스캔들-조선남녀상열지사</td>\n",
       "      <td>2003-10-02</td>\n",
       "      <td>5</td>\n",
       "      <td>0</td>\n",
       "      <td>NEW</td>\n",
       "      <td>5</td>\n",
       "      <td>571000</td>\n",
       "      <td>571000</td>\n",
       "      <td>100</td>\n",
       "      <td>571000</td>\n",
       "      <td>4.7</td>\n",
       "      <td>1</td>\n",
       "      <td>3</td>\n",
       "      <td>20031111</td>\n",
       "      <td>2003-10-02</td>\n",
       "      <td>2003-11-11</td>\n",
       "      <td>False</td>\n",
       "    </tr>\n",
       "  </tbody>\n",
       "</table>\n",
       "</div>"
      ],
      "text/plain": [
       "  audiAcc audiChange audiCnt audiInten   movieCd       movieNm      openDt  \\\n",
       "0  870     100        870     870       20030191  매트릭스3 레볼루션    2003-11-05   \n",
       "1  177     100        177     177       20030152  위대한 유산        2003-10-24   \n",
       "2  116     100        116     116       20030154  황산벌           2003-10-17   \n",
       "3  102     100        102     102       20030247  아이덴티티         2003-10-31   \n",
       "4  60      100        60      60        20030127  스캔들-조선남녀상열지사  2003-10-02   \n",
       "\n",
       "  rank rankInten rankOldAndNew rnum salesAcc salesAmt salesChange salesInten  \\\n",
       "0  1    0         NEW           1    7676000  7676000  100         7676000     \n",
       "1  2    0         NEW           2    1658000  1658000  100         1658000     \n",
       "2  3    0         NEW           3    1257000  1257000  100         1257000     \n",
       "3  4    0         NEW           4    821000   821000   100         821000      \n",
       "4  5    0         NEW           5    571000   571000   100         571000      \n",
       "\n",
       "  salesShare scrnCnt showCnt  targetDt   openDt_f targetDt_f  isHoliday  \n",
       "0  62.6       6       16      20031111 2003-11-05 2003-11-11  False      \n",
       "1  13.5       1       3       20031111 2003-10-24 2003-11-11  False      \n",
       "2  10.3       1       3       20031111 2003-10-17 2003-11-11  False      \n",
       "3  6.7        1       4       20031111 2003-10-31 2003-11-11  False      \n",
       "4  4.7        1       3       20031111 2003-10-02 2003-11-11  False      "
      ]
     },
     "execution_count": 3,
     "metadata": {},
     "output_type": "execute_result"
    }
   ],
   "source": [
    "# box\n",
    "raw = get_boxoffice(trim=False)\n",
    "raw.head()"
   ]
  },
  {
   "cell_type": "markdown",
   "metadata": {},
   "source": [
    "# Prepare"
   ]
  },
  {
   "cell_type": "code",
   "execution_count": 4,
   "metadata": {
    "code_folding": []
   },
   "outputs": [],
   "source": [
    "def prepare_kobis(df):\n",
    "    df['year'] = df['targetDt_f'].apply(lambda x: x.year)\n",
    "    df['month'] = df['targetDt_f'].apply(lambda x: x.month)\n",
    "    df['audiCnt_num'] = df['audiCnt'].astype('int')\n",
    "    df['audiAcc_num'] = df['audiAcc'].astype('int')\n",
    "    df['showCnt_num'] = df['showCnt'].astype('int')\n",
    "    df['cnt_show'] = df['audiCnt_num'] / df['showCnt_num']\n",
    "    df['scrnCnt_num'] = df['scrnCnt'].astype('int')\n",
    "    df['cnt_scrn'] = df['audiCnt_num'] / df['scrnCnt_num']\n",
    "    \n",
    "    df = df.loc[(df['targetDt_f']>=df['openDt_f'])].reset_index(drop=True)\n",
    "    \n",
    "    return df\n",
    "\n",
    "box = prepare_kobis(raw)"
   ]
  },
  {
   "cell_type": "markdown",
   "metadata": {},
   "source": [
    "# Functions"
   ]
  },
  {
   "cell_type": "code",
   "execution_count": 5,
   "metadata": {},
   "outputs": [],
   "source": [
    "def get_movie(box, name):\n",
    "    idx_movie = box['movieNm'] == name\n",
    "    return box.loc[idx_movie].reset_index(drop=True)"
   ]
  },
  {
   "cell_type": "markdown",
   "metadata": {},
   "source": [
    "# Get Movies"
   ]
  },
  {
   "cell_type": "code",
   "execution_count": 6,
   "metadata": {},
   "outputs": [],
   "source": [
    "endgame = get_movie(box, nm_avengers4)\n",
    "mr = get_movie(box, nm_myungryang)\n",
    "extreme = get_movie(box, nm_extreme_job)\n"
   ]
  },
  {
   "cell_type": "code",
   "execution_count": null,
   "metadata": {},
   "outputs": [],
   "source": []
  }
 ],
 "metadata": {
  "kernelspec": {
   "display_name": "Workspace",
   "language": "python",
   "name": "workspace"
  },
  "language_info": {
   "codemirror_mode": {
    "name": "ipython",
    "version": 3
   },
   "file_extension": ".py",
   "mimetype": "text/x-python",
   "name": "python",
   "nbconvert_exporter": "python",
   "pygments_lexer": "ipython3",
   "version": "3.6.6"
  },
  "toc": {
   "base_numbering": 1,
   "nav_menu": {},
   "number_sections": true,
   "sideBar": true,
   "skip_h1_title": false,
   "title_cell": "Table of Contents",
   "title_sidebar": "Contents",
   "toc_cell": false,
   "toc_position": {
    "height": "calc(100% - 180px)",
    "left": "10px",
    "top": "150px",
    "width": "244px"
   },
   "toc_section_display": true,
   "toc_window_display": true
  }
 },
 "nbformat": 4,
 "nbformat_minor": 2
}
