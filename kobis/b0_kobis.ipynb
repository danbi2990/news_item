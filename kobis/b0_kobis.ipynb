{
 "cells": [
  {
   "cell_type": "markdown",
   "metadata": {},
   "source": [
    "# Import"
   ]
  },
  {
   "cell_type": "code",
   "execution_count": 2,
   "metadata": {},
   "outputs": [
    {
     "name": "stdout",
     "output_type": "stream",
     "text": [
      "The autoreload extension is already loaded. To reload it, use:\n",
      "  %reload_ext autoreload\n"
     ]
    }
   ],
   "source": [
    "import json\n",
    "import os\n",
    "import sys\n",
    "from datetime import datetime, timedelta\n",
    "\n",
    "import pandas as pd\n",
    "\n",
    "from src.kobis import (get_url, fetch_data)\n",
    "from src.kobis import DB\n",
    "import src.mongos as mg\n",
    "\n",
    "%load_ext autoreload\n",
    "%autoreload 2"
   ]
  },
  {
   "cell_type": "markdown",
   "metadata": {},
   "source": [
    "# Const"
   ]
  },
  {
   "cell_type": "code",
   "execution_count": 2,
   "metadata": {},
   "outputs": [],
   "source": [
    "collection = 'daily_boxoffice'\n",
    "date_origin = '20031111'  # check http://www.kobis.or.kr/kobisopenapi/webservice/rest/boxoffice/searchDailyBoxOfficeList.json?key=430156241533f1d058c603178cc3ca0e&targetDt=20031111\n",
    "fmt = '%Y%m%d'"
   ]
  },
  {
   "cell_type": "markdown",
   "metadata": {},
   "source": [
    "# Parameters for papermill"
   ]
  },
  {
   "cell_type": "code",
   "execution_count": 3,
   "metadata": {
    "tags": [
     "parameters"
    ]
   },
   "outputs": [],
   "source": [
    "start_date = (datetime.today() - timedelta(days=1)).strftime(fmt)\n",
    "end_date = (datetime.today() - timedelta(days=1)).strftime(fmt)\n",
    "\n",
    "# start_date = 20190430\n",
    "# start_date = 20180813\n",
    "# end_date = 20180813"
   ]
  },
  {
   "cell_type": "markdown",
   "metadata": {},
   "source": [
    "# Functions"
   ]
  },
  {
   "cell_type": "code",
   "execution_count": 4,
   "metadata": {},
   "outputs": [],
   "source": [
    "def get_boxoffice_list(dct):\n",
    "    return dct.get('boxOfficeResult', {}).get('dailyBoxOfficeList', [])\n",
    "#     return dct['boxOfficeResult']['dailyBoxOfficeList']\n",
    "\n",
    "\n",
    "def add_days(sdt, days=1, fmt='%Y%m%d'):\n",
    "    fdt = datetime.strptime(sdt, fmt)\n",
    "    fdt += timedelta(days=days)\n",
    "    return fdt.strftime(fmt)"
   ]
  },
  {
   "cell_type": "markdown",
   "metadata": {},
   "source": [
    "# Execute"
   ]
  },
  {
   "cell_type": "code",
   "execution_count": 5,
   "metadata": {},
   "outputs": [
    {
     "name": "stdout",
     "output_type": "stream",
     "text": [
      "Deleted rows: 0\n",
      "Inserted rows: 10\n"
     ]
    }
   ],
   "source": [
    "url = 'http://www.kobis.or.kr/kobisopenapi/webservice/rest/boxoffice/searchDailyBoxOfficeList.json'\n",
    "params = {}\n",
    "datelist = pd.date_range(\n",
    "    start=str(start_date),\n",
    "    end=str(end_date),\n",
    ")\n",
    "\n",
    "for d in datelist:\n",
    "    targetDt = d.strftime(fmt)\n",
    "    params['targetDt'] = targetDt\n",
    "    url0 = get_url(url, params)\n",
    "    data = fetch_data(url0)\n",
    "    lst = get_boxoffice_list(data)\n",
    "    for e in lst:\n",
    "        e['targetDt'] = targetDt\n",
    "\n",
    "    if lst:\n",
    "        mg.to_mongo(lst, DB, collection, query={'targetDt': targetDt}, delete=True, dtype='list')\n",
    "    else:\n",
    "        print('Data Empty:', targetDt)"
   ]
  },
  {
   "cell_type": "code",
   "execution_count": null,
   "metadata": {},
   "outputs": [],
   "source": []
  }
 ],
 "metadata": {
  "celltoolbar": "Tags",
  "kernelspec": {
   "display_name": "Workspace",
   "language": "python",
   "name": "workspace"
  },
  "language_info": {
   "codemirror_mode": {
    "name": "ipython",
    "version": 3
   },
   "file_extension": ".py",
   "mimetype": "text/x-python",
   "name": "python",
   "nbconvert_exporter": "python",
   "pygments_lexer": "ipython3",
   "version": "3.6.6"
  },
  "toc": {
   "base_numbering": 1,
   "nav_menu": {},
   "number_sections": true,
   "sideBar": true,
   "skip_h1_title": false,
   "title_cell": "Table of Contents",
   "title_sidebar": "Contents",
   "toc_cell": false,
   "toc_position": {
    "height": "calc(100% - 180px)",
    "left": "10px",
    "top": "150px",
    "width": "269px"
   },
   "toc_section_display": true,
   "toc_window_display": true
  }
 },
 "nbformat": 4,
 "nbformat_minor": 2
}
