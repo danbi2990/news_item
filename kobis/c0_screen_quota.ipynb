{
 "cells": [
  {
   "cell_type": "code",
   "execution_count": 26,
   "metadata": {},
   "outputs": [
    {
     "name": "stdout",
     "output_type": "stream",
     "text": [
      "The autoreload extension is already loaded. To reload it, use:\n",
      "  %reload_ext autoreload\n"
     ]
    }
   ],
   "source": [
    "import urllib.parse\n",
    "\n",
    "import requests\n",
    "from bs4 import BeautifulSoup as bs\n",
    "import pandas as pd\n",
    "\n",
    "import src.mongos as mg\n",
    "\n",
    "pd.set_option('display.max_rows', None)\n",
    "pd.set_option('display.max_colwidth', -1)\n",
    "pd.set_option('display.max_columns', None)\n",
    "\n",
    "%load_ext autoreload\n",
    "%autoreload 2"
   ]
  },
  {
   "cell_type": "markdown",
   "metadata": {},
   "source": [
    "# Const"
   ]
  },
  {
   "cell_type": "code",
   "execution_count": 2,
   "metadata": {
    "code_folding": [
     0
    ]
   },
   "outputs": [],
   "source": [
    "# Const\n",
    "url_first_page = 'http://www.kobis.or.kr/kobis/business/mast/thea/findScreenQuota.do'\n",
    "url_basic_area = 'http://www.kobis.or.kr/kobis/business/mast/thea/findBasareaCdList.do'\n",
    "url_theater = 'http://www.kobis.or.kr/kobis/business/mast/thea/findTheaCdList.do'\n",
    "url_screen_quota = 'http://www.kobis.or.kr/kobis/business/mast/thea/findScreenQuota.do'"
   ]
  },
  {
   "cell_type": "markdown",
   "metadata": {},
   "source": [
    "# Get Wide Areas"
   ]
  },
  {
   "cell_type": "code",
   "execution_count": 3,
   "metadata": {
    "code_folding": [
     0
    ]
   },
   "outputs": [],
   "source": [
    "def get_wide_area_table():\n",
    "    r = requests.get(url_first_page)\n",
    "    soup = bs(r.text, 'lxml')\n",
    "\n",
    "    wide_areas = soup.select('#sWideareaCd option')\n",
    "    wide_area_codes = [x['value'] for x in  wide_areas if x['value'] != '']\n",
    "    wide_area_names = [x.get_text() for x in  wide_areas if x.get_text() != '광역선택']\n",
    "    wide_area_table = dict(zip(wide_area_codes, wide_area_names))\n",
    "\n",
    "    return wide_area_table"
   ]
  },
  {
   "cell_type": "markdown",
   "metadata": {},
   "source": [
    "# Get Basic Areas"
   ]
  },
  {
   "cell_type": "code",
   "execution_count": 4,
   "metadata": {
    "code_folding": [
     0
    ]
   },
   "outputs": [],
   "source": [
    "def get_basic_area_table(wide_area_code):\n",
    "#     wide_area_code = wide_area_codes[0]\n",
    "    r2 = requests.post(url_basic_area, {'sWideareaCd': wide_area_code})\n",
    "    result2 = r2.json()\n",
    "    basic_areas = result2.get('basareaCdList', [])\n",
    "\n",
    "    basic_areas\n",
    "    basic_area_codes = [x['cd'] for x in basic_areas]\n",
    "    basic_area_names = [x['cdNm'] for x in basic_areas]\n",
    "    basic_area_table = dict(zip(basic_area_codes, basic_area_names))\n",
    "    return basic_area_table"
   ]
  },
  {
   "cell_type": "markdown",
   "metadata": {},
   "source": [
    "# Get Theaters"
   ]
  },
  {
   "cell_type": "code",
   "execution_count": 5,
   "metadata": {
    "code_folding": [
     0
    ]
   },
   "outputs": [],
   "source": [
    "def get_theater_table(wide_area_code, basic_area_code):\n",
    "#     basic_area_code = basic_area_codes[0]\n",
    "    r3 = requests.post(url_theater, {'sWideareaCd': wide_area_code, 'sBasareaCd': basic_area_code, 'mode': 'history'})\n",
    "    result3 = r3.json()\n",
    "\n",
    "    theaters = result3.get('theaCdList', [])\n",
    "    theaters\n",
    "\n",
    "    theater_codes = [x['cd'] for x in theaters]\n",
    "    theater_names = [x['cdNm'] for x in theaters]\n",
    "    theater_table = dict(zip(theater_codes, theater_names))\n",
    "    return theater_table"
   ]
  },
  {
   "cell_type": "markdown",
   "metadata": {},
   "source": [
    "# Get Screen Quota"
   ]
  },
  {
   "cell_type": "code",
   "execution_count": 6,
   "metadata": {
    "code_folding": []
   },
   "outputs": [],
   "source": [
    "def get_screen_quota_response(year, wide_area_code, basic_area_code, theater_code):\n",
    "#     theater_code = theater_codes[8]\n",
    "    params = {\n",
    "        'theaCd': '', 'theaArea': '', 'sTheaNm': '',\n",
    "        'sYear': year, 'choice': '1', 'sWideareaCd': wide_area_code, 'sBasareaCd': basic_area_code, 'sTheaCd': theater_code,\n",
    "    }\n",
    "    encoded_params = urllib.parse.urlencode(params)\n",
    "\n",
    "    # urllib.parse.urlencode(params)\n",
    "#     print(encoded_params)\n",
    "\n",
    "    r = requests.get('http://localhost:8050/render.html',\n",
    "                  params={'url': url_screen_quota,\n",
    "                          'http_method': 'POST',\n",
    "    #                       'body': 'theaCd=&theaArea=&sYear=2019&choice=1&sWideareaCd=0105001&sBasareaCd=010600101&sTheaCd=001128&sTheaNm=',\n",
    "                          'body': encoded_params,\n",
    "                          'wait': 2})\n",
    "    return r\n",
    "\n",
    "\n",
    "year = '2019'\n",
    "wide_area_code = \"0105001\"\n",
    "basic_area_code = \"010600101\"\n",
    "# theater_code = \"001128\"\n",
    "theater_code = \"001070\"\n",
    "\n",
    "r = get_screen_quota_response(year, wide_area_code, basic_area_code, theater_code)"
   ]
  },
  {
   "cell_type": "markdown",
   "metadata": {},
   "source": [
    "# Parse theater details & quota summary"
   ]
  },
  {
   "cell_type": "code",
   "execution_count": 24,
   "metadata": {
    "code_folding": [],
    "scrolled": true
   },
   "outputs": [],
   "source": [
    "def parse_theater_detail(r, year, wide_area_code, wide_area_table, basic_area_code, basic_area_table, theater_code, theater_table):\n",
    "    try:\n",
    "        screen_tables = pd.read_html(r.text)\n",
    "    except ValueError as e:\n",
    "        return pd.DataFrame()\n",
    "    theater_info = screen_tables[0]\n",
    "\n",
    "    cols = theater_info[0].append(theater_info[2])\n",
    "    rows = [theater_info[1].append(theater_info[3]).tolist()]\n",
    "    rows\n",
    "    theater_detail = pd.DataFrame(columns=cols, data=rows)\n",
    "    theater_detail['wide_area_code'] = wide_area_code\n",
    "    theater_detail['wide_area_name'] = wide_area_table[wide_area_code]\n",
    "    theater_detail['basic_area_code'] = basic_area_code\n",
    "    theater_detail['basic_area_name'] = basic_area_table[basic_area_code]\n",
    "    theater_detail['theater_code'] = theater_code\n",
    "    theater_detail['theater_name'] = theater_table[theater_code]\n",
    "\n",
    "    return theater_detail"
   ]
  },
  {
   "cell_type": "code",
   "execution_count": 13,
   "metadata": {
    "code_folding": [],
    "scrolled": true
   },
   "outputs": [],
   "source": [
    "def parse_quota_summary(r, year, theater_code, theater_table):\n",
    "    screen_tables = pd.read_html(r.text)\n",
    "\n",
    "    try:\n",
    "        quota_summary = screen_tables[1]\n",
    "        quota_summary['year'] = year\n",
    "        quota_summary['theater_code'] = theater_code\n",
    "        quota_summary['theater_name'] = theater_table[theater_code]\n",
    "        return quota_summary\n",
    "    except IndexError as e:\n",
    "        return pd.DataFrame()"
   ]
  },
  {
   "cell_type": "markdown",
   "metadata": {},
   "source": [
    "# Parse Quota"
   ]
  },
  {
   "cell_type": "code",
   "execution_count": 20,
   "metadata": {},
   "outputs": [],
   "source": [
    "def parse_quota(r, year, theater_code):\n",
    "    soup = bs(r.text, 'lxml')\n",
    "    tables = soup.select('table')\n",
    "    quota = pd.DataFrame(columns=['상영일자', '스크린', 'year', 'theater_code'], data=[['', {}, year, theater_code]])\n",
    "\n",
    "    try:\n",
    "        quota_table = tables[2]\n",
    "    except IndexError as e:\n",
    "        return quota\n",
    "\n",
    "    cols = [x.get_text() for x in quota_table.select('thead th')]\n",
    "    trs = quota_table.select('tbody tr')\n",
    "\n",
    "    rows = []\n",
    "    for tr in trs:\n",
    "        tds = tr.select('td')\n",
    "        row = [td.get_text().strip() + '(quota)' if td.strong else td.get_text().strip() for td in tds]\n",
    "        screen = dict(zip(cols[1:], row[1:]))\n",
    "        rows.append([row[0], screen])\n",
    "\n",
    "    if rows:\n",
    "        quota = pd.DataFrame(columns=['상영일자', '스크린'], data=rows)\n",
    "        quota['year'] = year\n",
    "        quota['theater_code'] = theater_code\n",
    "#     if len(quota) == 0:\n",
    "#         quota = pd.DataFrame(columns=['상영일자', '스크린', 'year', 'theater_code'], data=[['', {}, year, theater_code]])\n",
    "    return quota\n",
    "\n",
    "# result = parse_quota(r, year, theater_code)\n",
    "# result\n",
    "\n",
    "# query = {'theater_code': theater_code}\n",
    "# query = mg.update_mongo(quota, db, 'quota', query)"
   ]
  },
  {
   "cell_type": "markdown",
   "metadata": {},
   "source": [
    "# Execute"
   ]
  },
  {
   "cell_type": "code",
   "execution_count": 17,
   "metadata": {},
   "outputs": [],
   "source": [
    "db = 'screen_quota'"
   ]
  },
  {
   "cell_type": "code",
   "execution_count": 25,
   "metadata": {
    "scrolled": true
   },
   "outputs": [
    {
     "ename": "ValueError",
     "evalue": "No tables found",
     "output_type": "error",
     "traceback": [
      "\u001b[0;31m---------------------------------------------------------------------------\u001b[0m",
      "\u001b[0;31mValueError\u001b[0m                                Traceback (most recent call last)",
      "\u001b[0;32m<ipython-input-25-b259f19dac99>\u001b[0m in \u001b[0;36m<module>\u001b[0;34m\u001b[0m\n\u001b[1;32m     23\u001b[0m                                                         \u001b[0mbasic_area_code\u001b[0m\u001b[0;34m,\u001b[0m \u001b[0mbasic_area_table\u001b[0m\u001b[0;34m,\u001b[0m\u001b[0;34m\u001b[0m\u001b[0;34m\u001b[0m\u001b[0m\n\u001b[1;32m     24\u001b[0m                                                         theater_code, theater_table)\n\u001b[0;32m---> 25\u001b[0;31m                 \u001b[0mquota_summary\u001b[0m \u001b[0;34m=\u001b[0m \u001b[0mparse_quota_summary\u001b[0m\u001b[0;34m(\u001b[0m\u001b[0mr\u001b[0m\u001b[0;34m,\u001b[0m \u001b[0myear\u001b[0m\u001b[0;34m,\u001b[0m \u001b[0mtheater_code\u001b[0m\u001b[0;34m,\u001b[0m \u001b[0mtheater_table\u001b[0m\u001b[0;34m)\u001b[0m\u001b[0;34m\u001b[0m\u001b[0;34m\u001b[0m\u001b[0m\n\u001b[0m\u001b[1;32m     26\u001b[0m                 \u001b[0mquota\u001b[0m \u001b[0;34m=\u001b[0m \u001b[0mparse_quota\u001b[0m\u001b[0;34m(\u001b[0m\u001b[0mr\u001b[0m\u001b[0;34m,\u001b[0m \u001b[0myear\u001b[0m\u001b[0;34m,\u001b[0m \u001b[0mtheater_code\u001b[0m\u001b[0;34m)\u001b[0m\u001b[0;34m\u001b[0m\u001b[0;34m\u001b[0m\u001b[0m\n\u001b[1;32m     27\u001b[0m                 \u001b[0mmg\u001b[0m\u001b[0;34m.\u001b[0m\u001b[0mupdate_mongo\u001b[0m\u001b[0;34m(\u001b[0m\u001b[0mtheater_detail\u001b[0m\u001b[0;34m,\u001b[0m \u001b[0mdb\u001b[0m\u001b[0;34m,\u001b[0m \u001b[0;34m'theater_detail'\u001b[0m\u001b[0;34m,\u001b[0m \u001b[0;34m[\u001b[0m\u001b[0;34m'theater_code'\u001b[0m\u001b[0;34m]\u001b[0m\u001b[0;34m)\u001b[0m\u001b[0;34m\u001b[0m\u001b[0;34m\u001b[0m\u001b[0m\n",
      "\u001b[0;32m<ipython-input-13-bc88829c6c19>\u001b[0m in \u001b[0;36mparse_quota_summary\u001b[0;34m(r, year, theater_code, theater_table)\u001b[0m\n\u001b[1;32m      1\u001b[0m \u001b[0;32mdef\u001b[0m \u001b[0mparse_quota_summary\u001b[0m\u001b[0;34m(\u001b[0m\u001b[0mr\u001b[0m\u001b[0;34m,\u001b[0m \u001b[0myear\u001b[0m\u001b[0;34m,\u001b[0m \u001b[0mtheater_code\u001b[0m\u001b[0;34m,\u001b[0m \u001b[0mtheater_table\u001b[0m\u001b[0;34m)\u001b[0m\u001b[0;34m:\u001b[0m\u001b[0;34m\u001b[0m\u001b[0;34m\u001b[0m\u001b[0m\n\u001b[0;32m----> 2\u001b[0;31m     \u001b[0mscreen_tables\u001b[0m \u001b[0;34m=\u001b[0m \u001b[0mpd\u001b[0m\u001b[0;34m.\u001b[0m\u001b[0mread_html\u001b[0m\u001b[0;34m(\u001b[0m\u001b[0mr\u001b[0m\u001b[0;34m.\u001b[0m\u001b[0mtext\u001b[0m\u001b[0;34m)\u001b[0m\u001b[0;34m\u001b[0m\u001b[0;34m\u001b[0m\u001b[0m\n\u001b[0m\u001b[1;32m      3\u001b[0m \u001b[0;34m\u001b[0m\u001b[0m\n\u001b[1;32m      4\u001b[0m     \u001b[0;32mtry\u001b[0m\u001b[0;34m:\u001b[0m\u001b[0;34m\u001b[0m\u001b[0;34m\u001b[0m\u001b[0m\n\u001b[1;32m      5\u001b[0m         \u001b[0mquota_summary\u001b[0m \u001b[0;34m=\u001b[0m \u001b[0mscreen_tables\u001b[0m\u001b[0;34m[\u001b[0m\u001b[0;36m1\u001b[0m\u001b[0;34m]\u001b[0m\u001b[0;34m\u001b[0m\u001b[0;34m\u001b[0m\u001b[0m\n",
      "\u001b[0;32m~/.virtualenvs/workspace/lib/python3.6/site-packages/pandas/io/html.py\u001b[0m in \u001b[0;36mread_html\u001b[0;34m(io, match, flavor, header, index_col, skiprows, attrs, parse_dates, tupleize_cols, thousands, encoding, decimal, converters, na_values, keep_default_na, displayed_only)\u001b[0m\n\u001b[1;32m   1092\u001b[0m                   \u001b[0mdecimal\u001b[0m\u001b[0;34m=\u001b[0m\u001b[0mdecimal\u001b[0m\u001b[0;34m,\u001b[0m \u001b[0mconverters\u001b[0m\u001b[0;34m=\u001b[0m\u001b[0mconverters\u001b[0m\u001b[0;34m,\u001b[0m \u001b[0mna_values\u001b[0m\u001b[0;34m=\u001b[0m\u001b[0mna_values\u001b[0m\u001b[0;34m,\u001b[0m\u001b[0;34m\u001b[0m\u001b[0;34m\u001b[0m\u001b[0m\n\u001b[1;32m   1093\u001b[0m                   \u001b[0mkeep_default_na\u001b[0m\u001b[0;34m=\u001b[0m\u001b[0mkeep_default_na\u001b[0m\u001b[0;34m,\u001b[0m\u001b[0;34m\u001b[0m\u001b[0;34m\u001b[0m\u001b[0m\n\u001b[0;32m-> 1094\u001b[0;31m                   displayed_only=displayed_only)\n\u001b[0m",
      "\u001b[0;32m~/.virtualenvs/workspace/lib/python3.6/site-packages/pandas/io/html.py\u001b[0m in \u001b[0;36m_parse\u001b[0;34m(flavor, io, match, attrs, encoding, displayed_only, **kwargs)\u001b[0m\n\u001b[1;32m    914\u001b[0m             \u001b[0;32mbreak\u001b[0m\u001b[0;34m\u001b[0m\u001b[0;34m\u001b[0m\u001b[0m\n\u001b[1;32m    915\u001b[0m     \u001b[0;32melse\u001b[0m\u001b[0;34m:\u001b[0m\u001b[0;34m\u001b[0m\u001b[0;34m\u001b[0m\u001b[0m\n\u001b[0;32m--> 916\u001b[0;31m         \u001b[0mraise_with_traceback\u001b[0m\u001b[0;34m(\u001b[0m\u001b[0mretained\u001b[0m\u001b[0;34m)\u001b[0m\u001b[0;34m\u001b[0m\u001b[0;34m\u001b[0m\u001b[0m\n\u001b[0m\u001b[1;32m    917\u001b[0m \u001b[0;34m\u001b[0m\u001b[0m\n\u001b[1;32m    918\u001b[0m     \u001b[0mret\u001b[0m \u001b[0;34m=\u001b[0m \u001b[0;34m[\u001b[0m\u001b[0;34m]\u001b[0m\u001b[0;34m\u001b[0m\u001b[0;34m\u001b[0m\u001b[0m\n",
      "\u001b[0;32m~/.virtualenvs/workspace/lib/python3.6/site-packages/pandas/compat/__init__.py\u001b[0m in \u001b[0;36mraise_with_traceback\u001b[0;34m(exc, traceback)\u001b[0m\n\u001b[1;32m    418\u001b[0m         \u001b[0;32mif\u001b[0m \u001b[0mtraceback\u001b[0m \u001b[0;34m==\u001b[0m \u001b[0mEllipsis\u001b[0m\u001b[0;34m:\u001b[0m\u001b[0;34m\u001b[0m\u001b[0;34m\u001b[0m\u001b[0m\n\u001b[1;32m    419\u001b[0m             \u001b[0m_\u001b[0m\u001b[0;34m,\u001b[0m \u001b[0m_\u001b[0m\u001b[0;34m,\u001b[0m \u001b[0mtraceback\u001b[0m \u001b[0;34m=\u001b[0m \u001b[0msys\u001b[0m\u001b[0;34m.\u001b[0m\u001b[0mexc_info\u001b[0m\u001b[0;34m(\u001b[0m\u001b[0;34m)\u001b[0m\u001b[0;34m\u001b[0m\u001b[0;34m\u001b[0m\u001b[0m\n\u001b[0;32m--> 420\u001b[0;31m         \u001b[0;32mraise\u001b[0m \u001b[0mexc\u001b[0m\u001b[0;34m.\u001b[0m\u001b[0mwith_traceback\u001b[0m\u001b[0;34m(\u001b[0m\u001b[0mtraceback\u001b[0m\u001b[0;34m)\u001b[0m\u001b[0;34m\u001b[0m\u001b[0;34m\u001b[0m\u001b[0m\n\u001b[0m\u001b[1;32m    421\u001b[0m \u001b[0;32melse\u001b[0m\u001b[0;34m:\u001b[0m\u001b[0;34m\u001b[0m\u001b[0;34m\u001b[0m\u001b[0m\n\u001b[1;32m    422\u001b[0m     \u001b[0;31m# this version of raise is a syntax error in Python 3\u001b[0m\u001b[0;34m\u001b[0m\u001b[0;34m\u001b[0m\u001b[0;34m\u001b[0m\u001b[0m\n",
      "\u001b[0;31mValueError\u001b[0m: No tables found"
     ]
    }
   ],
   "source": [
    "existing = mg.read_mongo(db, 'quota')\n",
    "existing.head()\n",
    "\n",
    "existing_year_theater = existing.groupby(['year', 'theater_code']).agg({'상영일자': 'max'})\n",
    "# (2019, '001003') in existing_year_theater.index[0]\n",
    "# (2019, '001003') in existing_year_theater.index\n",
    "\n",
    "wide_area_table = get_wide_area_table()\n",
    "\n",
    "for year in range(2019, 2003, -1):\n",
    "\n",
    "    for wide_area_code in wide_area_table.keys():\n",
    "        basic_area_table = get_basic_area_table(wide_area_code)\n",
    "\n",
    "        for basic_area_code in basic_area_table.keys():\n",
    "            theater_table = get_theater_table(wide_area_code, basic_area_code)\n",
    "\n",
    "            for theater_code in theater_table.keys():\n",
    "                if (year, theater_code) in existing_year_theater.index:\n",
    "                    continue\n",
    "                r = get_screen_quota_response(year, wide_area_code, basic_area_code, theater_code)\n",
    "                theater_detail = parse_theater_detail(r, year, wide_area_code, wide_area_table,\n",
    "                                                        basic_area_code, basic_area_table,\n",
    "                                                        theater_code, theater_table)\n",
    "                quota_summary = parse_quota_summary(r, year, theater_code, theater_table)\n",
    "                quota = parse_quota(r, year, theater_code)\n",
    "                mg.update_mongo(theater_detail, db, 'theater_detail', ['theater_code'])\n",
    "                mg.update_mongo(quota_summary, db, 'quota_summary', ['year', 'theater_code', '스크린'])\n",
    "                mg.update_mongo(quota, db, 'quota', ['theater_code', '상영일자'])"
   ]
  },
  {
   "cell_type": "code",
   "execution_count": null,
   "metadata": {},
   "outputs": [],
   "source": []
  },
  {
   "cell_type": "code",
   "execution_count": null,
   "metadata": {},
   "outputs": [],
   "source": []
  },
  {
   "cell_type": "code",
   "execution_count": null,
   "metadata": {},
   "outputs": [],
   "source": []
  }
 ],
 "metadata": {
  "kernelspec": {
   "display_name": "Workspace",
   "language": "python",
   "name": "workspace"
  },
  "language_info": {
   "codemirror_mode": {
    "name": "ipython",
    "version": 3
   },
   "file_extension": ".py",
   "mimetype": "text/x-python",
   "name": "python",
   "nbconvert_exporter": "python",
   "pygments_lexer": "ipython3",
   "version": "3.6.6"
  },
  "toc": {
   "base_numbering": 1,
   "nav_menu": {},
   "number_sections": true,
   "sideBar": true,
   "skip_h1_title": false,
   "title_cell": "Table of Contents",
   "title_sidebar": "Contents",
   "toc_cell": false,
   "toc_position": {},
   "toc_section_display": true,
   "toc_window_display": true
  }
 },
 "nbformat": 4,
 "nbformat_minor": 2
}
