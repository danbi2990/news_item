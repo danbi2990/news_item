{
 "cells": [
  {
   "cell_type": "code",
   "execution_count": 4,
   "metadata": {},
   "outputs": [],
   "source": [
    "import requests\n",
    "from bs4 import BeautifulSoup as bs"
   ]
  },
  {
   "cell_type": "code",
   "execution_count": 5,
   "metadata": {},
   "outputs": [
    {
     "name": "stderr",
     "output_type": "stream",
     "text": [
      "/home/jake/.virtualenvs/workspace/lib/python3.6/site-packages/bs4/__init__.py:181: UserWarning: No parser was explicitly specified, so I'm using the best available HTML parser for this system (\"lxml\"). This usually isn't a problem, but if you run this code on another system, or in a different virtual environment, it may use a different parser and behave differently.\n",
      "\n",
      "The code that caused this warning is on line 193 of the file /usr/lib/python3.6/runpy.py. To get rid of this warning, change code that looks like this:\n",
      "\n",
      " BeautifulSoup([your markup])\n",
      "\n",
      "to this:\n",
      "\n",
      " BeautifulSoup([your markup], \"lxml\")\n",
      "\n",
      "  markup_type=markup_type))\n"
     ]
    },
    {
     "data": {
      "text/plain": [
       "[<a class=\"name\" href=\"https://blog.naver.com/mulin0913/221466595782\" target=\"_blank\">청담동라운지바/강남라운지바) '핫인히어'에서 핫하게 놀고 왔어요</a>,\n",
       " <a class=\"name\" href=\"https://blog.naver.com/yelin1890/221462318410\" target=\"_blank\">청담 라운지바라고 해서 가본 핫인히어</a>,\n",
       " <a class=\"name\" href=\"https://blog.naver.com/munilitssu/221469074180\" target=\"_blank\">청담라운지바/ 핫인히어 마감 찍고 온 후기</a>,\n",
       " <a class=\"name\" href=\"https://blog.naver.com/dlqjdy90/221453604294\" target=\"_blank\">청담 라운지바 : 핫인히어 방문 후기</a>,\n",
       " <a class=\"name\" href=\"https://blog.naver.com/bancya/221449332475\" target=\"_blank\">청담 라운지바 신년모임 5차까지 달린날</a>,\n",
       " <a class=\"name\" href=\"https://blog.naver.com/choirry-coke/221447940768\" target=\"_blank\">청담동라운지바 강남라운지바 핫인히어 에서 불금~</a>,\n",
       " <a class=\"name\" href=\"https://blog.naver.com/natory77/221436678814\" target=\"_blank\">[강남라운지바] 핫인히어에서 한 잔</a>,\n",
       " <a class=\"name\" href=\"https://blog.naver.com/kovely1229/221418092322\" target=\"_blank\">강남 라운지바 불금토 파티~! 청담라운지 힙합라운지 핫인히어에서... </a>,\n",
       " <a class=\"name\" href=\"https://blog.naver.com/staybystay/221410325322\" target=\"_blank\">[강남라운지 추천] 몽뮤에서 리뉴얼한 핫인히어 후기+영상 / 힙합라운지</a>,\n",
       " <a class=\"name\" href=\"https://blog.naver.com/aliss_heo/221417282810\" target=\"_blank\">강남라운지바 - 새롭게 오픈한 청담동 힙합 라운지 핫인히어</a>]"
      ]
     },
     "execution_count": 5,
     "metadata": {},
     "output_type": "execute_result"
    }
   ],
   "source": [
    "url = 'https://store.naver.com/restaurants/detail?id=1905002529&tab=fsasReview'\n",
    "r = requests.get(url)\n",
    "soup = bs(r.text)\n",
    "soup.select('.tit .name')"
   ]
  },
  {
   "cell_type": "code",
   "execution_count": null,
   "metadata": {},
   "outputs": [],
   "source": [
    "url = '__url__'\n",
    "splash = f'http://ideapad:8050/render.html?url={url}'\n",
    "r = requests.get(splash)"
   ]
  },
  {
   "cell_type": "code",
   "execution_count": null,
   "metadata": {},
   "outputs": [],
   "source": []
  }
 ],
 "metadata": {
  "kernelspec": {
   "display_name": "Workspace",
   "language": "python",
   "name": "workspace"
  },
  "language_info": {
   "codemirror_mode": {
    "name": "ipython",
    "version": 3
   },
   "file_extension": ".py",
   "mimetype": "text/x-python",
   "name": "python",
   "nbconvert_exporter": "python",
   "pygments_lexer": "ipython3",
   "version": "3.6.6"
  },
  "toc": {
   "base_numbering": 1,
   "nav_menu": {},
   "number_sections": true,
   "sideBar": true,
   "skip_h1_title": false,
   "title_cell": "Table of Contents",
   "title_sidebar": "Contents",
   "toc_cell": false,
   "toc_position": {},
   "toc_section_display": true,
   "toc_window_display": true
  }
 },
 "nbformat": 4,
 "nbformat_minor": 2
}
