{
 "cells": [
  {
   "cell_type": "code",
   "execution_count": 2,
   "metadata": {},
   "outputs": [],
   "source": [
    "import os\n",
    "\n",
    "import pandas as pd\n",
    "\n",
    "import camelot\n",
    "\n",
    "pd.set_option('display.max_rows', None)\n",
    "pd.set_option('display.max_colwidth', -1)\n",
    "pd.set_option('display.max_columns', None)\n",
    "\n",
    "%load_ext autoreload\n",
    "%autoreload 2"
   ]
  },
  {
   "cell_type": "code",
   "execution_count": 3,
   "metadata": {},
   "outputs": [],
   "source": [
    "dir_item = '/home/jake/Documents/News_Item/'\n",
    "dir_proj = dir_item + 'Fukushima/'\n",
    "dir_pdf = 'annual_report'\n",
    "dir_tableau = dir_proj + 'tableau_data/'\n",
    "\n",
    "dir_pdf = './pdf/'\n",
    "dir_tables = './tables/'\n",
    "\n",
    "if not os.path.exists(dir_pdf):\n",
    "    os.makedirs(dir_pdf)\n",
    "\n",
    "if not os.path.exists(dir_tables):\n",
    "    os.makedirs(dir_tables)"
   ]
  },
  {
   "cell_type": "code",
   "execution_count": 3,
   "metadata": {},
   "outputs": [],
   "source": [
    "def save_tables(page=1):\n",
    "    '''\n",
    "    ~/.virtualenvs/workspace/lib/python3.6/site-packages/PyPDF2/util.py\n",
    "    238 line, latin-1 => utf8\n",
    "    '''\n",
    "    dir_pdf_page = f'{dir_pdf}{page:>03}/'\n",
    "    pdfs = os.listdir(dir_pdf_page)\n",
    "\n",
    "\n",
    "    dir_tables_page = f'{dir_tables}{page:>03}/'\n",
    "    if not os.path.exists(dir_tables_page):\n",
    "        os.makedirs(dir_tables_page)\n",
    "\n",
    "#     pdf = pdfs[8]\n",
    "#     print(pdf)\n",
    "    for pdf in pdfs:\n",
    "        try:\n",
    "            table = camelot.read_pdf(dir_pdf_page + pdf, pages='1-end')\n",
    "            table.export(dir_tables_page + pdf.replace('.pdf', '.csv'), f='csv')\n",
    "        except:\n",
    "            with open('log.txt', 'a') as f:\n",
    "                f.write(f'{page}\\t{pdf}\\n')\n",
    "            continue\n",
    "\n",
    "# save_tables()"
   ]
  },
  {
   "cell_type": "code",
   "execution_count": null,
   "metadata": {
    "scrolled": true
   },
   "outputs": [
    {
     "name": "stderr",
     "output_type": "stream",
     "text": [
      "PdfReadWarning: Illegal character in Name Object [generic.py:489]\n",
      "PdfReadWarning: Illegal character in Name Object [generic.py:489]\n",
      "PdfReadWarning: Illegal character in Name Object [generic.py:489]\n",
      "PdfReadWarning: Illegal character in Name Object [generic.py:489]\n",
      "PdfReadWarning: Illegal character in Name Object [generic.py:489]\n",
      "PdfReadWarning: Illegal character in Name Object [generic.py:489]\n",
      "PdfReadWarning: Illegal character in Name Object [generic.py:489]\n",
      "PdfReadWarning: Illegal character in Name Object [generic.py:489]\n",
      "PdfReadWarning: Illegal character in Name Object [generic.py:489]\n",
      "PdfReadWarning: Illegal character in Name Object [generic.py:489]\n",
      "PdfReadWarning: Illegal character in Name Object [generic.py:489]\n",
      "PdfReadWarning: Illegal character in Name Object [generic.py:489]\n",
      "PdfReadWarning: Illegal character in Name Object [generic.py:489]\n",
      "PdfReadWarning: Illegal character in Name Object [generic.py:489]\n",
      "PdfReadWarning: Illegal character in Name Object [generic.py:489]\n",
      "PdfReadWarning: Illegal character in Name Object [generic.py:489]\n",
      "PdfReadWarning: Illegal character in Name Object [generic.py:489]\n",
      "PdfReadWarning: Illegal character in Name Object [generic.py:489]\n",
      "PdfReadWarning: Illegal character in Name Object [generic.py:489]\n",
      "PdfReadWarning: Illegal character in Name Object [generic.py:489]\n",
      "PdfReadWarning: Illegal character in Name Object [generic.py:489]\n",
      "PdfReadWarning: Illegal character in Name Object [generic.py:489]\n",
      "PdfReadWarning: Illegal character in Name Object [generic.py:489]\n",
      "PdfReadWarning: Illegal character in Name Object [generic.py:489]\n",
      "PdfReadWarning: Illegal character in Name Object [generic.py:489]\n",
      "PdfReadWarning: Illegal character in Name Object [generic.py:489]\n",
      "PdfReadWarning: Illegal character in Name Object [generic.py:489]\n",
      "PdfReadWarning: Illegal character in Name Object [generic.py:489]\n",
      "PdfReadWarning: Illegal character in Name Object [generic.py:489]\n",
      "PdfReadWarning: Illegal character in Name Object [generic.py:489]\n",
      "PdfReadWarning: Illegal character in Name Object [generic.py:489]\n",
      "PdfReadWarning: Illegal character in Name Object [generic.py:489]\n",
      "PdfReadWarning: Illegal character in Name Object [generic.py:489]\n",
      "PdfReadWarning: Illegal character in Name Object [generic.py:489]\n",
      "PdfReadWarning: Illegal character in Name Object [generic.py:489]\n",
      "PdfReadWarning: Illegal character in Name Object [generic.py:489]\n",
      "PdfReadWarning: Illegal character in Name Object [generic.py:489]\n",
      "PdfReadWarning: Illegal character in Name Object [generic.py:489]\n",
      "PdfReadWarning: Illegal character in Name Object [generic.py:489]\n",
      "PdfReadWarning: Illegal character in Name Object [generic.py:489]\n",
      "PdfReadWarning: Illegal character in Name Object [generic.py:489]\n",
      "PdfReadWarning: Illegal character in Name Object [generic.py:489]\n",
      "PdfReadWarning: Illegal character in Name Object [generic.py:489]\n",
      "PdfReadWarning: Illegal character in Name Object [generic.py:489]\n",
      "PdfReadWarning: Illegal character in Name Object [generic.py:489]\n",
      "PdfReadWarning: Illegal character in Name Object [generic.py:489]\n",
      "PdfReadWarning: Illegal character in Name Object [generic.py:489]\n",
      "PdfReadWarning: Illegal character in Name Object [generic.py:489]\n",
      "PdfReadWarning: Illegal character in Name Object [generic.py:489]\n",
      "PdfReadWarning: Illegal character in Name Object [generic.py:489]\n",
      "PdfReadWarning: Illegal character in Name Object [generic.py:489]\n",
      "PdfReadWarning: Illegal character in Name Object [generic.py:489]\n",
      "PdfReadWarning: Illegal character in Name Object [generic.py:489]\n",
      "PdfReadWarning: Illegal character in Name Object [generic.py:489]\n",
      "PdfReadWarning: Illegal character in Name Object [generic.py:489]\n",
      "PdfReadWarning: Illegal character in Name Object [generic.py:489]\n",
      "PdfReadWarning: Illegal character in Name Object [generic.py:489]\n",
      "PdfReadWarning: Illegal character in Name Object [generic.py:489]\n",
      "PdfReadWarning: Illegal character in Name Object [generic.py:489]\n",
      "PdfReadWarning: Illegal character in Name Object [generic.py:489]\n",
      "PdfReadWarning: Illegal character in Name Object [generic.py:489]\n",
      "PdfReadWarning: Illegal character in Name Object [generic.py:489]\n",
      "PdfReadWarning: Illegal character in Name Object [generic.py:489]\n",
      "PdfReadWarning: Illegal character in Name Object [generic.py:489]\n",
      "PdfReadWarning: Illegal character in Name Object [generic.py:489]\n",
      "PdfReadWarning: Illegal character in Name Object [generic.py:489]\n",
      "PdfReadWarning: Illegal character in Name Object [generic.py:489]\n",
      "PdfReadWarning: Illegal character in Name Object [generic.py:489]\n",
      "PdfReadWarning: Illegal character in Name Object [generic.py:489]\n",
      "PdfReadWarning: Illegal character in Name Object [generic.py:489]\n",
      "PdfReadWarning: Illegal character in Name Object [generic.py:489]\n",
      "PdfReadWarning: Illegal character in Name Object [generic.py:489]\n",
      "PdfReadWarning: Illegal character in Name Object [generic.py:489]\n",
      "PdfReadWarning: Illegal character in Name Object [generic.py:489]\n",
      "PdfReadWarning: Illegal character in Name Object [generic.py:489]\n"
     ]
    }
   ],
   "source": [
    "for page in range(38, 430):\n",
    "    save_tables(page)"
   ]
  },
  {
   "cell_type": "code",
   "execution_count": null,
   "metadata": {},
   "outputs": [],
   "source": []
  }
 ],
 "metadata": {
  "kernelspec": {
   "display_name": "Workspace",
   "language": "python",
   "name": "workspace"
  },
  "language_info": {
   "codemirror_mode": {
    "name": "ipython",
    "version": 3
   },
   "file_extension": ".py",
   "mimetype": "text/x-python",
   "name": "python",
   "nbconvert_exporter": "python",
   "pygments_lexer": "ipython3",
   "version": "3.6.6"
  },
  "toc": {
   "base_numbering": 1,
   "nav_menu": {},
   "number_sections": true,
   "sideBar": true,
   "skip_h1_title": false,
   "title_cell": "Table of Contents",
   "title_sidebar": "Contents",
   "toc_cell": false,
   "toc_position": {
    "height": "calc(100% - 180px)",
    "left": "10px",
    "top": "150px",
    "width": "305px"
   },
   "toc_section_display": true,
   "toc_window_display": true
  }
 },
 "nbformat": 4,
 "nbformat_minor": 2
}
