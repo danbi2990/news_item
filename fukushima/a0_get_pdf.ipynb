{
 "cells": [
  {
   "cell_type": "code",
   "execution_count": 7,
   "metadata": {},
   "outputs": [
    {
     "name": "stdout",
     "output_type": "stream",
     "text": [
      "The autoreload extension is already loaded. To reload it, use:\n",
      "  %reload_ext autoreload\n"
     ]
    }
   ],
   "source": [
    "import os\n",
    "import re\n",
    "import shutil\n",
    "from urllib.parse import urljoin\n",
    "from urllib.parse import unquote\n",
    "\n",
    "import requests\n",
    "from bs4 import BeautifulSoup as bs\n",
    "import pandas as pd\n",
    "\n",
    "pd.set_option('display.max_rows', None)\n",
    "pd.set_option('display.max_colwidth', -1)\n",
    "pd.set_option('display.max_columns', None)\n",
    "\n",
    "%load_ext autoreload\n",
    "%autoreload 2"
   ]
  },
  {
   "cell_type": "code",
   "execution_count": 2,
   "metadata": {},
   "outputs": [],
   "source": [
    "dir_item = '/home/jake/Documents/News_Item/'\n",
    "dir_proj = dir_item + 'fukushima/'\n",
    "dir_tableau = dir_proj + 'tableau_data/'\n",
    "\n",
    "dir_pdf = './pdf/'\n",
    "# dir_clean = './clean/'\n",
    "\n",
    "if not os.path.exists(dir_pdf):\n",
    "    os.makedirs(dir_pdf)\n",
    "\n",
    "# if not os.path.exists(dir_clean):\n",
    "#     os.makedirs(dir_clean)"
   ]
  },
  {
   "cell_type": "code",
   "execution_count": 9,
   "metadata": {},
   "outputs": [
    {
     "data": {
      "text/plain": [
       "'001'"
      ]
     },
     "execution_count": 9,
     "metadata": {},
     "output_type": "execute_result"
    }
   ],
   "source": [
    "# a = 1\n",
    "# f'{a:>03}'"
   ]
  },
  {
   "cell_type": "code",
   "execution_count": 10,
   "metadata": {},
   "outputs": [],
   "source": [
    "# for dir_name in os.listdir(dir_pdf):\n",
    "#     shutil.move(dir_pdf+dir_name, dir_pdf+f'{dir_name:>03}')"
   ]
  },
  {
   "cell_type": "code",
   "execution_count": 3,
   "metadata": {},
   "outputs": [],
   "source": [
    "def get_hrefs(page=1):\n",
    "    url = f'https://www.mfds.go.kr/brd/m_604/list.do?page={page}&srchFr=&srchTo=&srchWord=&srchTp=&itm_seq_1=0&itm_seq_2=0&multi_itm_seq=0&company_cd=&company_nm='\n",
    "    r = requests.get(url)\n",
    "    soup = bs(r.text, 'html.parser')\n",
    "    files = soup.select('.bbs_icon_filedown')\n",
    "    hrefs = [f['href'] for f in files]\n",
    "    return hrefs\n",
    "    \n",
    "\n",
    "def download_pdf(page, hrefs):\n",
    "    url_base = 'https://www.mfds.go.kr/brd/m_604/'\n",
    "    for href in hrefs:\n",
    "\n",
    "        url_download = urljoin(url_base, href)\n",
    "        r = requests.get(url_download)\n",
    "\n",
    "        obj = re.search(r'.+filename=\\\"(.+)\\\"', r.headers['Content-Disposition'])\n",
    "\n",
    "        if obj:\n",
    "            title_quoted = obj.group(1)\n",
    "            title = unquote(title_quoted)\n",
    "        else:\n",
    "            seq = href.split('&')[1]\n",
    "            title = page + '_' + seq\n",
    "        \n",
    "        dir_pdf_page = f'{dir_pdf}{page}/'\n",
    "        if not os.path.exists(dir_pdf_page):\n",
    "            os.makedirs(dir_pdf_page)\n",
    "            \n",
    "#         dir_clean_page = f'{dir_clean}{page}/'\n",
    "#         if not os.path.exists(dir_clean_page):\n",
    "#             os.makedirs(dir_clean_page)\n",
    "            \n",
    "        with open(dir_pdf_page + title, 'wb') as f:\n",
    "            f.write(r.content)\n",
    "\n",
    "        command = f'mutool clean {dir_pdf_page}{title} {dir_pdf_page}{title}'\n",
    "        os.system(command)"
   ]
  },
  {
   "cell_type": "code",
   "execution_count": 11,
   "metadata": {},
   "outputs": [],
   "source": [
    "for page in range(212, 430):\n",
    "    hrefs = get_hrefs(page)\n",
    "    if not hrefs:\n",
    "        continue\n",
    "    download_pdf(page, hrefs)"
   ]
  },
  {
   "cell_type": "code",
   "execution_count": null,
   "metadata": {},
   "outputs": [],
   "source": [
    "# 211: error"
   ]
  }
 ],
 "metadata": {
  "kernelspec": {
   "display_name": "Workspace",
   "language": "python",
   "name": "workspace"
  },
  "language_info": {
   "codemirror_mode": {
    "name": "ipython",
    "version": 3
   },
   "file_extension": ".py",
   "mimetype": "text/x-python",
   "name": "python",
   "nbconvert_exporter": "python",
   "pygments_lexer": "ipython3",
   "version": "3.6.6"
  },
  "toc": {
   "base_numbering": 1,
   "nav_menu": {},
   "number_sections": true,
   "sideBar": true,
   "skip_h1_title": false,
   "title_cell": "Table of Contents",
   "title_sidebar": "Contents",
   "toc_cell": false,
   "toc_position": {
    "height": "calc(100% - 180px)",
    "left": "10px",
    "top": "150px",
    "width": "258px"
   },
   "toc_section_display": true,
   "toc_window_display": true
  }
 },
 "nbformat": 4,
 "nbformat_minor": 2
}
