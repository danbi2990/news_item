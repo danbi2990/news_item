{
 "cells": [
  {
   "cell_type": "code",
   "execution_count": 1,
   "metadata": {},
   "outputs": [],
   "source": [
    "import os\n",
    "import re\n",
    "from collections import defaultdict\n",
    "\n",
    "import pandas as pd\n",
    "\n",
    "import camelot\n",
    "\n",
    "pd.set_option('display.max_rows', None)\n",
    "pd.set_option('display.max_colwidth', -1)\n",
    "pd.set_option('display.max_columns', None)\n",
    "\n",
    "%load_ext autoreload\n",
    "%autoreload 2"
   ]
  },
  {
   "cell_type": "code",
   "execution_count": 2,
   "metadata": {},
   "outputs": [],
   "source": [
    "dir_item = '/home/jake/Documents/News_Item/'\n",
    "dir_proj = dir_item + 'fukushima/'\n",
    "dir_tableau = dir_proj + 'tableau_data/'\n",
    "\n",
    "dir_pdf = './pdf/'\n",
    "dir_tables = './tables/'\n",
    "dir_table_pages = [dir_tables + d for d in sorted(os.listdir(dir_tables)) if not d.startswith('.')]\n",
    "\n",
    "files = []\n",
    "\n",
    "for dir_page in dir_table_pages:\n",
    "    tmp_files = [dir_page + '/' + f for f in os.listdir(dir_page)]\n",
    "    files.extend(tmp_files)"
   ]
  },
  {
   "cell_type": "code",
   "execution_count": 3,
   "metadata": {},
   "outputs": [
    {
     "name": "stdout",
     "output_type": "stream",
     "text": [
      "12490\n"
     ]
    },
    {
     "data": {
      "text/plain": [
       "['./tables/001/일본산+및+기타국가산+수입수산물+방사능검사+현황(8월+21일+완료건)-page-2-table-1.csv',\n",
       " './tables/001/일본산+수입축산물+방사능검사+현황(2019.8.21)-page-1-table-1.csv']"
      ]
     },
     "execution_count": 3,
     "metadata": {},
     "output_type": "execute_result"
    }
   ],
   "source": [
    "dir_table_pages\n",
    "print(len(files))\n",
    "files[:2]"
   ]
  },
  {
   "cell_type": "code",
   "execution_count": 4,
   "metadata": {},
   "outputs": [
    {
     "name": "stdout",
     "output_type": "stream",
     "text": [
      "12490\n"
     ]
    },
    {
     "data": {
      "text/plain": [
       "['일본산+및+기타국가산+수입수산물+방사능검사+현황(8월+21일+완료건)-page-2-table-1.csv',\n",
       " '일본산+수입축산물+방사능검사+현황(2019.8.21)-page-1-table-1.csv']"
      ]
     },
     "execution_count": 4,
     "metadata": {},
     "output_type": "execute_result"
    }
   ],
   "source": [
    "only_names = [f.split('/')[3] for f in files]\n",
    "print(len(only_names))\n",
    "only_names[:2]"
   ]
  },
  {
   "cell_type": "code",
   "execution_count": 5,
   "metadata": {},
   "outputs": [
    {
     "data": {
      "text/plain": [
       "12490"
      ]
     },
     "execution_count": 5,
     "metadata": {},
     "output_type": "execute_result"
    }
   ],
   "source": [
    "dedup = set(files)\n",
    "len(dedup)"
   ]
  },
  {
   "cell_type": "markdown",
   "metadata": {},
   "source": [
    "편의상 파일 이름만 사용하려고 했는데 (regex 만들 때 편함) 예상치 못한 오류 발견  \n",
    "2015년 파일과 2016년 파일의 이름이 같을 수 있다  \n",
    "그러므로 page까지 포함해야 함"
   ]
  },
  {
   "cell_type": "code",
   "execution_count": 6,
   "metadata": {},
   "outputs": [
    {
     "data": {
      "text/plain": [
       "[('일본산+및+기타국가산+수입수산물+방사능검사+현황(2월7일+완료건)-page-1-table-1.csv', 2),\n",
       " ('일본산+및+기타국가산+수입수산물+방사능검사+현황(2월12일+완료건)-page-2-table-1.csv', 2),\n",
       " ('일본산+및+기타국가산+수입수산물+방사능검사+현황(2월8일+완료건)-page-2-table-1.csv', 2),\n",
       " ('일본산+및+기타국가산+수입수산물+방사능검사+현황(2월12일+완료건)-page-1-table-1.csv', 2),\n",
       " ('일본산+및+기타국가산+수입수산물+방사능검사+현황(2월13일+완료건)-page-2-table-1.csv', 2),\n",
       " ('일본산+및+기타국가산+수입수산물+방사능검사+현황(2월8일+완료건)-page-1-table-1.csv', 2),\n",
       " ('일본산+및+기타국가산+수입수산물+방사능검사+현황(2월13일+완료건)-page-1-table-1.csv', 2),\n",
       " ('일본산+및+기타국가산+수입수산물+방사능검사+현황(2월1일+완료건)-page-3-table-1.csv', 2),\n",
       " ('일본산+및+기타국가산+수입수산물+방사능검사+현황(1월29일+완료건)-page-2-table-1.csv', 2),\n",
       " ('일본산+및+기타국가산+수입수산물+방사능검사+현황(2월1일+완료건)-page-1-table-1.csv', 2)]"
      ]
     },
     "execution_count": 6,
     "metadata": {},
     "output_type": "execute_result"
    }
   ],
   "source": [
    "from collections import Counter\n",
    "cnt = Counter(only_names)\n",
    "# [c for c in cnt if c[1]!=1]\n",
    "cnt.most_common(10)"
   ]
  },
  {
   "cell_type": "code",
   "execution_count": 7,
   "metadata": {},
   "outputs": [
    {
     "data": {
      "text/plain": [
       "['./tables/045/일본산+및+기타국가산+수입수산물+방사능검사+현황(2월7일+완료건)-page-1-table-1.csv',\n",
       " './tables/126/일본산+및+기타국가산+수입수산물+방사능검사+현황(2월7일+완료건)-page-1-table-1.csv']"
      ]
     },
     "execution_count": 7,
     "metadata": {},
     "output_type": "execute_result"
    }
   ],
   "source": [
    "[f for f in files if '일본산+및+기타국가산+수입수산물+방사능검사+현황(2월7일+완료건)-page-1-table-1.csv' in f]"
   ]
  },
  {
   "cell_type": "markdown",
   "metadata": {},
   "source": [
    "---"
   ]
  },
  {
   "cell_type": "markdown",
   "metadata": {},
   "source": [
    "# 파일 이름 분류하기  "
   ]
  },
  {
   "cell_type": "markdown",
   "metadata": {},
   "source": [
    "**Hypothesis**  \n",
    "- 수입식품: 숫자로 시작하는 파일, '수입식품'을 포함한 파일  \n",
    "- 축수산물: 수산물, 축산물, 축수산물 포함  \n",
    "- 일본산과 기타국가는 어떻게 구분?"
   ]
  },
  {
   "cell_type": "markdown",
   "metadata": {},
   "source": [
    "## 수입식품: imported"
   ]
  },
  {
   "cell_type": "code",
   "execution_count": 8,
   "metadata": {},
   "outputs": [],
   "source": [
    "import re"
   ]
  },
  {
   "cell_type": "code",
   "execution_count": 9,
   "metadata": {},
   "outputs": [
    {
     "data": {
      "text/plain": [
       "808"
      ]
     },
     "execution_count": 9,
     "metadata": {},
     "output_type": "execute_result"
    }
   ],
   "source": [
    "imported0 = [f for f in files if re.match(r'^\\.\\/tables\\/\\d{3}\\/\\d{8}[+-_]방사능.*', f)]\n",
    "len(imported0)"
   ]
  },
  {
   "cell_type": "code",
   "execution_count": 10,
   "metadata": {},
   "outputs": [
    {
     "data": {
      "text/plain": [
       "2690"
      ]
     },
     "execution_count": 10,
     "metadata": {},
     "output_type": "execute_result"
    }
   ],
   "source": [
    "imported1 = [f for f in files if re.match(r'^\\.\\/tables\\/\\d{3}\\/\\d{8}[-]page.*', f)]\n",
    "len(imported1)"
   ]
  },
  {
   "cell_type": "code",
   "execution_count": 11,
   "metadata": {},
   "outputs": [
    {
     "data": {
      "text/plain": [
       "3361"
      ]
     },
     "execution_count": 11,
     "metadata": {},
     "output_type": "execute_result"
    }
   ],
   "source": [
    "imported2 = [f for f in files if '수입식품' in f]\n",
    "len(imported2)"
   ]
  },
  {
   "cell_type": "code",
   "execution_count": 12,
   "metadata": {},
   "outputs": [
    {
     "data": {
      "text/plain": [
       "186"
      ]
     },
     "execution_count": 12,
     "metadata": {},
     "output_type": "execute_result"
    }
   ],
   "source": [
    "imported3 = [f for f in files if re.match(r'^\\.\\/tables\\/\\d{3}\\/\\d{8}[+]일일보고.*', f)]\n",
    "len(imported3)"
   ]
  },
  {
   "cell_type": "code",
   "execution_count": 13,
   "metadata": {},
   "outputs": [
    {
     "data": {
      "text/plain": [
       "6"
      ]
     },
     "execution_count": 13,
     "metadata": {},
     "output_type": "execute_result"
    }
   ],
   "source": [
    "imported4 = [f for f in files if re.match(r'^\\.\\/tables\\/\\d{3}\\/\\d{8}[-]1.*', f)]\n",
    "len(imported4)"
   ]
  },
  {
   "cell_type": "code",
   "execution_count": 14,
   "metadata": {},
   "outputs": [
    {
     "data": {
      "text/plain": [
       "7051"
      ]
     },
     "execution_count": 14,
     "metadata": {},
     "output_type": "execute_result"
    }
   ],
   "source": [
    "imported = []\n",
    "imported.extend(imported0 + imported1 + imported2 + imported3 + imported4)\n",
    "len(imported)"
   ]
  },
  {
   "cell_type": "markdown",
   "metadata": {},
   "source": [
    "---"
   ]
  },
  {
   "cell_type": "markdown",
   "metadata": {},
   "source": [
    "## 축수산물: fish_and_meat"
   ]
  },
  {
   "cell_type": "code",
   "execution_count": 15,
   "metadata": {},
   "outputs": [
    {
     "data": {
      "text/plain": [
       "1901"
      ]
     },
     "execution_count": 15,
     "metadata": {},
     "output_type": "execute_result"
    }
   ],
   "source": [
    "fish_and_meat0 = [f for f in files if '축수산물' in f]\n",
    "len(fish_and_meat0)"
   ]
  },
  {
   "cell_type": "code",
   "execution_count": 16,
   "metadata": {},
   "outputs": [
    {
     "data": {
      "text/plain": [
       "2409"
      ]
     },
     "execution_count": 16,
     "metadata": {},
     "output_type": "execute_result"
    }
   ],
   "source": [
    "fish = [f for f in files if ('수산물' in f) and ('축수산물' not in f)]\n",
    "len(fish)"
   ]
  },
  {
   "cell_type": "code",
   "execution_count": 17,
   "metadata": {},
   "outputs": [
    {
     "data": {
      "text/plain": [
       "769"
      ]
     },
     "execution_count": 17,
     "metadata": {},
     "output_type": "execute_result"
    }
   ],
   "source": [
    "meat = [f for f in files if '축산물' in f]\n",
    "len(meat)"
   ]
  },
  {
   "cell_type": "code",
   "execution_count": 18,
   "metadata": {},
   "outputs": [
    {
     "data": {
      "text/plain": [
       "5079"
      ]
     },
     "execution_count": 18,
     "metadata": {},
     "output_type": "execute_result"
    }
   ],
   "source": [
    "fish_and_meat = []\n",
    "fish_and_meat.extend(fish_and_meat0 + fish + meat)\n",
    "len(fish_and_meat)"
   ]
  },
  {
   "cell_type": "markdown",
   "metadata": {},
   "source": [
    "축수산물은 처음부터 통합되어 관리되다가 나중에 분리됐기 때문에 파일로 분류하기 어렵다  \n",
    "게다가 일본과 기타국가도 섞여있는 경우가 많아서 파일로 분리하기 어렵다  \n",
    "\n",
    "1. 우선 전부 합친다\n",
    "2. 축수산물은 분류하지 않는다\n",
    "3. 일본은 일본 도시명으로 분류한다"
   ]
  },
  {
   "cell_type": "markdown",
   "metadata": {},
   "source": [
    "---"
   ]
  },
  {
   "cell_type": "markdown",
   "metadata": {},
   "source": [
    "## 기타국가 일반식품: foreign"
   ]
  },
  {
   "cell_type": "code",
   "execution_count": 19,
   "metadata": {},
   "outputs": [
    {
     "data": {
      "text/plain": [
       "12130"
      ]
     },
     "execution_count": 19,
     "metadata": {},
     "output_type": "execute_result"
    }
   ],
   "source": [
    "categorized = imported + fish_and_meat\n",
    "len(categorized)"
   ]
  },
  {
   "cell_type": "markdown",
   "metadata": {},
   "source": [
    "전체 파일 중 수입식품과 축수산물로 분류된 파일 수"
   ]
  },
  {
   "cell_type": "code",
   "execution_count": 20,
   "metadata": {},
   "outputs": [
    {
     "data": {
      "text/plain": [
       "360"
      ]
     },
     "execution_count": 20,
     "metadata": {},
     "output_type": "execute_result"
    }
   ],
   "source": [
    "not_cat = [f for f in files if f not in categorized]\n",
    "len(not_cat)"
   ]
  },
  {
   "cell_type": "markdown",
   "metadata": {},
   "source": [
    "분류되지 않은 파일 수"
   ]
  },
  {
   "cell_type": "code",
   "execution_count": 21,
   "metadata": {},
   "outputs": [
    {
     "data": {
      "text/plain": [
       "['./tables/357/20141219+기타국가+방사능+검출+현황-page-1-table-1.csv',\n",
       " './tables/363/20141119+기타국가+방사능+검출+현황(프랑스산+기타잼류)-page-1-table-1.csv',\n",
       " './tables/381/20140822+기타국가+방사능+검출+현황(러시아산+차가버섯)-page-1-table-1.csv',\n",
       " './tables/397/20140609+기타국가+방사능+검출+현황-page-1-table-1.csv',\n",
       " './tables/401/20140519+기타국가+방사능+검출+현황-page-1-table-1.csv']"
      ]
     },
     "execution_count": 21,
     "metadata": {},
     "output_type": "execute_result"
    }
   ],
   "source": [
    "not_cat[-5:]"
   ]
  },
  {
   "cell_type": "code",
   "execution_count": 22,
   "metadata": {},
   "outputs": [
    {
     "data": {
      "text/plain": [
       "360"
      ]
     },
     "execution_count": 22,
     "metadata": {},
     "output_type": "execute_result"
    }
   ],
   "source": [
    "not_cat_foreign = [f for f in not_cat if '기타' in f]\n",
    "len(not_cat_foreign)"
   ]
  },
  {
   "cell_type": "markdown",
   "metadata": {},
   "source": [
    "분류되지 않은 모든 파일에 '기타' 키워드가 포함되어 있다.  \n",
    "처음부터 끝까지 같은 형식의 파일로 보임."
   ]
  },
  {
   "cell_type": "code",
   "execution_count": 23,
   "metadata": {},
   "outputs": [
    {
     "data": {
      "text/plain": [
       "['./tables/122/20180223_기타국가_방사능_검출_현황-page-1-table-1.csv',\n",
       " './tables/123/20180220_기타국가_방사능_검출_현황-page-1-table-1.csv',\n",
       " './tables/123/20180221_기타국가_방사능_검출_현황-page-1-table-1.csv',\n",
       " './tables/124/20180212_기타국가_방사능_검출_현황-page-1-table-1.csv',\n",
       " './tables/124/20180214_기타국가_방사능_검출_현황-page-1-table-1.csv']"
      ]
     },
     "execution_count": 23,
     "metadata": {},
     "output_type": "execute_result"
    }
   ],
   "source": [
    "not_cat[200:205]"
   ]
  },
  {
   "cell_type": "code",
   "execution_count": 24,
   "metadata": {
    "scrolled": true
   },
   "outputs": [
    {
     "data": {
      "text/plain": [
       "['./tables/220/20161010+기타국가+방사능+검출+현황(중국+능이,+링곤베리잼)-page-1-table-1.csv',\n",
       " './tables/223/20160923+기타국가+방사능+검출+현황(중국능이)-page-1-table-1.csv',\n",
       " './tables/223/20160927+기타국가+방사능+검출+현황(중국+냉동능이+2건)-page-1-table-1.csv',\n",
       " './tables/223/20160928+기타국가+방사능+검출+현황(중국+건조능이+2건)-page-1-table-1.csv',\n",
       " './tables/223/20160928+기타국가+방사능+검출+현황(터키+밀크초코릿헤이즐넛)-page-1-table-1.csv']"
      ]
     },
     "execution_count": 24,
     "metadata": {},
     "output_type": "execute_result"
    }
   ],
   "source": [
    "not_cat[300:305]"
   ]
  },
  {
   "cell_type": "code",
   "execution_count": 25,
   "metadata": {},
   "outputs": [
    {
     "data": {
      "text/plain": [
       "['./tables/357/20141219+기타국가+방사능+검출+현황-page-1-table-1.csv',\n",
       " './tables/363/20141119+기타국가+방사능+검출+현황(프랑스산+기타잼류)-page-1-table-1.csv',\n",
       " './tables/381/20140822+기타국가+방사능+검출+현황(러시아산+차가버섯)-page-1-table-1.csv',\n",
       " './tables/397/20140609+기타국가+방사능+검출+현황-page-1-table-1.csv',\n",
       " './tables/401/20140519+기타국가+방사능+검출+현황-page-1-table-1.csv']"
      ]
     },
     "execution_count": 25,
     "metadata": {},
     "output_type": "execute_result"
    }
   ],
   "source": [
    "not_cat[-5:]"
   ]
  },
  {
   "cell_type": "markdown",
   "metadata": {},
   "source": [
    "not_cat: 기타국가 방사능 검출 현황(기타국가 일반식품)  "
   ]
  },
  {
   "cell_type": "code",
   "execution_count": 26,
   "metadata": {},
   "outputs": [
    {
     "data": {
      "text/plain": [
       "360"
      ]
     },
     "execution_count": 26,
     "metadata": {},
     "output_type": "execute_result"
    }
   ],
   "source": [
    "foreign = not_cat\n",
    "len(foreign)"
   ]
  },
  {
   "cell_type": "markdown",
   "metadata": {},
   "source": [
    "---"
   ]
  },
  {
   "cell_type": "markdown",
   "metadata": {},
   "source": [
    "파일 로드, 테이블 추출  \n",
    "컬럼 수가 테이블 종류를 결정한다고 가정한다"
   ]
  },
  {
   "cell_type": "code",
   "execution_count": 27,
   "metadata": {},
   "outputs": [],
   "source": [
    "from collections import defaultdict\n",
    "\n",
    "def get_df_from_files(files):\n",
    "    col_2_df = defaultdict(pd.DataFrame)\n",
    "\n",
    "    for f in files:\n",
    "        tmp = pd.read_csv(f)\n",
    "        tmp['file'] = f\n",
    "        col_len = len(tmp.columns)\n",
    "        tmp.columns = list(range(col_len))\n",
    "        col_2_df[col_len] = col_2_df[col_len].append(tmp, sort=False)\n",
    "    \n",
    "    return col_2_df"
   ]
  },
  {
   "cell_type": "code",
   "execution_count": 28,
   "metadata": {},
   "outputs": [],
   "source": [
    "col_2_df_imported = get_df_from_files(imported)"
   ]
  },
  {
   "cell_type": "code",
   "execution_count": 29,
   "metadata": {},
   "outputs": [],
   "source": [
    "col_2_df_fish_meat = get_df_from_files(fish_and_meat)"
   ]
  },
  {
   "cell_type": "code",
   "execution_count": 30,
   "metadata": {},
   "outputs": [],
   "source": [
    "col_2_df_foreign = get_df_from_files(foreign)"
   ]
  },
  {
   "cell_type": "markdown",
   "metadata": {},
   "source": [
    "csv 파일을 읽는데 시간이 너무 오래 걸린다  \n",
    "중간 저장을 해야겠다"
   ]
  },
  {
   "cell_type": "code",
   "execution_count": 31,
   "metadata": {},
   "outputs": [
    {
     "data": {
      "text/plain": [
       "dict_keys([9, 12, 7, 6, 2])"
      ]
     },
     "execution_count": 31,
     "metadata": {},
     "output_type": "execute_result"
    }
   ],
   "source": [
    "col_2_df_imported.keys()"
   ]
  },
  {
   "cell_type": "code",
   "execution_count": 32,
   "metadata": {},
   "outputs": [
    {
     "data": {
      "text/plain": [
       "dict_keys([9, 7, 4])"
      ]
     },
     "execution_count": 32,
     "metadata": {},
     "output_type": "execute_result"
    }
   ],
   "source": [
    "col_2_df_fish_meat.keys()"
   ]
  },
  {
   "cell_type": "code",
   "execution_count": 33,
   "metadata": {},
   "outputs": [
    {
     "data": {
      "text/plain": [
       "dict_keys([9, 7, 6])"
      ]
     },
     "execution_count": 33,
     "metadata": {},
     "output_type": "execute_result"
    }
   ],
   "source": [
    "col_2_df_foreign.keys()"
   ]
  },
  {
   "cell_type": "code",
   "execution_count": 34,
   "metadata": {},
   "outputs": [
    {
     "name": "stdout",
     "output_type": "stream",
     "text": [
      "9 columns, 147541 rows\n",
      "12 columns, 9111 rows\n",
      "7 columns, 215 rows\n",
      "6 columns, 3 rows\n",
      "2 columns, 15 rows\n"
     ]
    }
   ],
   "source": [
    "for k,v in col_2_df_imported.items():\n",
    "    print(f'{k} columns, {v.shape[0]} rows')"
   ]
  },
  {
   "cell_type": "markdown",
   "metadata": {},
   "source": [
    "12 컬럼: 필요없는 데이터, 9컬럼과 종류가 다름  \n",
    "7,6,2 컬럼: 9컬럼의 오류, 하지만 9컬럼에 비해 숫자가 적기 때문에 무시해도 될듯?  \n",
    "체크사항: 세슘, 요오드가 검출됐기 때문에 (숫자값) 오류가 발생했다면 무시할 수 없다"
   ]
  },
  {
   "cell_type": "code",
   "execution_count": 35,
   "metadata": {},
   "outputs": [
    {
     "name": "stdout",
     "output_type": "stream",
     "text": [
      "9 columns, 53525 rows\n",
      "7 columns, 5 rows\n",
      "4 columns, 3981 rows\n"
     ]
    }
   ],
   "source": [
    "for k,v in col_2_df_fish_meat.items():\n",
    "    print(f'{k} columns, {v.shape[0]} rows')"
   ]
  },
  {
   "cell_type": "markdown",
   "metadata": {},
   "source": [
    "4 컬럼: 종류가 다른 필요없는 데이터"
   ]
  },
  {
   "cell_type": "code",
   "execution_count": 36,
   "metadata": {},
   "outputs": [
    {
     "data": {
      "text/html": [
       "<div>\n",
       "<style scoped>\n",
       "    .dataframe tbody tr th:only-of-type {\n",
       "        vertical-align: middle;\n",
       "    }\n",
       "\n",
       "    .dataframe tbody tr th {\n",
       "        vertical-align: top;\n",
       "    }\n",
       "\n",
       "    .dataframe thead th {\n",
       "        text-align: right;\n",
       "    }\n",
       "</style>\n",
       "<table border=\"1\" class=\"dataframe\">\n",
       "  <thead>\n",
       "    <tr style=\"text-align: right;\">\n",
       "      <th></th>\n",
       "      <th>0</th>\n",
       "      <th>1</th>\n",
       "      <th>2</th>\n",
       "      <th>3</th>\n",
       "    </tr>\n",
       "  </thead>\n",
       "  <tbody>\n",
       "    <tr>\n",
       "      <th>0</th>\n",
       "      <td>NaN</td>\n",
       "      <td>계</td>\n",
       "      <td>육류 : 10개현 8품목\\n원유 : 1개현</td>\n",
       "      <td>./tables/001/일본산+수입축산물+방사능검사+현황(2019.8.20)-page-1-table-2.csv</td>\n",
       "    </tr>\n",
       "    <tr>\n",
       "      <th>1</th>\n",
       "      <td>1.0</td>\n",
       "      <td>후쿠시마</td>\n",
       "      <td>원유, 쇠고기, 멧돼지고기, 흰뺨검둥오리고기, 꿩고기, 곰고기, (산)토끼고기, 코퍼\\n긴꼬리꿩고기</td>\n",
       "      <td>./tables/001/일본산+수입축산물+방사능검사+현황(2019.8.20)-page-1-table-2.csv</td>\n",
       "    </tr>\n",
       "    <tr>\n",
       "      <th>2</th>\n",
       "      <td>2.0</td>\n",
       "      <td>이바라키</td>\n",
       "      <td>멧돼지고기</td>\n",
       "      <td>./tables/001/일본산+수입축산물+방사능검사+현황(2019.8.20)-page-1-table-2.csv</td>\n",
       "    </tr>\n",
       "    <tr>\n",
       "      <th>3</th>\n",
       "      <td>3.0</td>\n",
       "      <td>미야기</td>\n",
       "      <td>쇠고기, 멧돼지고기, 곰고기, 사슴고기</td>\n",
       "      <td>./tables/001/일본산+수입축산물+방사능검사+현황(2019.8.20)-page-1-table-2.csv</td>\n",
       "    </tr>\n",
       "    <tr>\n",
       "      <th>4</th>\n",
       "      <td>4.0</td>\n",
       "      <td>이와테</td>\n",
       "      <td>쇠고기, 사슴고기, 곰고기, 코퍼긴꼬리꿩고기</td>\n",
       "      <td>./tables/001/일본산+수입축산물+방사능검사+현황(2019.8.20)-page-1-table-2.csv</td>\n",
       "    </tr>\n",
       "  </tbody>\n",
       "</table>\n",
       "</div>"
      ],
      "text/plain": [
       "     0     1                                                        2  \\\n",
       "0 NaN   계     육류 : 10개현 8품목\\n원유 : 1개현                                   \n",
       "1  1.0  후쿠시마  원유, 쇠고기, 멧돼지고기, 흰뺨검둥오리고기, 꿩고기, 곰고기, (산)토끼고기, 코퍼\\n긴꼬리꿩고기   \n",
       "2  2.0  이바라키  멧돼지고기                                                     \n",
       "3  3.0  미야기   쇠고기, 멧돼지고기, 곰고기, 사슴고기                                     \n",
       "4  4.0  이와테   쇠고기, 사슴고기, 곰고기, 코퍼긴꼬리꿩고기                                  \n",
       "\n",
       "                                                               3  \n",
       "0  ./tables/001/일본산+수입축산물+방사능검사+현황(2019.8.20)-page-1-table-2.csv  \n",
       "1  ./tables/001/일본산+수입축산물+방사능검사+현황(2019.8.20)-page-1-table-2.csv  \n",
       "2  ./tables/001/일본산+수입축산물+방사능검사+현황(2019.8.20)-page-1-table-2.csv  \n",
       "3  ./tables/001/일본산+수입축산물+방사능검사+현황(2019.8.20)-page-1-table-2.csv  \n",
       "4  ./tables/001/일본산+수입축산물+방사능검사+현황(2019.8.20)-page-1-table-2.csv  "
      ]
     },
     "execution_count": 36,
     "metadata": {},
     "output_type": "execute_result"
    }
   ],
   "source": [
    "col_2_df_fish_meat[4].head()"
   ]
  },
  {
   "cell_type": "code",
   "execution_count": 37,
   "metadata": {},
   "outputs": [
    {
     "name": "stdout",
     "output_type": "stream",
     "text": [
      "9 columns, 1102 rows\n",
      "7 columns, 150 rows\n",
      "6 columns, 60 rows\n"
     ]
    }
   ],
   "source": [
    "for k,v in col_2_df_foreign.items():\n",
    "    print(f'{k} columns, {v.shape[0]} rows')"
   ]
  },
  {
   "cell_type": "code",
   "execution_count": 38,
   "metadata": {
    "scrolled": true
   },
   "outputs": [
    {
     "data": {
      "text/html": [
       "<div>\n",
       "<style scoped>\n",
       "    .dataframe tbody tr th:only-of-type {\n",
       "        vertical-align: middle;\n",
       "    }\n",
       "\n",
       "    .dataframe tbody tr th {\n",
       "        vertical-align: top;\n",
       "    }\n",
       "\n",
       "    .dataframe thead th {\n",
       "        text-align: right;\n",
       "    }\n",
       "</style>\n",
       "<table border=\"1\" class=\"dataframe\">\n",
       "  <thead>\n",
       "    <tr style=\"text-align: right;\">\n",
       "      <th></th>\n",
       "      <th>0</th>\n",
       "      <th>1</th>\n",
       "      <th>2</th>\n",
       "      <th>3</th>\n",
       "      <th>4</th>\n",
       "      <th>5</th>\n",
       "      <th>6</th>\n",
       "      <th>7</th>\n",
       "      <th>8</th>\n",
       "    </tr>\n",
       "  </thead>\n",
       "  <tbody>\n",
       "    <tr>\n",
       "      <th>0</th>\n",
       "      <td>NaN</td>\n",
       "      <td>NaN</td>\n",
       "      <td>NaN</td>\n",
       "      <td>NaN</td>\n",
       "      <td>NaN</td>\n",
       "      <td>세슘\\n요오드\\n판정\\n(기준:100Bq/kg)\\n(기준:100Bq/kg)</td>\n",
       "      <td>NaN</td>\n",
       "      <td>NaN</td>\n",
       "      <td>./tables/001/20190816+기타국가+방사능+검출+현황-page-1-table-1.csv</td>\n",
       "    </tr>\n",
       "    <tr>\n",
       "      <th>1</th>\n",
       "      <td>합계</td>\n",
       "      <td>NaN</td>\n",
       "      <td>NaN</td>\n",
       "      <td>NaN</td>\n",
       "      <td>2,330</td>\n",
       "      <td>NaN</td>\n",
       "      <td>NaN</td>\n",
       "      <td>NaN</td>\n",
       "      <td>./tables/001/20190816+기타국가+방사능+검출+현황-page-1-table-1.csv</td>\n",
       "    </tr>\n",
       "    <tr>\n",
       "      <th>2</th>\n",
       "      <td>1</td>\n",
       "      <td>고형차</td>\n",
       "      <td>러시아연방</td>\n",
       "      <td>2022.07.31.</td>\n",
       "      <td>100</td>\n",
       "      <td>55</td>\n",
       "      <td>불검출</td>\n",
       "      <td>적합</td>\n",
       "      <td>./tables/001/20190816+기타국가+방사능+검출+현황-page-1-table-1.csv</td>\n",
       "    </tr>\n",
       "    <tr>\n",
       "      <th>3</th>\n",
       "      <td>2</td>\n",
       "      <td>능이/건조</td>\n",
       "      <td>중국</td>\n",
       "      <td>(2019.08.01.)</td>\n",
       "      <td>2,230</td>\n",
       "      <td>3</td>\n",
       "      <td>-</td>\n",
       "      <td>적합</td>\n",
       "      <td>./tables/001/20190816+기타국가+방사능+검출+현황-page-1-table-1.csv</td>\n",
       "    </tr>\n",
       "    <tr>\n",
       "      <th>0</th>\n",
       "      <td>NaN</td>\n",
       "      <td>NaN</td>\n",
       "      <td>NaN</td>\n",
       "      <td>NaN</td>\n",
       "      <td>NaN</td>\n",
       "      <td>세슘\\n요오드\\n판정\\n(기준:100Bq/kg)\\n(기준:100Bq/kg)</td>\n",
       "      <td>NaN</td>\n",
       "      <td>NaN</td>\n",
       "      <td>./tables/002/201900813+기타국가+방사능+검출+현황-page-1-table-1.csv</td>\n",
       "    </tr>\n",
       "    <tr>\n",
       "      <th>1</th>\n",
       "      <td>합계</td>\n",
       "      <td>NaN</td>\n",
       "      <td>NaN</td>\n",
       "      <td>NaN</td>\n",
       "      <td>429</td>\n",
       "      <td>NaN</td>\n",
       "      <td>NaN</td>\n",
       "      <td>NaN</td>\n",
       "      <td>./tables/002/201900813+기타국가+방사능+검출+현황-page-1-table-1.csv</td>\n",
       "    </tr>\n",
       "    <tr>\n",
       "      <th>2</th>\n",
       "      <td>1</td>\n",
       "      <td>능이버섯/건조</td>\n",
       "      <td>중국</td>\n",
       "      <td>2020.10.31.</td>\n",
       "      <td>429</td>\n",
       "      <td>13</td>\n",
       "      <td>-</td>\n",
       "      <td>적합</td>\n",
       "      <td>./tables/002/201900813+기타국가+방사능+검출+현황-page-1-table-1.csv</td>\n",
       "    </tr>\n",
       "    <tr>\n",
       "      <th>0</th>\n",
       "      <td>NaN</td>\n",
       "      <td>NaN</td>\n",
       "      <td>NaN</td>\n",
       "      <td>NaN</td>\n",
       "      <td>NaN</td>\n",
       "      <td>세슘\\n요오드\\n판정\\n(기준:100Bq/kg)\\n(기준:100Bq/kg)</td>\n",
       "      <td>NaN</td>\n",
       "      <td>NaN</td>\n",
       "      <td>./tables/003/20190809+기타국가+방사능+검출+현황-page-1-table-1.csv</td>\n",
       "    </tr>\n",
       "    <tr>\n",
       "      <th>1</th>\n",
       "      <td>합계</td>\n",
       "      <td>NaN</td>\n",
       "      <td>NaN</td>\n",
       "      <td>NaN</td>\n",
       "      <td>5,607</td>\n",
       "      <td>NaN</td>\n",
       "      <td>NaN</td>\n",
       "      <td>NaN</td>\n",
       "      <td>./tables/003/20190809+기타국가+방사능+검출+현황-page-1-table-1.csv</td>\n",
       "    </tr>\n",
       "    <tr>\n",
       "      <th>2</th>\n",
       "      <td>1</td>\n",
       "      <td>잼</td>\n",
       "      <td>스웨덴</td>\n",
       "      <td>2020.10.27.</td>\n",
       "      <td>806</td>\n",
       "      <td>1</td>\n",
       "      <td>불검출</td>\n",
       "      <td>적합</td>\n",
       "      <td>./tables/003/20190809+기타국가+방사능+검출+현황-page-1-table-1.csv</td>\n",
       "    </tr>\n",
       "    <tr>\n",
       "      <th>3</th>\n",
       "      <td>2</td>\n",
       "      <td>차가버섯/건조</td>\n",
       "      <td>러시아연방</td>\n",
       "      <td>(2019.6.13.)</td>\n",
       "      <td>3,520</td>\n",
       "      <td>18</td>\n",
       "      <td>불검출</td>\n",
       "      <td>적합</td>\n",
       "      <td>./tables/003/20190809+기타국가+방사능+검출+현황-page-1-table-1.csv</td>\n",
       "    </tr>\n",
       "    <tr>\n",
       "      <th>4</th>\n",
       "      <td>3</td>\n",
       "      <td>능이버섯/건조</td>\n",
       "      <td>중국</td>\n",
       "      <td>2022.01.25.</td>\n",
       "      <td>1,260</td>\n",
       "      <td>2</td>\n",
       "      <td>-</td>\n",
       "      <td>적합</td>\n",
       "      <td>./tables/003/20190809+기타국가+방사능+검출+현황-page-1-table-1.csv</td>\n",
       "    </tr>\n",
       "    <tr>\n",
       "      <th>5</th>\n",
       "      <td>4</td>\n",
       "      <td>능이버섯/신선</td>\n",
       "      <td>중국</td>\n",
       "      <td>생산년도\\n(2019년)</td>\n",
       "      <td>21</td>\n",
       "      <td>6</td>\n",
       "      <td>-</td>\n",
       "      <td>적합</td>\n",
       "      <td>./tables/003/20190809+기타국가+방사능+검출+현황-page-1-table-1.csv</td>\n",
       "    </tr>\n",
       "    <tr>\n",
       "      <th>0</th>\n",
       "      <td>NaN</td>\n",
       "      <td>NaN</td>\n",
       "      <td>NaN</td>\n",
       "      <td>NaN</td>\n",
       "      <td>NaN</td>\n",
       "      <td>세슘\\n요오드\\n판정\\n(기준:100Bq/kg)\\n(기준:100Bq/kg)</td>\n",
       "      <td>NaN</td>\n",
       "      <td>NaN</td>\n",
       "      <td>./tables/004/20190806+기타국가+방사능+검출+현황-page-1-table-1.csv</td>\n",
       "    </tr>\n",
       "    <tr>\n",
       "      <th>1</th>\n",
       "      <td>합계</td>\n",
       "      <td>NaN</td>\n",
       "      <td>NaN</td>\n",
       "      <td>NaN</td>\n",
       "      <td>664</td>\n",
       "      <td>NaN</td>\n",
       "      <td>NaN</td>\n",
       "      <td>NaN</td>\n",
       "      <td>./tables/004/20190806+기타국가+방사능+검출+현황-page-1-table-1.csv</td>\n",
       "    </tr>\n",
       "    <tr>\n",
       "      <th>2</th>\n",
       "      <td>1</td>\n",
       "      <td>능이/건조</td>\n",
       "      <td>중국</td>\n",
       "      <td>(2019.7.25.)</td>\n",
       "      <td>664</td>\n",
       "      <td>2</td>\n",
       "      <td>-</td>\n",
       "      <td>적합</td>\n",
       "      <td>./tables/004/20190806+기타국가+방사능+검출+현황-page-1-table-1.csv</td>\n",
       "    </tr>\n",
       "    <tr>\n",
       "      <th>0</th>\n",
       "      <td>NaN</td>\n",
       "      <td>NaN</td>\n",
       "      <td>NaN</td>\n",
       "      <td>NaN</td>\n",
       "      <td>NaN</td>\n",
       "      <td>세슘\\n요오드\\n판정\\n(기준:100Bq/kg)\\n(기준:100Bq/kg)</td>\n",
       "      <td>NaN</td>\n",
       "      <td>NaN</td>\n",
       "      <td>./tables/005/20190801_기타국가_방사능_검출_현황-page-1-table-1.csv</td>\n",
       "    </tr>\n",
       "    <tr>\n",
       "      <th>1</th>\n",
       "      <td>합계</td>\n",
       "      <td>NaN</td>\n",
       "      <td>NaN</td>\n",
       "      <td>NaN</td>\n",
       "      <td>16,022</td>\n",
       "      <td>NaN</td>\n",
       "      <td>NaN</td>\n",
       "      <td>NaN</td>\n",
       "      <td>./tables/005/20190801_기타국가_방사능_검출_현황-page-1-table-1.csv</td>\n",
       "    </tr>\n",
       "    <tr>\n",
       "      <th>2</th>\n",
       "      <td>1</td>\n",
       "      <td>능이/냉동</td>\n",
       "      <td>중국</td>\n",
       "      <td>(2019.7.7.)</td>\n",
       "      <td>14,418</td>\n",
       "      <td>4</td>\n",
       "      <td>-</td>\n",
       "      <td>적합</td>\n",
       "      <td>./tables/005/20190801_기타국가_방사능_검출_현황-page-1-table-1.csv</td>\n",
       "    </tr>\n",
       "    <tr>\n",
       "      <th>3</th>\n",
       "      <td>2</td>\n",
       "      <td>능이/건조</td>\n",
       "      <td>중국</td>\n",
       "      <td>(2019.7.20.)</td>\n",
       "      <td>400</td>\n",
       "      <td>1</td>\n",
       "      <td>-</td>\n",
       "      <td>적합</td>\n",
       "      <td>./tables/005/20190801_기타국가_방사능_검출_현황-page-1-table-1.csv</td>\n",
       "    </tr>\n",
       "    <tr>\n",
       "      <th>4</th>\n",
       "      <td>3</td>\n",
       "      <td>능이/건조</td>\n",
       "      <td>중국</td>\n",
       "      <td>2019년 \\n생산</td>\n",
       "      <td>348</td>\n",
       "      <td>3</td>\n",
       "      <td>-</td>\n",
       "      <td>적합</td>\n",
       "      <td>./tables/005/20190801_기타국가_방사능_검출_현황-page-1-table-1.csv</td>\n",
       "    </tr>\n",
       "    <tr>\n",
       "      <th>5</th>\n",
       "      <td>4</td>\n",
       "      <td>잼</td>\n",
       "      <td>스웨덴</td>\n",
       "      <td>2020.10.9.</td>\n",
       "      <td>428</td>\n",
       "      <td>12</td>\n",
       "      <td>불검출</td>\n",
       "      <td>적합</td>\n",
       "      <td>./tables/005/20190801_기타국가_방사능_검출_현황-page-1-table-1.csv</td>\n",
       "    </tr>\n",
       "    <tr>\n",
       "      <th>6</th>\n",
       "      <td>5</td>\n",
       "      <td>잼</td>\n",
       "      <td>스웨덴</td>\n",
       "      <td>2020.4.24.</td>\n",
       "      <td>428</td>\n",
       "      <td>3</td>\n",
       "      <td>불검출</td>\n",
       "      <td>적합</td>\n",
       "      <td>./tables/005/20190801_기타국가_방사능_검출_현황-page-1-table-1.csv</td>\n",
       "    </tr>\n",
       "    <tr>\n",
       "      <th>0</th>\n",
       "      <td>NaN</td>\n",
       "      <td>NaN</td>\n",
       "      <td>NaN</td>\n",
       "      <td>NaN</td>\n",
       "      <td>NaN</td>\n",
       "      <td>세슘\\n요오드\\n판정\\n(기준:100Bq/kg)\\n(기준:100Bq/kg)</td>\n",
       "      <td>NaN</td>\n",
       "      <td>NaN</td>\n",
       "      <td>./tables/005/20190730_기타국가_방사능_검출_현황-page-1-table-1.csv</td>\n",
       "    </tr>\n",
       "    <tr>\n",
       "      <th>1</th>\n",
       "      <td>합계</td>\n",
       "      <td>NaN</td>\n",
       "      <td>NaN</td>\n",
       "      <td>NaN</td>\n",
       "      <td>6,020</td>\n",
       "      <td>NaN</td>\n",
       "      <td>NaN</td>\n",
       "      <td>NaN</td>\n",
       "      <td>./tables/005/20190730_기타국가_방사능_검출_현황-page-1-table-1.csv</td>\n",
       "    </tr>\n",
       "    <tr>\n",
       "      <th>2</th>\n",
       "      <td>1</td>\n",
       "      <td>능이/건조</td>\n",
       "      <td>중국</td>\n",
       "      <td>(2019.7.16.)</td>\n",
       "      <td>500</td>\n",
       "      <td>1</td>\n",
       "      <td>-</td>\n",
       "      <td>적합</td>\n",
       "      <td>./tables/005/20190730_기타국가_방사능_검출_현황-page-1-table-1.csv</td>\n",
       "    </tr>\n",
       "    <tr>\n",
       "      <th>3</th>\n",
       "      <td>2</td>\n",
       "      <td>능이/냉동</td>\n",
       "      <td>중국</td>\n",
       "      <td>(2019.7.10.)</td>\n",
       "      <td>5,520</td>\n",
       "      <td>3</td>\n",
       "      <td>-</td>\n",
       "      <td>적합</td>\n",
       "      <td>./tables/005/20190730_기타국가_방사능_검출_현황-page-1-table-1.csv</td>\n",
       "    </tr>\n",
       "    <tr>\n",
       "      <th>0</th>\n",
       "      <td>NaN</td>\n",
       "      <td>NaN</td>\n",
       "      <td>NaN</td>\n",
       "      <td>NaN</td>\n",
       "      <td>NaN</td>\n",
       "      <td>세슘\\n요오드\\n판정\\n(기준:100Bq/kg)\\n(기준:100Bq/kg)</td>\n",
       "      <td>NaN</td>\n",
       "      <td>NaN</td>\n",
       "      <td>./tables/006/20190725_기타국가_방사능_검출_현황-page-1-table-1.csv</td>\n",
       "    </tr>\n",
       "    <tr>\n",
       "      <th>1</th>\n",
       "      <td>합계</td>\n",
       "      <td>NaN</td>\n",
       "      <td>NaN</td>\n",
       "      <td>NaN</td>\n",
       "      <td>602</td>\n",
       "      <td>NaN</td>\n",
       "      <td>NaN</td>\n",
       "      <td>NaN</td>\n",
       "      <td>./tables/006/20190725_기타국가_방사능_검출_현황-page-1-table-1.csv</td>\n",
       "    </tr>\n",
       "    <tr>\n",
       "      <th>2</th>\n",
       "      <td>1</td>\n",
       "      <td>능이/건조</td>\n",
       "      <td>중국</td>\n",
       "      <td>(2019.7.3.)</td>\n",
       "      <td>602</td>\n",
       "      <td>3</td>\n",
       "      <td>-</td>\n",
       "      <td>적합</td>\n",
       "      <td>./tables/006/20190725_기타국가_방사능_검출_현황-page-1-table-1.csv</td>\n",
       "    </tr>\n",
       "    <tr>\n",
       "      <th>0</th>\n",
       "      <td>NaN</td>\n",
       "      <td>NaN</td>\n",
       "      <td>NaN</td>\n",
       "      <td>NaN</td>\n",
       "      <td>NaN</td>\n",
       "      <td>세슘\\n요오드\\n판정\\n(기준:100Bq/kg)\\n(기준:100Bq/kg)</td>\n",
       "      <td>NaN</td>\n",
       "      <td>NaN</td>\n",
       "      <td>./tables/007/20190722_기타국가_방사능_검출_현황-page-1-table-1.csv</td>\n",
       "    </tr>\n",
       "    <tr>\n",
       "      <th>1</th>\n",
       "      <td>합계</td>\n",
       "      <td>NaN</td>\n",
       "      <td>NaN</td>\n",
       "      <td>NaN</td>\n",
       "      <td>14,440</td>\n",
       "      <td>NaN</td>\n",
       "      <td>NaN</td>\n",
       "      <td>NaN</td>\n",
       "      <td>./tables/007/20190722_기타국가_방사능_검출_현황-page-1-table-1.csv</td>\n",
       "    </tr>\n",
       "    <tr>\n",
       "      <th>2</th>\n",
       "      <td>1</td>\n",
       "      <td>능이/냉동</td>\n",
       "      <td>중국</td>\n",
       "      <td>(2019.6.20.)</td>\n",
       "      <td>14,440</td>\n",
       "      <td>1</td>\n",
       "      <td>-</td>\n",
       "      <td>적합</td>\n",
       "      <td>./tables/007/20190722_기타국가_방사능_검출_현황-page-1-table-1.csv</td>\n",
       "    </tr>\n",
       "    <tr>\n",
       "      <th>0</th>\n",
       "      <td>NaN</td>\n",
       "      <td>NaN</td>\n",
       "      <td>NaN</td>\n",
       "      <td>NaN</td>\n",
       "      <td>NaN</td>\n",
       "      <td>세슘\\n요오드\\n판정\\n(기준:100Bq/kg)\\n(기준:100Bq/kg)</td>\n",
       "      <td>NaN</td>\n",
       "      <td>NaN</td>\n",
       "      <td>./tables/008/20190717_기타국가_방사능_검출_현황-page-1-table-1.csv</td>\n",
       "    </tr>\n",
       "    <tr>\n",
       "      <th>1</th>\n",
       "      <td>합계</td>\n",
       "      <td>NaN</td>\n",
       "      <td>NaN</td>\n",
       "      <td>NaN</td>\n",
       "      <td>3,660</td>\n",
       "      <td>NaN</td>\n",
       "      <td>NaN</td>\n",
       "      <td>NaN</td>\n",
       "      <td>./tables/008/20190717_기타국가_방사능_검출_현황-page-1-table-1.csv</td>\n",
       "    </tr>\n",
       "    <tr>\n",
       "      <th>2</th>\n",
       "      <td>1</td>\n",
       "      <td>능이/냉동</td>\n",
       "      <td>중국</td>\n",
       "      <td>(2019.7.1.)</td>\n",
       "      <td>3,660</td>\n",
       "      <td>4</td>\n",
       "      <td>-</td>\n",
       "      <td>적합</td>\n",
       "      <td>./tables/008/20190717_기타국가_방사능_검출_현황-page-1-table-1.csv</td>\n",
       "    </tr>\n",
       "    <tr>\n",
       "      <th>0</th>\n",
       "      <td>NaN</td>\n",
       "      <td>NaN</td>\n",
       "      <td>NaN</td>\n",
       "      <td>NaN</td>\n",
       "      <td>NaN</td>\n",
       "      <td>세슘\\n요오드\\n판정\\n(기준:100Bq/kg)\\n(기준:100Bq/kg)</td>\n",
       "      <td>NaN</td>\n",
       "      <td>NaN</td>\n",
       "      <td>./tables/009/20190711_기타국가_방사능_검출_현황-page-1-table-1.csv</td>\n",
       "    </tr>\n",
       "    <tr>\n",
       "      <th>1</th>\n",
       "      <td>합계</td>\n",
       "      <td>NaN</td>\n",
       "      <td>NaN</td>\n",
       "      <td>NaN</td>\n",
       "      <td>15,190</td>\n",
       "      <td>NaN</td>\n",
       "      <td>NaN</td>\n",
       "      <td>NaN</td>\n",
       "      <td>./tables/009/20190711_기타국가_방사능_검출_현황-page-1-table-1.csv</td>\n",
       "    </tr>\n",
       "    <tr>\n",
       "      <th>2</th>\n",
       "      <td>1</td>\n",
       "      <td>능이/냉동</td>\n",
       "      <td>중국</td>\n",
       "      <td>(2019.6.12.)</td>\n",
       "      <td>14,372</td>\n",
       "      <td>1</td>\n",
       "      <td>-</td>\n",
       "      <td>적합</td>\n",
       "      <td>./tables/009/20190711_기타국가_방사능_검출_현황-page-1-table-1.csv</td>\n",
       "    </tr>\n",
       "    <tr>\n",
       "      <th>3</th>\n",
       "      <td>2</td>\n",
       "      <td>능이/건조</td>\n",
       "      <td>중국</td>\n",
       "      <td>(2019.4.15.)</td>\n",
       "      <td>638</td>\n",
       "      <td>2</td>\n",
       "      <td>-</td>\n",
       "      <td>적합</td>\n",
       "      <td>./tables/009/20190711_기타국가_방사능_검출_현황-page-1-table-1.csv</td>\n",
       "    </tr>\n",
       "    <tr>\n",
       "      <th>4</th>\n",
       "      <td>3</td>\n",
       "      <td>과채가공품</td>\n",
       "      <td>벨기에</td>\n",
       "      <td>2020.11.5.</td>\n",
       "      <td>180</td>\n",
       "      <td>12</td>\n",
       "      <td>불검출</td>\n",
       "      <td>적합</td>\n",
       "      <td>./tables/009/20190711_기타국가_방사능_검출_현황-page-1-table-1.csv</td>\n",
       "    </tr>\n",
       "    <tr>\n",
       "      <th>0</th>\n",
       "      <td>NaN</td>\n",
       "      <td>NaN</td>\n",
       "      <td>NaN</td>\n",
       "      <td>NaN</td>\n",
       "      <td>NaN</td>\n",
       "      <td>세슘\\n요오드\\n판정\\n(기준:100Bq/kg)\\n(기준:100Bq/kg)</td>\n",
       "      <td>NaN</td>\n",
       "      <td>NaN</td>\n",
       "      <td>./tables/009/20190716_기타국가_방사능_검출_현황-page-1-table-1.csv</td>\n",
       "    </tr>\n",
       "    <tr>\n",
       "      <th>1</th>\n",
       "      <td>합계</td>\n",
       "      <td>NaN</td>\n",
       "      <td>NaN</td>\n",
       "      <td>NaN</td>\n",
       "      <td>1,640</td>\n",
       "      <td>NaN</td>\n",
       "      <td>NaN</td>\n",
       "      <td>NaN</td>\n",
       "      <td>./tables/009/20190716_기타국가_방사능_검출_현황-page-1-table-1.csv</td>\n",
       "    </tr>\n",
       "    <tr>\n",
       "      <th>2</th>\n",
       "      <td>1</td>\n",
       "      <td>능이/건조</td>\n",
       "      <td>중국</td>\n",
       "      <td>(2019.7.1.)</td>\n",
       "      <td>1,160</td>\n",
       "      <td>2</td>\n",
       "      <td>-</td>\n",
       "      <td>적합</td>\n",
       "      <td>./tables/009/20190716_기타국가_방사능_검출_현황-page-1-table-1.csv</td>\n",
       "    </tr>\n",
       "    <tr>\n",
       "      <th>3</th>\n",
       "      <td>2</td>\n",
       "      <td>과채가공품</td>\n",
       "      <td>에스토니아</td>\n",
       "      <td>2022.5.17.</td>\n",
       "      <td>480</td>\n",
       "      <td>20</td>\n",
       "      <td>불검출</td>\n",
       "      <td>적합</td>\n",
       "      <td>./tables/009/20190716_기타국가_방사능_검출_현황-page-1-table-1.csv</td>\n",
       "    </tr>\n",
       "    <tr>\n",
       "      <th>0</th>\n",
       "      <td>NaN</td>\n",
       "      <td>NaN</td>\n",
       "      <td>NaN</td>\n",
       "      <td>NaN</td>\n",
       "      <td>NaN</td>\n",
       "      <td>세슘\\n요오드\\n판정\\n(기준:100Bq/kg)\\n(기준:100Bq/kg)</td>\n",
       "      <td>NaN</td>\n",
       "      <td>NaN</td>\n",
       "      <td>./tables/009/20190712_기타국가_방사능_검출_현황-page-1-table-1.csv</td>\n",
       "    </tr>\n",
       "    <tr>\n",
       "      <th>1</th>\n",
       "      <td>합계</td>\n",
       "      <td>NaN</td>\n",
       "      <td>NaN</td>\n",
       "      <td>NaN</td>\n",
       "      <td>400</td>\n",
       "      <td>NaN</td>\n",
       "      <td>NaN</td>\n",
       "      <td>NaN</td>\n",
       "      <td>./tables/009/20190712_기타국가_방사능_검출_현황-page-1-table-1.csv</td>\n",
       "    </tr>\n",
       "    <tr>\n",
       "      <th>2</th>\n",
       "      <td>1</td>\n",
       "      <td>능이/건조</td>\n",
       "      <td>중국</td>\n",
       "      <td>(2019.6.30.)</td>\n",
       "      <td>400</td>\n",
       "      <td>1</td>\n",
       "      <td>-</td>\n",
       "      <td>적합</td>\n",
       "      <td>./tables/009/20190712_기타국가_방사능_검출_현황-page-1-table-1.csv</td>\n",
       "    </tr>\n",
       "    <tr>\n",
       "      <th>0</th>\n",
       "      <td>NaN</td>\n",
       "      <td>NaN</td>\n",
       "      <td>NaN</td>\n",
       "      <td>NaN</td>\n",
       "      <td>NaN</td>\n",
       "      <td>세슘\\n요오드\\n판정\\n(기준:100Bq/kg)\\n(기준:100Bq/kg)</td>\n",
       "      <td>NaN</td>\n",
       "      <td>NaN</td>\n",
       "      <td>./tables/011/20190709_기타국가_방사능_검출_현황-page-1-table-1.csv</td>\n",
       "    </tr>\n",
       "    <tr>\n",
       "      <th>1</th>\n",
       "      <td>합계</td>\n",
       "      <td>NaN</td>\n",
       "      <td>NaN</td>\n",
       "      <td>NaN</td>\n",
       "      <td>300</td>\n",
       "      <td>NaN</td>\n",
       "      <td>NaN</td>\n",
       "      <td>NaN</td>\n",
       "      <td>./tables/011/20190709_기타국가_방사능_검출_현황-page-1-table-1.csv</td>\n",
       "    </tr>\n",
       "  </tbody>\n",
       "</table>\n",
       "</div>"
      ],
      "text/plain": [
       "     0        1      2              3       4  \\\n",
       "0  NaN  NaN      NaN    NaN            NaN      \n",
       "1  합계   NaN      NaN    NaN            2,330    \n",
       "2  1    고형차      러시아연방  2022.07.31.    100      \n",
       "3  2    능이/건조    중국     (2019.08.01.)  2,230    \n",
       "0  NaN  NaN      NaN    NaN            NaN      \n",
       "1  합계   NaN      NaN    NaN            429      \n",
       "2  1    능이버섯/건조  중국     2020.10.31.    429      \n",
       "0  NaN  NaN      NaN    NaN            NaN      \n",
       "1  합계   NaN      NaN    NaN            5,607    \n",
       "2  1    잼        스웨덴    2020.10.27.    806      \n",
       "3  2    차가버섯/건조  러시아연방  (2019.6.13.)   3,520    \n",
       "4  3    능이버섯/건조  중국     2022.01.25.    1,260    \n",
       "5  4    능이버섯/신선  중국     생산년도\\n(2019년)  21       \n",
       "0  NaN  NaN      NaN    NaN            NaN      \n",
       "1  합계   NaN      NaN    NaN            664      \n",
       "2  1    능이/건조    중국     (2019.7.25.)   664      \n",
       "0  NaN  NaN      NaN    NaN            NaN      \n",
       "1  합계   NaN      NaN    NaN            16,022   \n",
       "2  1    능이/냉동    중국     (2019.7.7.)    14,418   \n",
       "3  2    능이/건조    중국     (2019.7.20.)   400      \n",
       "4  3    능이/건조    중국     2019년 \\n생산     348      \n",
       "5  4    잼        스웨덴    2020.10.9.     428      \n",
       "6  5    잼        스웨덴    2020.4.24.     428      \n",
       "0  NaN  NaN      NaN    NaN            NaN      \n",
       "1  합계   NaN      NaN    NaN            6,020    \n",
       "2  1    능이/건조    중국     (2019.7.16.)   500      \n",
       "3  2    능이/냉동    중국     (2019.7.10.)   5,520    \n",
       "0  NaN  NaN      NaN    NaN            NaN      \n",
       "1  합계   NaN      NaN    NaN            602      \n",
       "2  1    능이/건조    중국     (2019.7.3.)    602      \n",
       "0  NaN  NaN      NaN    NaN            NaN      \n",
       "1  합계   NaN      NaN    NaN            14,440   \n",
       "2  1    능이/냉동    중국     (2019.6.20.)   14,440   \n",
       "0  NaN  NaN      NaN    NaN            NaN      \n",
       "1  합계   NaN      NaN    NaN            3,660    \n",
       "2  1    능이/냉동    중국     (2019.7.1.)    3,660    \n",
       "0  NaN  NaN      NaN    NaN            NaN      \n",
       "1  합계   NaN      NaN    NaN            15,190   \n",
       "2  1    능이/냉동    중국     (2019.6.12.)   14,372   \n",
       "3  2    능이/건조    중국     (2019.4.15.)   638      \n",
       "4  3    과채가공품    벨기에    2020.11.5.     180      \n",
       "0  NaN  NaN      NaN    NaN            NaN      \n",
       "1  합계   NaN      NaN    NaN            1,640    \n",
       "2  1    능이/건조    중국     (2019.7.1.)    1,160    \n",
       "3  2    과채가공품    에스토니아  2022.5.17.     480      \n",
       "0  NaN  NaN      NaN    NaN            NaN      \n",
       "1  합계   NaN      NaN    NaN            400      \n",
       "2  1    능이/건조    중국     (2019.6.30.)   400      \n",
       "0  NaN  NaN      NaN    NaN            NaN      \n",
       "1  합계   NaN      NaN    NaN            300      \n",
       "\n",
       "                                           5    6    7  \\\n",
       "0  세슘\\n요오드\\n판정\\n(기준:100Bq/kg)\\n(기준:100Bq/kg)  NaN  NaN   \n",
       "1  NaN                                        NaN  NaN   \n",
       "2  55                                         불검출  적합    \n",
       "3  3                                          -    적합    \n",
       "0  세슘\\n요오드\\n판정\\n(기준:100Bq/kg)\\n(기준:100Bq/kg)  NaN  NaN   \n",
       "1  NaN                                        NaN  NaN   \n",
       "2  13                                         -    적합    \n",
       "0  세슘\\n요오드\\n판정\\n(기준:100Bq/kg)\\n(기준:100Bq/kg)  NaN  NaN   \n",
       "1  NaN                                        NaN  NaN   \n",
       "2  1                                          불검출  적합    \n",
       "3  18                                         불검출  적합    \n",
       "4  2                                          -    적합    \n",
       "5  6                                          -    적합    \n",
       "0  세슘\\n요오드\\n판정\\n(기준:100Bq/kg)\\n(기준:100Bq/kg)  NaN  NaN   \n",
       "1  NaN                                        NaN  NaN   \n",
       "2  2                                          -    적합    \n",
       "0  세슘\\n요오드\\n판정\\n(기준:100Bq/kg)\\n(기준:100Bq/kg)  NaN  NaN   \n",
       "1  NaN                                        NaN  NaN   \n",
       "2  4                                          -    적합    \n",
       "3  1                                          -    적합    \n",
       "4  3                                          -    적합    \n",
       "5  12                                         불검출  적합    \n",
       "6  3                                          불검출  적합    \n",
       "0  세슘\\n요오드\\n판정\\n(기준:100Bq/kg)\\n(기준:100Bq/kg)  NaN  NaN   \n",
       "1  NaN                                        NaN  NaN   \n",
       "2  1                                          -    적합    \n",
       "3  3                                          -    적합    \n",
       "0  세슘\\n요오드\\n판정\\n(기준:100Bq/kg)\\n(기준:100Bq/kg)  NaN  NaN   \n",
       "1  NaN                                        NaN  NaN   \n",
       "2  3                                          -    적합    \n",
       "0  세슘\\n요오드\\n판정\\n(기준:100Bq/kg)\\n(기준:100Bq/kg)  NaN  NaN   \n",
       "1  NaN                                        NaN  NaN   \n",
       "2  1                                          -    적합    \n",
       "0  세슘\\n요오드\\n판정\\n(기준:100Bq/kg)\\n(기준:100Bq/kg)  NaN  NaN   \n",
       "1  NaN                                        NaN  NaN   \n",
       "2  4                                          -    적합    \n",
       "0  세슘\\n요오드\\n판정\\n(기준:100Bq/kg)\\n(기준:100Bq/kg)  NaN  NaN   \n",
       "1  NaN                                        NaN  NaN   \n",
       "2  1                                          -    적합    \n",
       "3  2                                          -    적합    \n",
       "4  12                                         불검출  적합    \n",
       "0  세슘\\n요오드\\n판정\\n(기준:100Bq/kg)\\n(기준:100Bq/kg)  NaN  NaN   \n",
       "1  NaN                                        NaN  NaN   \n",
       "2  2                                          -    적합    \n",
       "3  20                                         불검출  적합    \n",
       "0  세슘\\n요오드\\n판정\\n(기준:100Bq/kg)\\n(기준:100Bq/kg)  NaN  NaN   \n",
       "1  NaN                                        NaN  NaN   \n",
       "2  1                                          -    적합    \n",
       "0  세슘\\n요오드\\n판정\\n(기준:100Bq/kg)\\n(기준:100Bq/kg)  NaN  NaN   \n",
       "1  NaN                                        NaN  NaN   \n",
       "\n",
       "                                                          8  \n",
       "0  ./tables/001/20190816+기타국가+방사능+검출+현황-page-1-table-1.csv   \n",
       "1  ./tables/001/20190816+기타국가+방사능+검출+현황-page-1-table-1.csv   \n",
       "2  ./tables/001/20190816+기타국가+방사능+검출+현황-page-1-table-1.csv   \n",
       "3  ./tables/001/20190816+기타국가+방사능+검출+현황-page-1-table-1.csv   \n",
       "0  ./tables/002/201900813+기타국가+방사능+검출+현황-page-1-table-1.csv  \n",
       "1  ./tables/002/201900813+기타국가+방사능+검출+현황-page-1-table-1.csv  \n",
       "2  ./tables/002/201900813+기타국가+방사능+검출+현황-page-1-table-1.csv  \n",
       "0  ./tables/003/20190809+기타국가+방사능+검출+현황-page-1-table-1.csv   \n",
       "1  ./tables/003/20190809+기타국가+방사능+검출+현황-page-1-table-1.csv   \n",
       "2  ./tables/003/20190809+기타국가+방사능+검출+현황-page-1-table-1.csv   \n",
       "3  ./tables/003/20190809+기타국가+방사능+검출+현황-page-1-table-1.csv   \n",
       "4  ./tables/003/20190809+기타국가+방사능+검출+현황-page-1-table-1.csv   \n",
       "5  ./tables/003/20190809+기타국가+방사능+검출+현황-page-1-table-1.csv   \n",
       "0  ./tables/004/20190806+기타국가+방사능+검출+현황-page-1-table-1.csv   \n",
       "1  ./tables/004/20190806+기타국가+방사능+검출+현황-page-1-table-1.csv   \n",
       "2  ./tables/004/20190806+기타국가+방사능+검출+현황-page-1-table-1.csv   \n",
       "0  ./tables/005/20190801_기타국가_방사능_검출_현황-page-1-table-1.csv   \n",
       "1  ./tables/005/20190801_기타국가_방사능_검출_현황-page-1-table-1.csv   \n",
       "2  ./tables/005/20190801_기타국가_방사능_검출_현황-page-1-table-1.csv   \n",
       "3  ./tables/005/20190801_기타국가_방사능_검출_현황-page-1-table-1.csv   \n",
       "4  ./tables/005/20190801_기타국가_방사능_검출_현황-page-1-table-1.csv   \n",
       "5  ./tables/005/20190801_기타국가_방사능_검출_현황-page-1-table-1.csv   \n",
       "6  ./tables/005/20190801_기타국가_방사능_검출_현황-page-1-table-1.csv   \n",
       "0  ./tables/005/20190730_기타국가_방사능_검출_현황-page-1-table-1.csv   \n",
       "1  ./tables/005/20190730_기타국가_방사능_검출_현황-page-1-table-1.csv   \n",
       "2  ./tables/005/20190730_기타국가_방사능_검출_현황-page-1-table-1.csv   \n",
       "3  ./tables/005/20190730_기타국가_방사능_검출_현황-page-1-table-1.csv   \n",
       "0  ./tables/006/20190725_기타국가_방사능_검출_현황-page-1-table-1.csv   \n",
       "1  ./tables/006/20190725_기타국가_방사능_검출_현황-page-1-table-1.csv   \n",
       "2  ./tables/006/20190725_기타국가_방사능_검출_현황-page-1-table-1.csv   \n",
       "0  ./tables/007/20190722_기타국가_방사능_검출_현황-page-1-table-1.csv   \n",
       "1  ./tables/007/20190722_기타국가_방사능_검출_현황-page-1-table-1.csv   \n",
       "2  ./tables/007/20190722_기타국가_방사능_검출_현황-page-1-table-1.csv   \n",
       "0  ./tables/008/20190717_기타국가_방사능_검출_현황-page-1-table-1.csv   \n",
       "1  ./tables/008/20190717_기타국가_방사능_검출_현황-page-1-table-1.csv   \n",
       "2  ./tables/008/20190717_기타국가_방사능_검출_현황-page-1-table-1.csv   \n",
       "0  ./tables/009/20190711_기타국가_방사능_검출_현황-page-1-table-1.csv   \n",
       "1  ./tables/009/20190711_기타국가_방사능_검출_현황-page-1-table-1.csv   \n",
       "2  ./tables/009/20190711_기타국가_방사능_검출_현황-page-1-table-1.csv   \n",
       "3  ./tables/009/20190711_기타국가_방사능_검출_현황-page-1-table-1.csv   \n",
       "4  ./tables/009/20190711_기타국가_방사능_검출_현황-page-1-table-1.csv   \n",
       "0  ./tables/009/20190716_기타국가_방사능_검출_현황-page-1-table-1.csv   \n",
       "1  ./tables/009/20190716_기타국가_방사능_검출_현황-page-1-table-1.csv   \n",
       "2  ./tables/009/20190716_기타국가_방사능_검출_현황-page-1-table-1.csv   \n",
       "3  ./tables/009/20190716_기타국가_방사능_검출_현황-page-1-table-1.csv   \n",
       "0  ./tables/009/20190712_기타국가_방사능_검출_현황-page-1-table-1.csv   \n",
       "1  ./tables/009/20190712_기타국가_방사능_검출_현황-page-1-table-1.csv   \n",
       "2  ./tables/009/20190712_기타국가_방사능_검출_현황-page-1-table-1.csv   \n",
       "0  ./tables/011/20190709_기타국가_방사능_검출_현황-page-1-table-1.csv   \n",
       "1  ./tables/011/20190709_기타국가_방사능_검출_현황-page-1-table-1.csv   "
      ]
     },
     "execution_count": 38,
     "metadata": {},
     "output_type": "execute_result"
    }
   ],
   "source": [
    "col_2_df_foreign[9].head(50)"
   ]
  },
  {
   "cell_type": "code",
   "execution_count": 39,
   "metadata": {},
   "outputs": [
    {
     "name": "stdout",
     "output_type": "stream",
     "text": [
      "(147541, 9)\n"
     ]
    },
    {
     "data": {
      "text/html": [
       "<div>\n",
       "<style scoped>\n",
       "    .dataframe tbody tr th:only-of-type {\n",
       "        vertical-align: middle;\n",
       "    }\n",
       "\n",
       "    .dataframe tbody tr th {\n",
       "        vertical-align: top;\n",
       "    }\n",
       "\n",
       "    .dataframe thead th {\n",
       "        text-align: right;\n",
       "    }\n",
       "</style>\n",
       "<table border=\"1\" class=\"dataframe\">\n",
       "  <thead>\n",
       "    <tr style=\"text-align: right;\">\n",
       "      <th></th>\n",
       "      <th>0</th>\n",
       "      <th>1</th>\n",
       "      <th>2</th>\n",
       "      <th>3</th>\n",
       "      <th>4</th>\n",
       "      <th>5</th>\n",
       "      <th>6</th>\n",
       "      <th>7</th>\n",
       "      <th>8</th>\n",
       "    </tr>\n",
       "  </thead>\n",
       "  <tbody>\n",
       "    <tr>\n",
       "      <th>0</th>\n",
       "      <td>순번</td>\n",
       "      <td>품목명</td>\n",
       "      <td>NaN</td>\n",
       "      <td>NaN</td>\n",
       "      <td>NaN</td>\n",
       "      <td>세슘\\n요오드\\n판정\\n(기준:100Bq/kg)\\n(기준:300Bq/kg)</td>\n",
       "      <td>NaN</td>\n",
       "      <td>NaN</td>\n",
       "      <td>./tables/352/20150114_방사능_검사_현황-page-1-table-2.csv</td>\n",
       "    </tr>\n",
       "    <tr>\n",
       "      <th>1</th>\n",
       "      <td>합계</td>\n",
       "      <td>NaN</td>\n",
       "      <td>71건</td>\n",
       "      <td>NaN</td>\n",
       "      <td>105,413</td>\n",
       "      <td>NaN</td>\n",
       "      <td>NaN</td>\n",
       "      <td>NaN</td>\n",
       "      <td>./tables/352/20150114_방사능_검사_현황-page-1-table-2.csv</td>\n",
       "    </tr>\n",
       "    <tr>\n",
       "      <th>2</th>\n",
       "      <td>1</td>\n",
       "      <td>당류가공품</td>\n",
       "      <td>에히메현</td>\n",
       "      <td>2014-10-09</td>\n",
       "      <td>161</td>\n",
       "      <td>불검출</td>\n",
       "      <td>불검출</td>\n",
       "      <td>적합</td>\n",
       "      <td>./tables/352/20150114_방사능_검사_현황-page-1-table-2.csv</td>\n",
       "    </tr>\n",
       "    <tr>\n",
       "      <th>3</th>\n",
       "      <td>2</td>\n",
       "      <td>청주</td>\n",
       "      <td>효고현</td>\n",
       "      <td>2014-11-04</td>\n",
       "      <td>114</td>\n",
       "      <td>불검출</td>\n",
       "      <td>불검출</td>\n",
       "      <td>적합</td>\n",
       "      <td>./tables/352/20150114_방사능_검사_현황-page-1-table-2.csv</td>\n",
       "    </tr>\n",
       "    <tr>\n",
       "      <th>4</th>\n",
       "      <td>3</td>\n",
       "      <td>청주</td>\n",
       "      <td>효고현</td>\n",
       "      <td>2014-09-01</td>\n",
       "      <td>95</td>\n",
       "      <td>불검출</td>\n",
       "      <td>불검출</td>\n",
       "      <td>적합</td>\n",
       "      <td>./tables/352/20150114_방사능_검사_현황-page-1-table-2.csv</td>\n",
       "    </tr>\n",
       "  </tbody>\n",
       "</table>\n",
       "</div>"
      ],
      "text/plain": [
       "    0      1     2           3        4  \\\n",
       "0  순번  품목명    NaN   NaN         NaN       \n",
       "1  합계  NaN    71건   NaN         105,413   \n",
       "2  1   당류가공품  에히메현  2014-10-09  161       \n",
       "3  2   청주     효고현   2014-11-04  114       \n",
       "4  3   청주     효고현   2014-09-01  95        \n",
       "\n",
       "                                           5    6    7  \\\n",
       "0  세슘\\n요오드\\n판정\\n(기준:100Bq/kg)\\n(기준:300Bq/kg)  NaN  NaN   \n",
       "1  NaN                                        NaN  NaN   \n",
       "2  불검출                                        불검출  적합    \n",
       "3  불검출                                        불검출  적합    \n",
       "4  불검출                                        불검출  적합    \n",
       "\n",
       "                                                    8  \n",
       "0  ./tables/352/20150114_방사능_검사_현황-page-1-table-2.csv  \n",
       "1  ./tables/352/20150114_방사능_검사_현황-page-1-table-2.csv  \n",
       "2  ./tables/352/20150114_방사능_검사_현황-page-1-table-2.csv  \n",
       "3  ./tables/352/20150114_방사능_검사_현황-page-1-table-2.csv  \n",
       "4  ./tables/352/20150114_방사능_검사_현황-page-1-table-2.csv  "
      ]
     },
     "execution_count": 39,
     "metadata": {},
     "output_type": "execute_result"
    }
   ],
   "source": [
    "df_imported = col_2_df_imported[9].copy()\n",
    "print(df_imported.shape)\n",
    "df_imported.head()"
   ]
  },
  {
   "cell_type": "code",
   "execution_count": 40,
   "metadata": {},
   "outputs": [
    {
     "name": "stdout",
     "output_type": "stream",
     "text": [
      "(53525, 9)\n"
     ]
    },
    {
     "data": {
      "text/html": [
       "<div>\n",
       "<style scoped>\n",
       "    .dataframe tbody tr th:only-of-type {\n",
       "        vertical-align: middle;\n",
       "    }\n",
       "\n",
       "    .dataframe tbody tr th {\n",
       "        vertical-align: top;\n",
       "    }\n",
       "\n",
       "    .dataframe thead th {\n",
       "        text-align: right;\n",
       "    }\n",
       "</style>\n",
       "<table border=\"1\" class=\"dataframe\">\n",
       "  <thead>\n",
       "    <tr style=\"text-align: right;\">\n",
       "      <th></th>\n",
       "      <th>0</th>\n",
       "      <th>1</th>\n",
       "      <th>2</th>\n",
       "      <th>3</th>\n",
       "      <th>4</th>\n",
       "      <th>5</th>\n",
       "      <th>6</th>\n",
       "      <th>7</th>\n",
       "      <th>8</th>\n",
       "    </tr>\n",
       "  </thead>\n",
       "  <tbody>\n",
       "    <tr>\n",
       "      <th>0</th>\n",
       "      <td>NaN</td>\n",
       "      <td>NaN</td>\n",
       "      <td>NaN</td>\n",
       "      <td>NaN</td>\n",
       "      <td>NaN</td>\n",
       "      <td>세슘\\n(기준:100Bq/Kg)</td>\n",
       "      <td>요오드\\n(기준:300Bq/Kg)</td>\n",
       "      <td>판정</td>\n",
       "      <td>./tables/184/일본산_수입축수산물_방사능검사_현황(3월17일_완료건)-page-1-table-1.csv</td>\n",
       "    </tr>\n",
       "    <tr>\n",
       "      <th>1</th>\n",
       "      <td>합계</td>\n",
       "      <td>NaN</td>\n",
       "      <td>-</td>\n",
       "      <td>-</td>\n",
       "      <td>23,876</td>\n",
       "      <td>-</td>\n",
       "      <td>-</td>\n",
       "      <td>-</td>\n",
       "      <td>./tables/184/일본산_수입축수산물_방사능검사_현황(3월17일_완료건)-page-1-table-1.csv</td>\n",
       "    </tr>\n",
       "    <tr>\n",
       "      <th>2</th>\n",
       "      <td>1</td>\n",
       "      <td>활돔(참돔)</td>\n",
       "      <td>에히메현</td>\n",
       "      <td>2017-03-17</td>\n",
       "      <td>4672</td>\n",
       "      <td>불검출</td>\n",
       "      <td>불검출</td>\n",
       "      <td>적합</td>\n",
       "      <td>./tables/184/일본산_수입축수산물_방사능검사_현황(3월17일_완료건)-page-1-table-1.csv</td>\n",
       "    </tr>\n",
       "    <tr>\n",
       "      <th>3</th>\n",
       "      <td>2</td>\n",
       "      <td>냉장명태</td>\n",
       "      <td>홋카이도</td>\n",
       "      <td>2017-03-17</td>\n",
       "      <td>1157</td>\n",
       "      <td>불검출</td>\n",
       "      <td>불검출</td>\n",
       "      <td>적합</td>\n",
       "      <td>./tables/184/일본산_수입축수산물_방사능검사_현황(3월17일_완료건)-page-1-table-1.csv</td>\n",
       "    </tr>\n",
       "    <tr>\n",
       "      <th>4</th>\n",
       "      <td>3</td>\n",
       "      <td>냉장명태</td>\n",
       "      <td>홋카이도</td>\n",
       "      <td>2017-03-17</td>\n",
       "      <td>1280</td>\n",
       "      <td>불검출</td>\n",
       "      <td>불검출</td>\n",
       "      <td>적합</td>\n",
       "      <td>./tables/184/일본산_수입축수산물_방사능검사_현황(3월17일_완료건)-page-1-table-1.csv</td>\n",
       "    </tr>\n",
       "  </tbody>\n",
       "</table>\n",
       "</div>"
      ],
      "text/plain": [
       "     0       1     2           3       4                  5  \\\n",
       "0  NaN  NaN     NaN   NaN         NaN     세슘\\n(기준:100Bq/Kg)   \n",
       "1  합계   NaN     -     -           23,876  -                   \n",
       "2  1    활돔(참돔)  에히메현  2017-03-17  4672    불검출                 \n",
       "3  2    냉장명태    홋카이도  2017-03-17  1157    불검출                 \n",
       "4  3    냉장명태    홋카이도  2017-03-17  1280    불검출                 \n",
       "\n",
       "                    6   7  \\\n",
       "0  요오드\\n(기준:300Bq/Kg)  판정   \n",
       "1  -                   -    \n",
       "2  불검출                 적합   \n",
       "3  불검출                 적합   \n",
       "4  불검출                 적합   \n",
       "\n",
       "                                                                8  \n",
       "0  ./tables/184/일본산_수입축수산물_방사능검사_현황(3월17일_완료건)-page-1-table-1.csv  \n",
       "1  ./tables/184/일본산_수입축수산물_방사능검사_현황(3월17일_완료건)-page-1-table-1.csv  \n",
       "2  ./tables/184/일본산_수입축수산물_방사능검사_현황(3월17일_완료건)-page-1-table-1.csv  \n",
       "3  ./tables/184/일본산_수입축수산물_방사능검사_현황(3월17일_완료건)-page-1-table-1.csv  \n",
       "4  ./tables/184/일본산_수입축수산물_방사능검사_현황(3월17일_완료건)-page-1-table-1.csv  "
      ]
     },
     "execution_count": 40,
     "metadata": {},
     "output_type": "execute_result"
    }
   ],
   "source": [
    "df_fish_meat = col_2_df_fish_meat[9].copy()\n",
    "print(df_fish_meat.shape)\n",
    "df_fish_meat.head()"
   ]
  },
  {
   "cell_type": "code",
   "execution_count": 41,
   "metadata": {},
   "outputs": [
    {
     "name": "stdout",
     "output_type": "stream",
     "text": [
      "(1102, 9)\n"
     ]
    },
    {
     "data": {
      "text/html": [
       "<div>\n",
       "<style scoped>\n",
       "    .dataframe tbody tr th:only-of-type {\n",
       "        vertical-align: middle;\n",
       "    }\n",
       "\n",
       "    .dataframe tbody tr th {\n",
       "        vertical-align: top;\n",
       "    }\n",
       "\n",
       "    .dataframe thead th {\n",
       "        text-align: right;\n",
       "    }\n",
       "</style>\n",
       "<table border=\"1\" class=\"dataframe\">\n",
       "  <thead>\n",
       "    <tr style=\"text-align: right;\">\n",
       "      <th></th>\n",
       "      <th>0</th>\n",
       "      <th>1</th>\n",
       "      <th>2</th>\n",
       "      <th>3</th>\n",
       "      <th>4</th>\n",
       "      <th>5</th>\n",
       "      <th>6</th>\n",
       "      <th>7</th>\n",
       "      <th>8</th>\n",
       "    </tr>\n",
       "  </thead>\n",
       "  <tbody>\n",
       "    <tr>\n",
       "      <th>0</th>\n",
       "      <td>NaN</td>\n",
       "      <td>NaN</td>\n",
       "      <td>NaN</td>\n",
       "      <td>NaN</td>\n",
       "      <td>NaN</td>\n",
       "      <td>세슘\\n요오드\\n판정\\n(기준:100Bq/kg)\\n(기준:100Bq/kg)</td>\n",
       "      <td>NaN</td>\n",
       "      <td>NaN</td>\n",
       "      <td>./tables/001/20190816+기타국가+방사능+검출+현황-page-1-table-1.csv</td>\n",
       "    </tr>\n",
       "    <tr>\n",
       "      <th>1</th>\n",
       "      <td>합계</td>\n",
       "      <td>NaN</td>\n",
       "      <td>NaN</td>\n",
       "      <td>NaN</td>\n",
       "      <td>2,330</td>\n",
       "      <td>NaN</td>\n",
       "      <td>NaN</td>\n",
       "      <td>NaN</td>\n",
       "      <td>./tables/001/20190816+기타국가+방사능+검출+현황-page-1-table-1.csv</td>\n",
       "    </tr>\n",
       "    <tr>\n",
       "      <th>2</th>\n",
       "      <td>1</td>\n",
       "      <td>고형차</td>\n",
       "      <td>러시아연방</td>\n",
       "      <td>2022.07.31.</td>\n",
       "      <td>100</td>\n",
       "      <td>55</td>\n",
       "      <td>불검출</td>\n",
       "      <td>적합</td>\n",
       "      <td>./tables/001/20190816+기타국가+방사능+검출+현황-page-1-table-1.csv</td>\n",
       "    </tr>\n",
       "    <tr>\n",
       "      <th>3</th>\n",
       "      <td>2</td>\n",
       "      <td>능이/건조</td>\n",
       "      <td>중국</td>\n",
       "      <td>(2019.08.01.)</td>\n",
       "      <td>2,230</td>\n",
       "      <td>3</td>\n",
       "      <td>-</td>\n",
       "      <td>적합</td>\n",
       "      <td>./tables/001/20190816+기타국가+방사능+검출+현황-page-1-table-1.csv</td>\n",
       "    </tr>\n",
       "    <tr>\n",
       "      <th>0</th>\n",
       "      <td>NaN</td>\n",
       "      <td>NaN</td>\n",
       "      <td>NaN</td>\n",
       "      <td>NaN</td>\n",
       "      <td>NaN</td>\n",
       "      <td>세슘\\n요오드\\n판정\\n(기준:100Bq/kg)\\n(기준:100Bq/kg)</td>\n",
       "      <td>NaN</td>\n",
       "      <td>NaN</td>\n",
       "      <td>./tables/002/201900813+기타국가+방사능+검출+현황-page-1-table-1.csv</td>\n",
       "    </tr>\n",
       "  </tbody>\n",
       "</table>\n",
       "</div>"
      ],
      "text/plain": [
       "     0      1      2              3      4  \\\n",
       "0  NaN  NaN    NaN    NaN            NaN     \n",
       "1  합계   NaN    NaN    NaN            2,330   \n",
       "2  1    고형차    러시아연방  2022.07.31.    100     \n",
       "3  2    능이/건조  중국     (2019.08.01.)  2,230   \n",
       "0  NaN  NaN    NaN    NaN            NaN     \n",
       "\n",
       "                                           5    6    7  \\\n",
       "0  세슘\\n요오드\\n판정\\n(기준:100Bq/kg)\\n(기준:100Bq/kg)  NaN  NaN   \n",
       "1  NaN                                        NaN  NaN   \n",
       "2  55                                         불검출  적합    \n",
       "3  3                                          -    적합    \n",
       "0  세슘\\n요오드\\n판정\\n(기준:100Bq/kg)\\n(기준:100Bq/kg)  NaN  NaN   \n",
       "\n",
       "                                                          8  \n",
       "0  ./tables/001/20190816+기타국가+방사능+검출+현황-page-1-table-1.csv   \n",
       "1  ./tables/001/20190816+기타국가+방사능+검출+현황-page-1-table-1.csv   \n",
       "2  ./tables/001/20190816+기타국가+방사능+검출+현황-page-1-table-1.csv   \n",
       "3  ./tables/001/20190816+기타국가+방사능+검출+현황-page-1-table-1.csv   \n",
       "0  ./tables/002/201900813+기타국가+방사능+검출+현황-page-1-table-1.csv  "
      ]
     },
     "execution_count": 41,
     "metadata": {},
     "output_type": "execute_result"
    }
   ],
   "source": [
    "df_foreign = col_2_df_foreign[9].copy()\n",
    "print(df_foreign.shape)\n",
    "df_foreign.head()"
   ]
  },
  {
   "cell_type": "code",
   "execution_count": 42,
   "metadata": {
    "scrolled": true
   },
   "outputs": [
    {
     "data": {
      "text/html": [
       "<div>\n",
       "<style scoped>\n",
       "    .dataframe tbody tr th:only-of-type {\n",
       "        vertical-align: middle;\n",
       "    }\n",
       "\n",
       "    .dataframe tbody tr th {\n",
       "        vertical-align: top;\n",
       "    }\n",
       "\n",
       "    .dataframe thead th {\n",
       "        text-align: right;\n",
       "    }\n",
       "</style>\n",
       "<table border=\"1\" class=\"dataframe\">\n",
       "  <thead>\n",
       "    <tr style=\"text-align: right;\">\n",
       "      <th></th>\n",
       "      <th>0</th>\n",
       "      <th>1</th>\n",
       "      <th>2</th>\n",
       "      <th>3</th>\n",
       "      <th>4</th>\n",
       "      <th>5</th>\n",
       "      <th>6</th>\n",
       "      <th>7</th>\n",
       "      <th>8</th>\n",
       "    </tr>\n",
       "  </thead>\n",
       "  <tbody>\n",
       "    <tr>\n",
       "      <th>1</th>\n",
       "      <td>합계</td>\n",
       "      <td>NaN</td>\n",
       "      <td>71건</td>\n",
       "      <td>NaN</td>\n",
       "      <td>105,413</td>\n",
       "      <td>NaN</td>\n",
       "      <td>NaN</td>\n",
       "      <td>NaN</td>\n",
       "      <td>./tables/352/20150114_방사능_검사_현황-page-1-table-2.csv</td>\n",
       "    </tr>\n",
       "    <tr>\n",
       "      <th>2</th>\n",
       "      <td>1</td>\n",
       "      <td>당류가공품</td>\n",
       "      <td>에히메현</td>\n",
       "      <td>2014-10-09</td>\n",
       "      <td>161</td>\n",
       "      <td>불검출</td>\n",
       "      <td>불검출</td>\n",
       "      <td>적합</td>\n",
       "      <td>./tables/352/20150114_방사능_검사_현황-page-1-table-2.csv</td>\n",
       "    </tr>\n",
       "    <tr>\n",
       "      <th>3</th>\n",
       "      <td>2</td>\n",
       "      <td>청주</td>\n",
       "      <td>효고현</td>\n",
       "      <td>2014-11-04</td>\n",
       "      <td>114</td>\n",
       "      <td>불검출</td>\n",
       "      <td>불검출</td>\n",
       "      <td>적합</td>\n",
       "      <td>./tables/352/20150114_방사능_검사_현황-page-1-table-2.csv</td>\n",
       "    </tr>\n",
       "    <tr>\n",
       "      <th>4</th>\n",
       "      <td>3</td>\n",
       "      <td>청주</td>\n",
       "      <td>효고현</td>\n",
       "      <td>2014-09-01</td>\n",
       "      <td>95</td>\n",
       "      <td>불검출</td>\n",
       "      <td>불검출</td>\n",
       "      <td>적합</td>\n",
       "      <td>./tables/352/20150114_방사능_검사_현황-page-1-table-2.csv</td>\n",
       "    </tr>\n",
       "    <tr>\n",
       "      <th>5</th>\n",
       "      <td>4</td>\n",
       "      <td>발효식초</td>\n",
       "      <td>도쿄도</td>\n",
       "      <td>2014-11-12</td>\n",
       "      <td>144</td>\n",
       "      <td>불검출</td>\n",
       "      <td>불검출</td>\n",
       "      <td>적합</td>\n",
       "      <td>./tables/352/20150114_방사능_검사_현황-page-1-table-2.csv</td>\n",
       "    </tr>\n",
       "  </tbody>\n",
       "</table>\n",
       "</div>"
      ],
      "text/plain": [
       "    0      1     2           3        4    5    6    7  \\\n",
       "1  합계  NaN    71건   NaN         105,413  NaN  NaN  NaN   \n",
       "2  1   당류가공품  에히메현  2014-10-09  161      불검출  불검출  적합    \n",
       "3  2   청주     효고현   2014-11-04  114      불검출  불검출  적합    \n",
       "4  3   청주     효고현   2014-09-01  95       불검출  불검출  적합    \n",
       "5  4   발효식초   도쿄도   2014-11-12  144      불검출  불검출  적합    \n",
       "\n",
       "                                                    8  \n",
       "1  ./tables/352/20150114_방사능_검사_현황-page-1-table-2.csv  \n",
       "2  ./tables/352/20150114_방사능_검사_현황-page-1-table-2.csv  \n",
       "3  ./tables/352/20150114_방사능_검사_현황-page-1-table-2.csv  \n",
       "4  ./tables/352/20150114_방사능_검사_현황-page-1-table-2.csv  \n",
       "5  ./tables/352/20150114_방사능_검사_현황-page-1-table-2.csv  "
      ]
     },
     "execution_count": 42,
     "metadata": {},
     "output_type": "execute_result"
    }
   ],
   "source": [
    "df_imported.loc[~(df_imported[5].notna() & df_imported[5].str.contains('세슘'))].head()"
   ]
  },
  {
   "cell_type": "code",
   "execution_count": 47,
   "metadata": {},
   "outputs": [],
   "source": [
    "def process_df(df):\n",
    "    df = df.copy()\n",
    "    idx_not_cesium_5 = ~(df[5].notna() & df[5].str.contains('세슘'))\n",
    "    idx_not_cesium_6 = ~(df[6].notna() & df[6].str.contains('세슘'))\n",
    "    idx_not_total = df[0]!='합계'\n",
    "    idx_not_order = df[0]!='순번'\n",
    "    idx_not_null = df.notna().all(axis=1)\n",
    "    df.drop(0, axis=1, inplace=True)\n",
    "    df.columns = ['품목명', '제조·생산지', '제조일자(유통기한)', '수입중량(kg)', '세슘', '요오드', '판정', '파일']\n",
    "    return df[idx_not_cesium_5 & idx_not_cesium_6 & idx_not_total & idx_not_order & idx_not_null]"
   ]
  },
  {
   "cell_type": "code",
   "execution_count": 49,
   "metadata": {
    "scrolled": true
   },
   "outputs": [
    {
     "name": "stdout",
     "output_type": "stream",
     "text": [
      "(138943, 8)\n"
     ]
    },
    {
     "data": {
      "text/html": [
       "<div>\n",
       "<style scoped>\n",
       "    .dataframe tbody tr th:only-of-type {\n",
       "        vertical-align: middle;\n",
       "    }\n",
       "\n",
       "    .dataframe tbody tr th {\n",
       "        vertical-align: top;\n",
       "    }\n",
       "\n",
       "    .dataframe thead th {\n",
       "        text-align: right;\n",
       "    }\n",
       "</style>\n",
       "<table border=\"1\" class=\"dataframe\">\n",
       "  <thead>\n",
       "    <tr style=\"text-align: right;\">\n",
       "      <th></th>\n",
       "      <th>품목명</th>\n",
       "      <th>제조·생산지</th>\n",
       "      <th>제조일자(유통기한)</th>\n",
       "      <th>수입중량(kg)</th>\n",
       "      <th>세슘</th>\n",
       "      <th>요오드</th>\n",
       "      <th>판정</th>\n",
       "      <th>파일</th>\n",
       "    </tr>\n",
       "  </thead>\n",
       "  <tbody>\n",
       "    <tr>\n",
       "      <th>2</th>\n",
       "      <td>당류가공품</td>\n",
       "      <td>에히메현</td>\n",
       "      <td>2014-10-09</td>\n",
       "      <td>161</td>\n",
       "      <td>불검출</td>\n",
       "      <td>불검출</td>\n",
       "      <td>적합</td>\n",
       "      <td>./tables/352/20150114_방사능_검사_현황-page-1-table-2.csv</td>\n",
       "    </tr>\n",
       "    <tr>\n",
       "      <th>3</th>\n",
       "      <td>청주</td>\n",
       "      <td>효고현</td>\n",
       "      <td>2014-11-04</td>\n",
       "      <td>114</td>\n",
       "      <td>불검출</td>\n",
       "      <td>불검출</td>\n",
       "      <td>적합</td>\n",
       "      <td>./tables/352/20150114_방사능_검사_현황-page-1-table-2.csv</td>\n",
       "    </tr>\n",
       "    <tr>\n",
       "      <th>4</th>\n",
       "      <td>청주</td>\n",
       "      <td>효고현</td>\n",
       "      <td>2014-09-01</td>\n",
       "      <td>95</td>\n",
       "      <td>불검출</td>\n",
       "      <td>불검출</td>\n",
       "      <td>적합</td>\n",
       "      <td>./tables/352/20150114_방사능_검사_현황-page-1-table-2.csv</td>\n",
       "    </tr>\n",
       "    <tr>\n",
       "      <th>5</th>\n",
       "      <td>발효식초</td>\n",
       "      <td>도쿄도</td>\n",
       "      <td>2014-11-12</td>\n",
       "      <td>144</td>\n",
       "      <td>불검출</td>\n",
       "      <td>불검출</td>\n",
       "      <td>적합</td>\n",
       "      <td>./tables/352/20150114_방사능_검사_현황-page-1-table-2.csv</td>\n",
       "    </tr>\n",
       "    <tr>\n",
       "      <th>6</th>\n",
       "      <td>청주</td>\n",
       "      <td>효고현</td>\n",
       "      <td>2014-11-13</td>\n",
       "      <td>281</td>\n",
       "      <td>불검출</td>\n",
       "      <td>불검출</td>\n",
       "      <td>적합</td>\n",
       "      <td>./tables/352/20150114_방사능_검사_현황-page-1-table-2.csv</td>\n",
       "    </tr>\n",
       "  </tbody>\n",
       "</table>\n",
       "</div>"
      ],
      "text/plain": [
       "     품목명 제조·생산지  제조일자(유통기한) 수입중량(kg)   세슘  요오드  판정  \\\n",
       "2  당류가공품  에히메현   2014-10-09  161      불검출  불검출  적합   \n",
       "3  청주     효고현    2014-11-04  114      불검출  불검출  적합   \n",
       "4  청주     효고현    2014-09-01  95       불검출  불검출  적합   \n",
       "5  발효식초   도쿄도    2014-11-12  144      불검출  불검출  적합   \n",
       "6  청주     효고현    2014-11-13  281      불검출  불검출  적합   \n",
       "\n",
       "                                                   파일  \n",
       "2  ./tables/352/20150114_방사능_검사_현황-page-1-table-2.csv  \n",
       "3  ./tables/352/20150114_방사능_검사_현황-page-1-table-2.csv  \n",
       "4  ./tables/352/20150114_방사능_검사_현황-page-1-table-2.csv  \n",
       "5  ./tables/352/20150114_방사능_검사_현황-page-1-table-2.csv  \n",
       "6  ./tables/352/20150114_방사능_검사_현황-page-1-table-2.csv  "
      ]
     },
     "execution_count": 49,
     "metadata": {},
     "output_type": "execute_result"
    }
   ],
   "source": [
    "df_processed_imported = process_df(df_imported)\n",
    "print(df_processed_imported.shape)\n",
    "df_processed_imported.head(5)"
   ]
  },
  {
   "cell_type": "code",
   "execution_count": 50,
   "metadata": {
    "scrolled": true
   },
   "outputs": [
    {
     "name": "stdout",
     "output_type": "stream",
     "text": [
      "(43705, 8)\n"
     ]
    },
    {
     "data": {
      "text/html": [
       "<div>\n",
       "<style scoped>\n",
       "    .dataframe tbody tr th:only-of-type {\n",
       "        vertical-align: middle;\n",
       "    }\n",
       "\n",
       "    .dataframe tbody tr th {\n",
       "        vertical-align: top;\n",
       "    }\n",
       "\n",
       "    .dataframe thead th {\n",
       "        text-align: right;\n",
       "    }\n",
       "</style>\n",
       "<table border=\"1\" class=\"dataframe\">\n",
       "  <thead>\n",
       "    <tr style=\"text-align: right;\">\n",
       "      <th></th>\n",
       "      <th>품목명</th>\n",
       "      <th>제조·생산지</th>\n",
       "      <th>제조일자(유통기한)</th>\n",
       "      <th>수입중량(kg)</th>\n",
       "      <th>세슘</th>\n",
       "      <th>요오드</th>\n",
       "      <th>판정</th>\n",
       "      <th>파일</th>\n",
       "    </tr>\n",
       "  </thead>\n",
       "  <tbody>\n",
       "    <tr>\n",
       "      <th>2</th>\n",
       "      <td>활돔(참돔)</td>\n",
       "      <td>에히메현</td>\n",
       "      <td>2017-03-17</td>\n",
       "      <td>4672</td>\n",
       "      <td>불검출</td>\n",
       "      <td>불검출</td>\n",
       "      <td>적합</td>\n",
       "      <td>./tables/184/일본산_수입축수산물_방사능검사_현황(3월17일_완료건)-page-1-table-1.csv</td>\n",
       "    </tr>\n",
       "    <tr>\n",
       "      <th>3</th>\n",
       "      <td>냉장명태</td>\n",
       "      <td>홋카이도</td>\n",
       "      <td>2017-03-17</td>\n",
       "      <td>1157</td>\n",
       "      <td>불검출</td>\n",
       "      <td>불검출</td>\n",
       "      <td>적합</td>\n",
       "      <td>./tables/184/일본산_수입축수산물_방사능검사_현황(3월17일_완료건)-page-1-table-1.csv</td>\n",
       "    </tr>\n",
       "    <tr>\n",
       "      <th>4</th>\n",
       "      <td>냉장명태</td>\n",
       "      <td>홋카이도</td>\n",
       "      <td>2017-03-17</td>\n",
       "      <td>1280</td>\n",
       "      <td>불검출</td>\n",
       "      <td>불검출</td>\n",
       "      <td>적합</td>\n",
       "      <td>./tables/184/일본산_수입축수산물_방사능검사_현황(3월17일_완료건)-page-1-table-1.csv</td>\n",
       "    </tr>\n",
       "    <tr>\n",
       "      <th>5</th>\n",
       "      <td>냉장대구</td>\n",
       "      <td>홋카이도</td>\n",
       "      <td>2017-03-17</td>\n",
       "      <td>490</td>\n",
       "      <td>불검출</td>\n",
       "      <td>불검출</td>\n",
       "      <td>적합</td>\n",
       "      <td>./tables/184/일본산_수입축수산물_방사능검사_현황(3월17일_완료건)-page-1-table-1.csv</td>\n",
       "    </tr>\n",
       "    <tr>\n",
       "      <th>6</th>\n",
       "      <td>냉장명태</td>\n",
       "      <td>홋카이도</td>\n",
       "      <td>2017-03-17</td>\n",
       "      <td>1144</td>\n",
       "      <td>불검출</td>\n",
       "      <td>불검출</td>\n",
       "      <td>적합</td>\n",
       "      <td>./tables/184/일본산_수입축수산물_방사능검사_현황(3월17일_완료건)-page-1-table-1.csv</td>\n",
       "    </tr>\n",
       "  </tbody>\n",
       "</table>\n",
       "</div>"
      ],
      "text/plain": [
       "      품목명 제조·생산지  제조일자(유통기한) 수입중량(kg)   세슘  요오드  판정  \\\n",
       "2  활돔(참돔)  에히메현   2017-03-17  4672     불검출  불검출  적합   \n",
       "3  냉장명태    홋카이도   2017-03-17  1157     불검출  불검출  적합   \n",
       "4  냉장명태    홋카이도   2017-03-17  1280     불검출  불검출  적합   \n",
       "5  냉장대구    홋카이도   2017-03-17  490      불검출  불검출  적합   \n",
       "6  냉장명태    홋카이도   2017-03-17  1144     불검출  불검출  적합   \n",
       "\n",
       "                                                               파일  \n",
       "2  ./tables/184/일본산_수입축수산물_방사능검사_현황(3월17일_완료건)-page-1-table-1.csv  \n",
       "3  ./tables/184/일본산_수입축수산물_방사능검사_현황(3월17일_완료건)-page-1-table-1.csv  \n",
       "4  ./tables/184/일본산_수입축수산물_방사능검사_현황(3월17일_완료건)-page-1-table-1.csv  \n",
       "5  ./tables/184/일본산_수입축수산물_방사능검사_현황(3월17일_완료건)-page-1-table-1.csv  \n",
       "6  ./tables/184/일본산_수입축수산물_방사능검사_현황(3월17일_완료건)-page-1-table-1.csv  "
      ]
     },
     "execution_count": 50,
     "metadata": {},
     "output_type": "execute_result"
    }
   ],
   "source": [
    "df_processed_fish_meat = process_df(df_fish_meat)\n",
    "print(df_processed_fish_meat.shape)\n",
    "df_processed_fish_meat.head()"
   ]
  },
  {
   "cell_type": "code",
   "execution_count": 51,
   "metadata": {
    "scrolled": true
   },
   "outputs": [
    {
     "name": "stdout",
     "output_type": "stream",
     "text": [
      "(509, 8)\n"
     ]
    },
    {
     "data": {
      "text/html": [
       "<div>\n",
       "<style scoped>\n",
       "    .dataframe tbody tr th:only-of-type {\n",
       "        vertical-align: middle;\n",
       "    }\n",
       "\n",
       "    .dataframe tbody tr th {\n",
       "        vertical-align: top;\n",
       "    }\n",
       "\n",
       "    .dataframe thead th {\n",
       "        text-align: right;\n",
       "    }\n",
       "</style>\n",
       "<table border=\"1\" class=\"dataframe\">\n",
       "  <thead>\n",
       "    <tr style=\"text-align: right;\">\n",
       "      <th></th>\n",
       "      <th>품목명</th>\n",
       "      <th>제조·생산지</th>\n",
       "      <th>제조일자(유통기한)</th>\n",
       "      <th>수입중량(kg)</th>\n",
       "      <th>세슘</th>\n",
       "      <th>요오드</th>\n",
       "      <th>판정</th>\n",
       "      <th>파일</th>\n",
       "    </tr>\n",
       "  </thead>\n",
       "  <tbody>\n",
       "    <tr>\n",
       "      <th>2</th>\n",
       "      <td>고형차</td>\n",
       "      <td>러시아연방</td>\n",
       "      <td>2022.07.31.</td>\n",
       "      <td>100</td>\n",
       "      <td>55</td>\n",
       "      <td>불검출</td>\n",
       "      <td>적합</td>\n",
       "      <td>./tables/001/20190816+기타국가+방사능+검출+현황-page-1-table-1.csv</td>\n",
       "    </tr>\n",
       "    <tr>\n",
       "      <th>3</th>\n",
       "      <td>능이/건조</td>\n",
       "      <td>중국</td>\n",
       "      <td>(2019.08.01.)</td>\n",
       "      <td>2,230</td>\n",
       "      <td>3</td>\n",
       "      <td>-</td>\n",
       "      <td>적합</td>\n",
       "      <td>./tables/001/20190816+기타국가+방사능+검출+현황-page-1-table-1.csv</td>\n",
       "    </tr>\n",
       "    <tr>\n",
       "      <th>2</th>\n",
       "      <td>능이버섯/건조</td>\n",
       "      <td>중국</td>\n",
       "      <td>2020.10.31.</td>\n",
       "      <td>429</td>\n",
       "      <td>13</td>\n",
       "      <td>-</td>\n",
       "      <td>적합</td>\n",
       "      <td>./tables/002/201900813+기타국가+방사능+검출+현황-page-1-table-1.csv</td>\n",
       "    </tr>\n",
       "    <tr>\n",
       "      <th>2</th>\n",
       "      <td>잼</td>\n",
       "      <td>스웨덴</td>\n",
       "      <td>2020.10.27.</td>\n",
       "      <td>806</td>\n",
       "      <td>1</td>\n",
       "      <td>불검출</td>\n",
       "      <td>적합</td>\n",
       "      <td>./tables/003/20190809+기타국가+방사능+검출+현황-page-1-table-1.csv</td>\n",
       "    </tr>\n",
       "    <tr>\n",
       "      <th>3</th>\n",
       "      <td>차가버섯/건조</td>\n",
       "      <td>러시아연방</td>\n",
       "      <td>(2019.6.13.)</td>\n",
       "      <td>3,520</td>\n",
       "      <td>18</td>\n",
       "      <td>불검출</td>\n",
       "      <td>적합</td>\n",
       "      <td>./tables/003/20190809+기타국가+방사능+검출+현황-page-1-table-1.csv</td>\n",
       "    </tr>\n",
       "  </tbody>\n",
       "</table>\n",
       "</div>"
      ],
      "text/plain": [
       "       품목명 제조·생산지     제조일자(유통기한) 수입중량(kg)  세슘  요오드  판정  \\\n",
       "2  고형차      러시아연방  2022.07.31.    100      55  불검출  적합   \n",
       "3  능이/건조    중국     (2019.08.01.)  2,230    3   -    적합   \n",
       "2  능이버섯/건조  중국     2020.10.31.    429      13  -    적합   \n",
       "2  잼        스웨덴    2020.10.27.    806      1   불검출  적합   \n",
       "3  차가버섯/건조  러시아연방  (2019.6.13.)   3,520    18  불검출  적합   \n",
       "\n",
       "                                                         파일  \n",
       "2  ./tables/001/20190816+기타국가+방사능+검출+현황-page-1-table-1.csv   \n",
       "3  ./tables/001/20190816+기타국가+방사능+검출+현황-page-1-table-1.csv   \n",
       "2  ./tables/002/201900813+기타국가+방사능+검출+현황-page-1-table-1.csv  \n",
       "2  ./tables/003/20190809+기타국가+방사능+검출+현황-page-1-table-1.csv   \n",
       "3  ./tables/003/20190809+기타국가+방사능+검출+현황-page-1-table-1.csv   "
      ]
     },
     "execution_count": 51,
     "metadata": {},
     "output_type": "execute_result"
    }
   ],
   "source": [
    "df_processed_foreign = process_df(df_foreign)\n",
    "print(df_processed_foreign.shape)\n",
    "df_processed_foreign.head()"
   ]
  },
  {
   "cell_type": "code",
   "execution_count": 58,
   "metadata": {},
   "outputs": [],
   "source": [
    "# df_processed_imported.to_csv('imported.tsv', sep='\\t', index=False)"
   ]
  },
  {
   "cell_type": "code",
   "execution_count": 59,
   "metadata": {},
   "outputs": [],
   "source": [
    "# df_processed_fish_meat.to_csv('fish_meat.tsv', sep='\\t', index=False)"
   ]
  },
  {
   "cell_type": "code",
   "execution_count": 60,
   "metadata": {},
   "outputs": [],
   "source": [
    "# df_processed_foreign.to_csv('foreign.tsv', sep='\\t', index=False)"
   ]
  },
  {
   "cell_type": "markdown",
   "metadata": {},
   "source": [
    "12 columns는 종합 결과. 필요 없음  \n",
    "7, 6, 2 컬럼은 9 컬럼의 오류 버젼. 수정 필요\n",
    "\n",
    "Idea\n",
    "1. 한 row의 모든 값을 \\n으로 조인\n",
    "2. \\n으로 다시 스플릿하면 9컬럼이 나올 것이다"
   ]
  },
  {
   "cell_type": "code",
   "execution_count": null,
   "metadata": {},
   "outputs": [],
   "source": [
    "def get_fixed_df_from(flawed):\n",
    "    data = []\n",
    "    for idx, row in flawed.iterrows():\n",
    "        tmp = row.tolist()\n",
    "        tmp2 = [str(e) for e in tmp if pd.notna(e)]\n",
    "        joined = '\\n'.join(tmp2)\n",
    "        # exception handling\n",
    "        joined = joined.replace('\\n(세균성)', '(세균성)')\n",
    "        if '세슘' not in joined:\n",
    "            splitted = joined.split('\\n')\n",
    "            data.append(splitted)\n",
    "    return pd.DataFrame(data=data,)"
   ]
  },
  {
   "cell_type": "code",
   "execution_count": null,
   "metadata": {},
   "outputs": [],
   "source": [
    "def post_process_df(fixed):\n",
    "    idx_4th_numeric = fixed[4].str.replace(',','').str.replace('.','').str.isdecimal()\n",
    "    idx_5th_nominal = (fixed[5].isin(['검출','불검출']))\n",
    "    idx_6th_nominal = (fixed[6].isin(['검출','불검출']))\n",
    "    return fixed[idx_4th_numeric & idx_5th_nominal & idx_6th_nominal]"
   ]
  },
  {
   "cell_type": "code",
   "execution_count": null,
   "metadata": {
    "scrolled": true
   },
   "outputs": [],
   "source": [
    "# tmp = get_fixed_df_from(col_2_df_imported[7])\n",
    "# print(len(tmp))\n",
    "# tmp"
   ]
  },
  {
   "cell_type": "code",
   "execution_count": null,
   "metadata": {
    "scrolled": true
   },
   "outputs": [],
   "source": [
    "# tmp2 = post_process_df(tmp)\n",
    "# print(len(tmp2))\n",
    "# tmp2"
   ]
  },
  {
   "cell_type": "code",
   "execution_count": null,
   "metadata": {},
   "outputs": [],
   "source": []
  },
  {
   "cell_type": "code",
   "execution_count": null,
   "metadata": {},
   "outputs": [],
   "source": []
  },
  {
   "cell_type": "code",
   "execution_count": null,
   "metadata": {},
   "outputs": [],
   "source": []
  },
  {
   "cell_type": "code",
   "execution_count": null,
   "metadata": {},
   "outputs": [],
   "source": []
  },
  {
   "cell_type": "code",
   "execution_count": null,
   "metadata": {},
   "outputs": [],
   "source": []
  },
  {
   "cell_type": "code",
   "execution_count": null,
   "metadata": {},
   "outputs": [],
   "source": []
  },
  {
   "cell_type": "code",
   "execution_count": null,
   "metadata": {},
   "outputs": [],
   "source": []
  },
  {
   "cell_type": "code",
   "execution_count": null,
   "metadata": {},
   "outputs": [],
   "source": []
  }
 ],
 "metadata": {
  "kernelspec": {
   "display_name": "Workspace",
   "language": "python",
   "name": "workspace"
  },
  "language_info": {
   "codemirror_mode": {
    "name": "ipython",
    "version": 3
   },
   "file_extension": ".py",
   "mimetype": "text/x-python",
   "name": "python",
   "nbconvert_exporter": "python",
   "pygments_lexer": "ipython3",
   "version": "3.6.6"
  },
  "toc": {
   "base_numbering": 1,
   "nav_menu": {},
   "number_sections": true,
   "sideBar": true,
   "skip_h1_title": false,
   "title_cell": "Table of Contents",
   "title_sidebar": "Contents",
   "toc_cell": false,
   "toc_position": {
    "height": "calc(100% - 180px)",
    "left": "10px",
    "top": "150px",
    "width": "310px"
   },
   "toc_section_display": true,
   "toc_window_display": true
  }
 },
 "nbformat": 4,
 "nbformat_minor": 2
}
