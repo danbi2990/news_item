{
 "cells": [
  {
   "cell_type": "markdown",
   "metadata": {},
   "source": [
    "# Import"
   ]
  },
  {
   "cell_type": "code",
   "execution_count": 2,
   "metadata": {},
   "outputs": [],
   "source": [
    "import os\n",
    "import pandas as pd"
   ]
  },
  {
   "cell_type": "markdown",
   "metadata": {},
   "source": [
    "# Functions"
   ]
  },
  {
   "cell_type": "code",
   "execution_count": 22,
   "metadata": {},
   "outputs": [
    {
     "name": "stdout",
     "output_type": "stream",
     "text": [
      "['browser-TH-monthly-201801-201901.csv', 'browser-AD-monthly-201801-201901.csv']\n",
      "False\n",
      "47\n",
      "41\n",
      "set()\n"
     ]
    }
   ],
   "source": [
    "def get_files(dir_):\n",
    "    return [f for f in os.listdir(dir_) if '.csv' in f]\n",
    "\n",
    "\n",
    "def validate_file(file):\n",
    "    with open(file) as f:\n",
    "        text = f.read()\n",
    "    return not (('fail' in text) and ('error' in text))\n",
    "\n",
    "\n",
    "def get_valid_files(dir_):\n",
    "    return [f for f in get_files(dir_) if validate_file(dir_ + f)]\n",
    "\n",
    "\n",
    "def get_files_to_move(src, dst):\n",
    "#     from shutil import move\n",
    "#     from os.path import isfile\n",
    "    \n",
    "#     files_dst = get_files(dst + file)\n",
    "#     files_src = get_files(src + file)\n",
    "    \n",
    "#     for file in files_src:\n",
    "#         if isfile(src + file):\n",
    "    \n",
    "    files_src = set(get_valid_files(src))\n",
    "    files_dst = set(get_valid_files(dst))\n",
    "    print(len(files_src))\n",
    "    print(len(files_dst))\n",
    "\n",
    "    files_to_move = files_dst - files_src\n",
    "    return files_to_move\n",
    "    \n",
    "\n",
    "dir_item = '/home/jake/Documents/News_Item/Browser/'\n",
    "dir_arch = dir_item + 'archive/'\n",
    "dir_arch2 = dir_item + 'archive2/'\n",
    "\n",
    "files = get_files(dir_arch)\n",
    "print(files[:2])\n",
    "len(files)\n",
    "\n",
    "print(validate_file(dir_arch + files[0]))\n",
    "\n",
    "print(get_files_to_move(dir_arch2, dir_item))"
   ]
  },
  {
   "cell_type": "markdown",
   "metadata": {},
   "source": [
    "# Const"
   ]
  },
  {
   "cell_type": "code",
   "execution_count": null,
   "metadata": {},
   "outputs": [],
   "source": []
  },
  {
   "cell_type": "code",
   "execution_count": null,
   "metadata": {},
   "outputs": [],
   "source": []
  }
 ],
 "metadata": {
  "kernelspec": {
   "display_name": "Workspace",
   "language": "python",
   "name": "workspace"
  },
  "language_info": {
   "codemirror_mode": {
    "name": "ipython",
    "version": 3
   },
   "file_extension": ".py",
   "mimetype": "text/x-python",
   "name": "python",
   "nbconvert_exporter": "python",
   "pygments_lexer": "ipython3",
   "version": "3.6.6"
  },
  "toc": {
   "base_numbering": 1,
   "nav_menu": {},
   "number_sections": true,
   "sideBar": true,
   "skip_h1_title": false,
   "title_cell": "Table of Contents",
   "title_sidebar": "Contents",
   "toc_cell": false,
   "toc_position": {},
   "toc_section_display": true,
   "toc_window_display": true
  }
 },
 "nbformat": 4,
 "nbformat_minor": 2
}
