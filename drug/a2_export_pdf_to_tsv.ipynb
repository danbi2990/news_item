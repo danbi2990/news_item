{
 "cells": [
  {
   "cell_type": "code",
   "execution_count": 1,
   "metadata": {},
   "outputs": [],
   "source": [
    "import matplotlib.pyplot as plt\n",
    "import camelot"
   ]
  },
  {
   "cell_type": "markdown",
   "metadata": {},
   "source": [
    "# Load"
   ]
  },
  {
   "cell_type": "code",
   "execution_count": 10,
   "metadata": {},
   "outputs": [
    {
     "data": {
      "text/plain": [
       "['/home/jake/Documents/News_Item/Drug/2015_1.pdf',\n",
       " '/home/jake/Documents/News_Item/Drug/2015_2.pdf',\n",
       " '/home/jake/Documents/News_Item/Drug/2015_3.pdf',\n",
       " '/home/jake/Documents/News_Item/Drug/2015_4.pdf',\n",
       " '/home/jake/Documents/News_Item/Drug/2015_5.pdf',\n",
       " '/home/jake/Documents/News_Item/Drug/2015_6.pdf',\n",
       " '/home/jake/Documents/News_Item/Drug/2015_7.pdf',\n",
       " '/home/jake/Documents/News_Item/Drug/2015_8.pdf',\n",
       " '/home/jake/Documents/News_Item/Drug/2015_9.pdf',\n",
       " '/home/jake/Documents/News_Item/Drug/2015_10.pdf',\n",
       " '/home/jake/Documents/News_Item/Drug/2015_11.pdf',\n",
       " '/home/jake/Documents/News_Item/Drug/2015_12.pdf']"
      ]
     },
     "execution_count": 10,
     "metadata": {},
     "output_type": "execute_result"
    }
   ],
   "source": [
    "dir_item = '/home/jake/Documents/News_Item/'\n",
    "dir_proj = dir_item + 'Drug/'\n",
    "dir_tableau = dir_proj + 'tableau_data/'\n",
    "\n",
    "files = [f'{dir_proj}2015_{i}.pdf' for i in range(1, 13)]\n",
    "files\n",
    "\n",
    "# table0 = camelot.read_pdf(file0, pages='1-end')\n",
    "# table1 = camelot.read_pdf(file1, pages='1-end')\n",
    "\n",
    "# tables.export('foo.csv', f='csv', compress=True) # json, excel, html, sqlite\n",
    "# tables[0]\n",
    "# tables[0].parsing_report\n",
    "# tables[0].to_csv('foo.csv') # to_json, to_excel, to_html, to_sqlite\n",
    "# tables[0].df # get a pandas DataFrame!"
   ]
  },
  {
   "cell_type": "markdown",
   "metadata": {},
   "source": [
    "# Functions"
   ]
  },
  {
   "cell_type": "code",
   "execution_count": 11,
   "metadata": {
    "scrolled": true
   },
   "outputs": [],
   "source": [
    "def export_pdf_to_csv(pdf_file_name):\n",
    "    import camelot\n",
    "    import os\n",
    "    file_name_wo_ext = os.path.splitext(pdf_file_name)[0]\n",
    "    \n",
    "    tables = camelot.read_pdf(pdf_file_name, pages='1-end')\n",
    "    for i, t in enumerate(tables):\n",
    "        df = t.df\n",
    "        df.to_csv(f'{file_name_wo_ext}_{i}.tsv', index=False, sep='\\t')\n",
    "\n",
    "\n",
    "for file in files:\n",
    "    export_pdf_to_csv(file)\n",
    "# export_table_to_csv('2016_12.pdf', table0[0])\n",
    "\n",
    "# indices = [\n",
    "#     slice(3, 4), slice(1, 5), slice(3, 4), slice(2, 3), slice(1, 5), slice(2, 3), slice(1, 21), slice(2, 6), slice(1, 15), slice(2, 34),\n",
    "# ]\n",
    "\n",
    "# for i in range(len(indices)):\n",
    "#     print(get_df_table(table0[i].df, indices[i]))\n",
    "\n",
    "\n",
    "# 2016_4_2.csv"
   ]
  },
  {
   "cell_type": "code",
   "execution_count": null,
   "metadata": {},
   "outputs": [],
   "source": []
  },
  {
   "cell_type": "code",
   "execution_count": null,
   "metadata": {},
   "outputs": [],
   "source": []
  },
  {
   "cell_type": "code",
   "execution_count": 4,
   "metadata": {},
   "outputs": [],
   "source": [
    "# def get_df_pdf(table):\n",
    "#     print(table)\n",
    "#     print(table.parsing_report)\n",
    "#     return table.df\n",
    "\n",
    "\n",
    "# def get_df_table(df, slice_):\n",
    "#     return df.values[slice_]\n",
    "\n",
    "\n",
    "# def export_table_to_csv(pdf_file_name, table):\n",
    "#     import os\n",
    "#     file_name_wo_ext = os.path.splitext(pdf_file_name)[0]\n",
    "#     df = table.df\n",
    "#     df.to_csv(f'{dir_proj}{file_name_wo_ext}_{i}.tsv', index=False, sep='\\t')\n"
   ]
  },
  {
   "cell_type": "code",
   "execution_count": 5,
   "metadata": {},
   "outputs": [],
   "source": [
    "# import textract\n",
    "# text = textract.process(file, layout=True)\n",
    "\n",
    "# print(text[:200])"
   ]
  },
  {
   "cell_type": "code",
   "execution_count": 6,
   "metadata": {},
   "outputs": [],
   "source": [
    "# import chardet\n",
    "\n",
    "# with open(file, 'rb') as f:\n",
    "#     det = chardet.detect(f.read())\n",
    "    \n",
    "#     print(det)"
   ]
  }
 ],
 "metadata": {
  "kernelspec": {
   "display_name": "Workspace",
   "language": "python",
   "name": "workspace"
  },
  "language_info": {
   "codemirror_mode": {
    "name": "ipython",
    "version": 3
   },
   "file_extension": ".py",
   "mimetype": "text/x-python",
   "name": "python",
   "nbconvert_exporter": "python",
   "pygments_lexer": "ipython3",
   "version": "3.6.6"
  },
  "toc": {
   "base_numbering": 1,
   "nav_menu": {},
   "number_sections": true,
   "sideBar": true,
   "skip_h1_title": false,
   "title_cell": "Table of Contents",
   "title_sidebar": "Contents",
   "toc_cell": false,
   "toc_position": {
    "height": "calc(100% - 180px)",
    "left": "10px",
    "top": "150px",
    "width": "170px"
   },
   "toc_section_display": true,
   "toc_window_display": true
  }
 },
 "nbformat": 4,
 "nbformat_minor": 2
}
