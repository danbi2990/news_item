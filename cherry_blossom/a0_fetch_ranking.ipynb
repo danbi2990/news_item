{
 "cells": [
  {
   "cell_type": "code",
   "execution_count": 1,
   "metadata": {
    "code_folding": []
   },
   "outputs": [],
   "source": [
    "# Import\n",
    "import pandas as pd\n",
    "\n",
    "import requests\n",
    "from bs4 import BeautifulSoup as bs\n",
    "\n",
    "import src.mongos as mg"
   ]
  },
  {
   "cell_type": "markdown",
   "metadata": {},
   "source": [
    "# Functions"
   ]
  },
  {
   "cell_type": "code",
   "execution_count": 2,
   "metadata": {
    "code_folding": [
     0
    ]
   },
   "outputs": [],
   "source": [
    "def get_soup(year, week, service):\n",
    "\n",
    "    url = f'http://www.gaonchart.co.kr/main/section/chart/online.gaon?\\\n",
    "    nationGbn=T&serviceGbn={service}&targetTime={week}&hitYear={year}\\\n",
    "    &termGbn=week'\n",
    "\n",
    "    r = requests.get(url)\n",
    "    return bs(r.text)"
   ]
  },
  {
   "cell_type": "code",
   "execution_count": 3,
   "metadata": {
    "code_folding": [
     0
    ]
   },
   "outputs": [],
   "source": [
    "def get_date_and_tr_list(soup):\n",
    "    try:\n",
    "        date = soup.select('#chart_week_select option[selected=\"\"]')[0].get_text()\n",
    "    except IndexError:\n",
    "        date = None\n",
    "    tr_list = soup.select('div.chart tr')\n",
    "    return date, tr_list"
   ]
  },
  {
   "cell_type": "code",
   "execution_count": 4,
   "metadata": {
    "code_folding": [
     0
    ]
   },
   "outputs": [],
   "source": [
    "def get_ranking_dict(tr):\n",
    "#     list_td = tr.select('td'); list_td\n",
    "    ranking = tr.select_one('td.ranking').get_text(); ranking\n",
    "    change_span = tr.select_one('td.change').select_one('span'); change_span\n",
    "    change1 = change_span.get('class', [''])[0]; change1\n",
    "    change2 = change_span.get_text(); change2\n",
    "    change = change1 + change2; change\n",
    "    try:\n",
    "        album_img_src = tr.select_one('td.albuming').find('img')['src']; album_img_src\n",
    "    except:\n",
    "        album_img_src = ''\n",
    "    subject_p = tr.select_one('td.subject').select('p'); subject_p\n",
    "    subject = subject_p[0]['title']; subject\n",
    "    singer_and_album = subject_p[1]['title']; singer_and_album\n",
    "    singer, album = [x.strip() for x in singer_and_album.split('|')];\n",
    "    count_td = tr.select_one('td.count')\n",
    "    if count_td:\n",
    "        gaon_score = count_td.find('p').get_text(); gaon_score\n",
    "    else:\n",
    "        gaon_score = None\n",
    "    production_p = tr.select_one('td.production').select('p'); production_p\n",
    "    production = production_p[0]['title']\n",
    "    distribution = production_p[1]['title']\n",
    "    return {\n",
    "        'ranking': ranking,\n",
    "        'change': change,\n",
    "        'album_img_src': album_img_src,\n",
    "        'subject': subject,\n",
    "        'singer': singer,\n",
    "        'album': album,\n",
    "        'gaon_score': gaon_score,\n",
    "        'production': production,\n",
    "        'distribution': distribution\n",
    "    }"
   ]
  },
  {
   "cell_type": "code",
   "execution_count": 5,
   "metadata": {
    "code_folding": [
     0
    ]
   },
   "outputs": [],
   "source": [
    "def get_ranking_list(tr_list):\n",
    "    result = []\n",
    "    for tr in tr_list:\n",
    "        ranking_dict = get_ranking_dict(tr)\n",
    "        result.append(ranking_dict)\n",
    "\n",
    "    return result"
   ]
  },
  {
   "cell_type": "code",
   "execution_count": 6,
   "metadata": {
    "code_folding": [
     0
    ]
   },
   "outputs": [],
   "source": [
    "def get_ranking_df(ranking_list, year, week, date):\n",
    "    ranking_dict = pd.DataFrame(data=ranking_list)\n",
    "    ranking_dict['year'] = year\n",
    "    ranking_dict['week'] = week\n",
    "    ranking_dict['date'] = date if date else (year + week)\n",
    "    return ranking_dict"
   ]
  },
  {
   "cell_type": "code",
   "execution_count": 7,
   "metadata": {
    "code_folding": [
     0
    ]
   },
   "outputs": [],
   "source": [
    "def get_year_week_list():\n",
    "    '''\n",
    "    2019: <= 12\n",
    "    2018: 52\n",
    "    2017: 52\n",
    "    2016: 53\n",
    "    2015: 53\n",
    "    2014: 52\n",
    "    2013: 52\n",
    "    2012: 52\n",
    "    2011: 53\n",
    "    2010: 01 ~ 52\n",
    "    '''\n",
    "    service = 'ALL'\n",
    "    \n",
    "    year_week_list = []\n",
    "    for y in range(2010, 2020):\n",
    "        year = str(y)\n",
    "        for w in range(1, 54):\n",
    "            if (y == 2019) and (w > 12):\n",
    "                continue\n",
    "            elif (y in [2018, 2017, 2014, 2013, 2012, 2010]) and (w == 53):\n",
    "                continue\n",
    "            else:\n",
    "                week = f'{w:0>2}'\n",
    "                year_week_list.append((year, week))\n",
    "    \n",
    "    return year_week_list\n",
    "\n",
    "# get_year_week_list()"
   ]
  },
  {
   "cell_type": "code",
   "execution_count": 8,
   "metadata": {},
   "outputs": [],
   "source": [
    "def fetch_ranking_df(year, week, service):\n",
    "    soup = get_soup(year, week, service)\n",
    "    date, tr_list = get_date_and_tr_list(soup)\n",
    "    try:\n",
    "        ranking_list = get_ranking_list(tr_list[1:])  # Ignore Header row\n",
    "    except IndexError as e:\n",
    "        print(year + week)\n",
    "        raise e\n",
    "    ranking_df = get_ranking_df(ranking_list, year, week, date)\n",
    "    return ranking_df"
   ]
  },
  {
   "cell_type": "code",
   "execution_count": 9,
   "metadata": {
    "code_folding": []
   },
   "outputs": [],
   "source": [
    "def fetch_all_ranking_and_save(service='ALL'):\n",
    "    year_week_list = get_year_week_list()\n",
    "    for year, week in year_week_list:\n",
    "        ranking_df = fetch_ranking_df(year, week, service)\n",
    "        mg.to_mongo(ranking_df, 'gaon', 'all', )"
   ]
  },
  {
   "cell_type": "code",
   "execution_count": 10,
   "metadata": {
    "scrolled": true
   },
   "outputs": [],
   "source": [
    "# fetch_all_ranking_and_save()"
   ]
  },
  {
   "cell_type": "code",
   "execution_count": 11,
   "metadata": {},
   "outputs": [
    {
     "name": "stderr",
     "output_type": "stream",
     "text": [
      "/home/jake/.virtualenvs/workspace/lib/python3.6/site-packages/bs4/__init__.py:181: UserWarning: No parser was explicitly specified, so I'm using the best available HTML parser for this system (\"lxml\"). This usually isn't a problem, but if you run this code on another system, or in a different virtual environment, it may use a different parser and behave differently.\n",
      "\n",
      "The code that caused this warning is on line 193 of the file /usr/lib/python3.6/runpy.py. To get rid of this warning, change code that looks like this:\n",
      "\n",
      " BeautifulSoup([your markup])\n",
      "\n",
      "to this:\n",
      "\n",
      " BeautifulSoup([your markup], \"lxml\")\n",
      "\n",
      "  markup_type=markup_type))\n"
     ]
    },
    {
     "data": {
      "text/html": [
       "<div>\n",
       "<style scoped>\n",
       "    .dataframe tbody tr th:only-of-type {\n",
       "        vertical-align: middle;\n",
       "    }\n",
       "\n",
       "    .dataframe tbody tr th {\n",
       "        vertical-align: top;\n",
       "    }\n",
       "\n",
       "    .dataframe thead th {\n",
       "        text-align: right;\n",
       "    }\n",
       "</style>\n",
       "<table border=\"1\" class=\"dataframe\">\n",
       "  <thead>\n",
       "    <tr style=\"text-align: right;\">\n",
       "      <th></th>\n",
       "      <th>album</th>\n",
       "      <th>album_img_src</th>\n",
       "      <th>change</th>\n",
       "      <th>distribution</th>\n",
       "      <th>gaon_score</th>\n",
       "      <th>production</th>\n",
       "      <th>ranking</th>\n",
       "      <th>singer</th>\n",
       "      <th>subject</th>\n",
       "      <th>year</th>\n",
       "      <th>week</th>\n",
       "      <th>date</th>\n",
       "    </tr>\n",
       "  </thead>\n",
       "  <tbody>\n",
       "    <tr>\n",
       "      <th>0</th>\n",
       "      <td>사계 (Four Seasons)</td>\n",
       "      <td></td>\n",
       "      <td>newnew</td>\n",
       "      <td>IRIVER</td>\n",
       "      <td>69,891,643</td>\n",
       "      <td>SM Entertainment</td>\n",
       "      <td>1</td>\n",
       "      <td>태연 (TAEYEON)</td>\n",
       "      <td>사계 (Four Seasons)</td>\n",
       "      <td>2019</td>\n",
       "      <td>13</td>\n",
       "      <td>2019.03.24~2019.03.30</td>\n",
       "    </tr>\n",
       "    <tr>\n",
       "      <th>1</th>\n",
       "      <td>장범준 3집</td>\n",
       "      <td></td>\n",
       "      <td>up10</td>\n",
       "      <td>카카오 M</td>\n",
       "      <td>61,581,453</td>\n",
       "      <td>버스커버스커</td>\n",
       "      <td>2</td>\n",
       "      <td>장범준</td>\n",
       "      <td>당신과는 천천히</td>\n",
       "      <td>2019</td>\n",
       "      <td>13</td>\n",
       "      <td>2019.03.24~2019.03.30</td>\n",
       "    </tr>\n",
       "    <tr>\n",
       "      <th>2</th>\n",
       "      <td>Our love is great</td>\n",
       "      <td></td>\n",
       "      <td>down2</td>\n",
       "      <td>IRIVER</td>\n",
       "      <td>48,153,538</td>\n",
       "      <td>JYP Entertainment</td>\n",
       "      <td>3</td>\n",
       "      <td>백예린</td>\n",
       "      <td>그건 아마 우리의 잘못은 아닐 거야</td>\n",
       "      <td>2019</td>\n",
       "      <td>13</td>\n",
       "      <td>2019.03.24~2019.03.30</td>\n",
       "    </tr>\n",
       "    <tr>\n",
       "      <th>3</th>\n",
       "      <td>FLY HIGH PROJECT #2 `옥탑방`</td>\n",
       "      <td></td>\n",
       "      <td>-</td>\n",
       "      <td>카카오 M</td>\n",
       "      <td>41,879,085</td>\n",
       "      <td>FNC엔터테인먼트</td>\n",
       "      <td>4</td>\n",
       "      <td>엔플라잉 (N.Flying)</td>\n",
       "      <td>옥탑방</td>\n",
       "      <td>2019</td>\n",
       "      <td>13</td>\n",
       "      <td>2019.03.24~2019.03.30</td>\n",
       "    </tr>\n",
       "    <tr>\n",
       "      <th>4</th>\n",
       "      <td>sleepless in __________</td>\n",
       "      <td></td>\n",
       "      <td>down3</td>\n",
       "      <td>카카오 M</td>\n",
       "      <td>38,925,829</td>\n",
       "      <td>OURS Co.</td>\n",
       "      <td>5</td>\n",
       "      <td>에픽하이 (EPIK HIGH)</td>\n",
       "      <td>술이 달다 (Feat. 크러쉬)</td>\n",
       "      <td>2019</td>\n",
       "      <td>13</td>\n",
       "      <td>2019.03.24~2019.03.30</td>\n",
       "    </tr>\n",
       "  </tbody>\n",
       "</table>\n",
       "</div>"
      ],
      "text/plain": [
       "                       album album_img_src  change distribution  gaon_score  \\\n",
       "0          사계 (Four Seasons)                newnew       IRIVER  69,891,643   \n",
       "1                     장범준 3집                  up10        카카오 M  61,581,453   \n",
       "2          Our love is great                 down2       IRIVER  48,153,538   \n",
       "3  FLY HIGH PROJECT #2 `옥탑방`                     -        카카오 M  41,879,085   \n",
       "4    sleepless in __________                 down3        카카오 M  38,925,829   \n",
       "\n",
       "          production ranking            singer              subject  year  \\\n",
       "0   SM Entertainment       1      태연 (TAEYEON)    사계 (Four Seasons)  2019   \n",
       "1             버스커버스커       2               장범준             당신과는 천천히  2019   \n",
       "2  JYP Entertainment       3               백예린  그건 아마 우리의 잘못은 아닐 거야  2019   \n",
       "3          FNC엔터테인먼트       4   엔플라잉 (N.Flying)                  옥탑방  2019   \n",
       "4           OURS Co.       5  에픽하이 (EPIK HIGH)    술이 달다 (Feat. 크러쉬)  2019   \n",
       "\n",
       "  week                   date  \n",
       "0   13  2019.03.24~2019.03.30  \n",
       "1   13  2019.03.24~2019.03.30  \n",
       "2   13  2019.03.24~2019.03.30  \n",
       "3   13  2019.03.24~2019.03.30  \n",
       "4   13  2019.03.24~2019.03.30  "
      ]
     },
     "execution_count": 11,
     "metadata": {},
     "output_type": "execute_result"
    }
   ],
   "source": [
    "# df = fetch_ranking_df('2019', '13', 'ALL'); df.head()"
   ]
  },
  {
   "cell_type": "code",
   "execution_count": 13,
   "metadata": {},
   "outputs": [
    {
     "name": "stdout",
     "output_type": "stream",
     "text": [
      "Inserted rows: 200\n"
     ]
    }
   ],
   "source": [
    "# mg.to_mongo(df, 'gaon', 'all',)"
   ]
  },
  {
   "cell_type": "code",
   "execution_count": 12,
   "metadata": {},
   "outputs": [],
   "source": [
    "# soup = get_soup('2010', '01', 'ALL')\n",
    "# soup"
   ]
  },
  {
   "cell_type": "code",
   "execution_count": null,
   "metadata": {},
   "outputs": [],
   "source": []
  }
 ],
 "metadata": {
  "kernelspec": {
   "display_name": "Workspace",
   "language": "python",
   "name": "workspace"
  },
  "language_info": {
   "codemirror_mode": {
    "name": "ipython",
    "version": 3
   },
   "file_extension": ".py",
   "mimetype": "text/x-python",
   "name": "python",
   "nbconvert_exporter": "python",
   "pygments_lexer": "ipython3",
   "version": "3.6.6"
  },
  "toc": {
   "base_numbering": 1,
   "nav_menu": {},
   "number_sections": true,
   "sideBar": true,
   "skip_h1_title": false,
   "title_cell": "Table of Contents",
   "title_sidebar": "Contents",
   "toc_cell": false,
   "toc_position": {
    "height": "calc(100% - 180px)",
    "left": "10px",
    "top": "150px",
    "width": "231px"
   },
   "toc_section_display": true,
   "toc_window_display": true
  }
 },
 "nbformat": 4,
 "nbformat_minor": 2
}
